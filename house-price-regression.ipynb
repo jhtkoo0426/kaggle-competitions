{
 "cells": [
  {
   "cell_type": "markdown",
   "id": "6e98f66d",
   "metadata": {
    "papermill": {
     "duration": 0.005076,
     "end_time": "2023-10-20T12:47:59.630533",
     "exception": false,
     "start_time": "2023-10-20T12:47:59.625457",
     "status": "completed"
    },
    "tags": []
   },
   "source": [
    "## Import packages"
   ]
  },
  {
   "cell_type": "code",
   "execution_count": 1,
   "id": "c082b5ff",
   "metadata": {
    "_cell_guid": "b1076dfc-b9ad-4769-8c92-a6c4dae69d19",
    "_uuid": "8f2839f25d086af736a60e9eeb907d3b93b6e0e5",
    "execution": {
     "iopub.execute_input": "2023-10-20T12:47:59.641553Z",
     "iopub.status.busy": "2023-10-20T12:47:59.640935Z",
     "iopub.status.idle": "2023-10-20T12:48:02.006226Z",
     "shell.execute_reply": "2023-10-20T12:48:02.005282Z"
    },
    "papermill": {
     "duration": 2.37338,
     "end_time": "2023-10-20T12:48:02.008575",
     "exception": false,
     "start_time": "2023-10-20T12:47:59.635195",
     "status": "completed"
    },
    "tags": []
   },
   "outputs": [],
   "source": [
    "import numpy as np\n",
    "import pandas as pd\n",
    "\n",
    "import matplotlib.pyplot as plt\n",
    "import seaborn as sns\n",
    "\n",
    "from sklearn.linear_model import LinearRegression\n",
    "from sklearn.preprocessing import StandardScaler\n",
    "from sklearn.model_selection import train_test_split\n",
    "from sklearn.metrics import r2_score"
   ]
  },
  {
   "cell_type": "code",
   "execution_count": 2,
   "id": "72ddb3cf",
   "metadata": {
    "execution": {
     "iopub.execute_input": "2023-10-20T12:48:02.020013Z",
     "iopub.status.busy": "2023-10-20T12:48:02.019238Z",
     "iopub.status.idle": "2023-10-20T12:48:02.023343Z",
     "shell.execute_reply": "2023-10-20T12:48:02.022560Z"
    },
    "papermill": {
     "duration": 0.01185,
     "end_time": "2023-10-20T12:48:02.025230",
     "exception": false,
     "start_time": "2023-10-20T12:48:02.013380",
     "status": "completed"
    },
    "tags": []
   },
   "outputs": [],
   "source": [
    "# Fixed variables\n",
    "RANDOM_STATE = 12\n",
    "\n",
    "# Path variables\n",
    "TRAIN_CSV_PATH = \"/kaggle/input/house-prices-advanced-regression-techniques/train.csv\"\n",
    "TEST_CSV_PATH = \"/kaggle/input/house-prices-advanced-regression-techniques/test.csv\""
   ]
  },
  {
   "cell_type": "markdown",
   "id": "c196d0d2",
   "metadata": {
    "papermill": {
     "duration": 0.004362,
     "end_time": "2023-10-20T12:48:02.034198",
     "exception": false,
     "start_time": "2023-10-20T12:48:02.029836",
     "status": "completed"
    },
    "tags": []
   },
   "source": [
    "## Data preprocessing\n",
    "In this section, we will perform the following preprocessing techniques to the training dataset:\n",
    "1. Removing irrelevant columns such as null-valued columns, IDs, etc.\n",
    "2. Dealing with categorical data using one-hot encoding."
   ]
  },
  {
   "cell_type": "code",
   "execution_count": 3,
   "id": "9abbdd01",
   "metadata": {
    "execution": {
     "iopub.execute_input": "2023-10-20T12:48:02.045175Z",
     "iopub.status.busy": "2023-10-20T12:48:02.044518Z",
     "iopub.status.idle": "2023-10-20T12:48:02.131258Z",
     "shell.execute_reply": "2023-10-20T12:48:02.130213Z"
    },
    "papermill": {
     "duration": 0.095333,
     "end_time": "2023-10-20T12:48:02.134085",
     "exception": false,
     "start_time": "2023-10-20T12:48:02.038752",
     "status": "completed"
    },
    "tags": []
   },
   "outputs": [
    {
     "name": "stdout",
     "output_type": "stream",
     "text": [
      "<class 'pandas.core.frame.DataFrame'>\n",
      "RangeIndex: 1460 entries, 0 to 1459\n",
      "Data columns (total 81 columns):\n",
      " #   Column         Non-Null Count  Dtype  \n",
      "---  ------         --------------  -----  \n",
      " 0   Id             1460 non-null   int64  \n",
      " 1   MSSubClass     1460 non-null   int64  \n",
      " 2   MSZoning       1460 non-null   object \n",
      " 3   LotFrontage    1201 non-null   float64\n",
      " 4   LotArea        1460 non-null   int64  \n",
      " 5   Street         1460 non-null   object \n",
      " 6   Alley          91 non-null     object \n",
      " 7   LotShape       1460 non-null   object \n",
      " 8   LandContour    1460 non-null   object \n",
      " 9   Utilities      1460 non-null   object \n",
      " 10  LotConfig      1460 non-null   object \n",
      " 11  LandSlope      1460 non-null   object \n",
      " 12  Neighborhood   1460 non-null   object \n",
      " 13  Condition1     1460 non-null   object \n",
      " 14  Condition2     1460 non-null   object \n",
      " 15  BldgType       1460 non-null   object \n",
      " 16  HouseStyle     1460 non-null   object \n",
      " 17  OverallQual    1460 non-null   int64  \n",
      " 18  OverallCond    1460 non-null   int64  \n",
      " 19  YearBuilt      1460 non-null   int64  \n",
      " 20  YearRemodAdd   1460 non-null   int64  \n",
      " 21  RoofStyle      1460 non-null   object \n",
      " 22  RoofMatl       1460 non-null   object \n",
      " 23  Exterior1st    1460 non-null   object \n",
      " 24  Exterior2nd    1460 non-null   object \n",
      " 25  MasVnrType     588 non-null    object \n",
      " 26  MasVnrArea     1452 non-null   float64\n",
      " 27  ExterQual      1460 non-null   object \n",
      " 28  ExterCond      1460 non-null   object \n",
      " 29  Foundation     1460 non-null   object \n",
      " 30  BsmtQual       1423 non-null   object \n",
      " 31  BsmtCond       1423 non-null   object \n",
      " 32  BsmtExposure   1422 non-null   object \n",
      " 33  BsmtFinType1   1423 non-null   object \n",
      " 34  BsmtFinSF1     1460 non-null   int64  \n",
      " 35  BsmtFinType2   1422 non-null   object \n",
      " 36  BsmtFinSF2     1460 non-null   int64  \n",
      " 37  BsmtUnfSF      1460 non-null   int64  \n",
      " 38  TotalBsmtSF    1460 non-null   int64  \n",
      " 39  Heating        1460 non-null   object \n",
      " 40  HeatingQC      1460 non-null   object \n",
      " 41  CentralAir     1460 non-null   object \n",
      " 42  Electrical     1459 non-null   object \n",
      " 43  1stFlrSF       1460 non-null   int64  \n",
      " 44  2ndFlrSF       1460 non-null   int64  \n",
      " 45  LowQualFinSF   1460 non-null   int64  \n",
      " 46  GrLivArea      1460 non-null   int64  \n",
      " 47  BsmtFullBath   1460 non-null   int64  \n",
      " 48  BsmtHalfBath   1460 non-null   int64  \n",
      " 49  FullBath       1460 non-null   int64  \n",
      " 50  HalfBath       1460 non-null   int64  \n",
      " 51  BedroomAbvGr   1460 non-null   int64  \n",
      " 52  KitchenAbvGr   1460 non-null   int64  \n",
      " 53  KitchenQual    1460 non-null   object \n",
      " 54  TotRmsAbvGrd   1460 non-null   int64  \n",
      " 55  Functional     1460 non-null   object \n",
      " 56  Fireplaces     1460 non-null   int64  \n",
      " 57  FireplaceQu    770 non-null    object \n",
      " 58  GarageType     1379 non-null   object \n",
      " 59  GarageYrBlt    1379 non-null   float64\n",
      " 60  GarageFinish   1379 non-null   object \n",
      " 61  GarageCars     1460 non-null   int64  \n",
      " 62  GarageArea     1460 non-null   int64  \n",
      " 63  GarageQual     1379 non-null   object \n",
      " 64  GarageCond     1379 non-null   object \n",
      " 65  PavedDrive     1460 non-null   object \n",
      " 66  WoodDeckSF     1460 non-null   int64  \n",
      " 67  OpenPorchSF    1460 non-null   int64  \n",
      " 68  EnclosedPorch  1460 non-null   int64  \n",
      " 69  3SsnPorch      1460 non-null   int64  \n",
      " 70  ScreenPorch    1460 non-null   int64  \n",
      " 71  PoolArea       1460 non-null   int64  \n",
      " 72  PoolQC         7 non-null      object \n",
      " 73  Fence          281 non-null    object \n",
      " 74  MiscFeature    54 non-null     object \n",
      " 75  MiscVal        1460 non-null   int64  \n",
      " 76  MoSold         1460 non-null   int64  \n",
      " 77  YrSold         1460 non-null   int64  \n",
      " 78  SaleType       1460 non-null   object \n",
      " 79  SaleCondition  1460 non-null   object \n",
      " 80  SalePrice      1460 non-null   int64  \n",
      "dtypes: float64(3), int64(35), object(43)\n",
      "memory usage: 924.0+ KB\n"
     ]
    }
   ],
   "source": [
    "df = pd.read_csv(TRAIN_CSV_PATH)\n",
    "df.info()"
   ]
  },
  {
   "cell_type": "code",
   "execution_count": 4,
   "id": "84526271",
   "metadata": {
    "execution": {
     "iopub.execute_input": "2023-10-20T12:48:02.146298Z",
     "iopub.status.busy": "2023-10-20T12:48:02.145530Z",
     "iopub.status.idle": "2023-10-20T12:48:02.241878Z",
     "shell.execute_reply": "2023-10-20T12:48:02.240751Z"
    },
    "papermill": {
     "duration": 0.10524,
     "end_time": "2023-10-20T12:48:02.244296",
     "exception": false,
     "start_time": "2023-10-20T12:48:02.139056",
     "status": "completed"
    },
    "tags": []
   },
   "outputs": [
    {
     "data": {
      "text/html": [
       "<div>\n",
       "<style scoped>\n",
       "    .dataframe tbody tr th:only-of-type {\n",
       "        vertical-align: middle;\n",
       "    }\n",
       "\n",
       "    .dataframe tbody tr th {\n",
       "        vertical-align: top;\n",
       "    }\n",
       "\n",
       "    .dataframe thead th {\n",
       "        text-align: right;\n",
       "    }\n",
       "</style>\n",
       "<table border=\"1\" class=\"dataframe\">\n",
       "  <thead>\n",
       "    <tr style=\"text-align: right;\">\n",
       "      <th></th>\n",
       "      <th>Id</th>\n",
       "      <th>MSSubClass</th>\n",
       "      <th>LotFrontage</th>\n",
       "      <th>LotArea</th>\n",
       "      <th>OverallQual</th>\n",
       "      <th>OverallCond</th>\n",
       "      <th>YearBuilt</th>\n",
       "      <th>YearRemodAdd</th>\n",
       "      <th>MasVnrArea</th>\n",
       "      <th>BsmtFinSF1</th>\n",
       "      <th>...</th>\n",
       "      <th>WoodDeckSF</th>\n",
       "      <th>OpenPorchSF</th>\n",
       "      <th>EnclosedPorch</th>\n",
       "      <th>3SsnPorch</th>\n",
       "      <th>ScreenPorch</th>\n",
       "      <th>PoolArea</th>\n",
       "      <th>MiscVal</th>\n",
       "      <th>MoSold</th>\n",
       "      <th>YrSold</th>\n",
       "      <th>SalePrice</th>\n",
       "    </tr>\n",
       "  </thead>\n",
       "  <tbody>\n",
       "    <tr>\n",
       "      <th>count</th>\n",
       "      <td>1460.000000</td>\n",
       "      <td>1460.000000</td>\n",
       "      <td>1201.000000</td>\n",
       "      <td>1460.000000</td>\n",
       "      <td>1460.000000</td>\n",
       "      <td>1460.000000</td>\n",
       "      <td>1460.000000</td>\n",
       "      <td>1460.000000</td>\n",
       "      <td>1452.000000</td>\n",
       "      <td>1460.000000</td>\n",
       "      <td>...</td>\n",
       "      <td>1460.000000</td>\n",
       "      <td>1460.000000</td>\n",
       "      <td>1460.000000</td>\n",
       "      <td>1460.000000</td>\n",
       "      <td>1460.000000</td>\n",
       "      <td>1460.000000</td>\n",
       "      <td>1460.000000</td>\n",
       "      <td>1460.000000</td>\n",
       "      <td>1460.000000</td>\n",
       "      <td>1460.000000</td>\n",
       "    </tr>\n",
       "    <tr>\n",
       "      <th>mean</th>\n",
       "      <td>730.500000</td>\n",
       "      <td>56.897260</td>\n",
       "      <td>70.049958</td>\n",
       "      <td>10516.828082</td>\n",
       "      <td>6.099315</td>\n",
       "      <td>5.575342</td>\n",
       "      <td>1971.267808</td>\n",
       "      <td>1984.865753</td>\n",
       "      <td>103.685262</td>\n",
       "      <td>443.639726</td>\n",
       "      <td>...</td>\n",
       "      <td>94.244521</td>\n",
       "      <td>46.660274</td>\n",
       "      <td>21.954110</td>\n",
       "      <td>3.409589</td>\n",
       "      <td>15.060959</td>\n",
       "      <td>2.758904</td>\n",
       "      <td>43.489041</td>\n",
       "      <td>6.321918</td>\n",
       "      <td>2007.815753</td>\n",
       "      <td>180921.195890</td>\n",
       "    </tr>\n",
       "    <tr>\n",
       "      <th>std</th>\n",
       "      <td>421.610009</td>\n",
       "      <td>42.300571</td>\n",
       "      <td>24.284752</td>\n",
       "      <td>9981.264932</td>\n",
       "      <td>1.382997</td>\n",
       "      <td>1.112799</td>\n",
       "      <td>30.202904</td>\n",
       "      <td>20.645407</td>\n",
       "      <td>181.066207</td>\n",
       "      <td>456.098091</td>\n",
       "      <td>...</td>\n",
       "      <td>125.338794</td>\n",
       "      <td>66.256028</td>\n",
       "      <td>61.119149</td>\n",
       "      <td>29.317331</td>\n",
       "      <td>55.757415</td>\n",
       "      <td>40.177307</td>\n",
       "      <td>496.123024</td>\n",
       "      <td>2.703626</td>\n",
       "      <td>1.328095</td>\n",
       "      <td>79442.502883</td>\n",
       "    </tr>\n",
       "    <tr>\n",
       "      <th>min</th>\n",
       "      <td>1.000000</td>\n",
       "      <td>20.000000</td>\n",
       "      <td>21.000000</td>\n",
       "      <td>1300.000000</td>\n",
       "      <td>1.000000</td>\n",
       "      <td>1.000000</td>\n",
       "      <td>1872.000000</td>\n",
       "      <td>1950.000000</td>\n",
       "      <td>0.000000</td>\n",
       "      <td>0.000000</td>\n",
       "      <td>...</td>\n",
       "      <td>0.000000</td>\n",
       "      <td>0.000000</td>\n",
       "      <td>0.000000</td>\n",
       "      <td>0.000000</td>\n",
       "      <td>0.000000</td>\n",
       "      <td>0.000000</td>\n",
       "      <td>0.000000</td>\n",
       "      <td>1.000000</td>\n",
       "      <td>2006.000000</td>\n",
       "      <td>34900.000000</td>\n",
       "    </tr>\n",
       "    <tr>\n",
       "      <th>25%</th>\n",
       "      <td>365.750000</td>\n",
       "      <td>20.000000</td>\n",
       "      <td>59.000000</td>\n",
       "      <td>7553.500000</td>\n",
       "      <td>5.000000</td>\n",
       "      <td>5.000000</td>\n",
       "      <td>1954.000000</td>\n",
       "      <td>1967.000000</td>\n",
       "      <td>0.000000</td>\n",
       "      <td>0.000000</td>\n",
       "      <td>...</td>\n",
       "      <td>0.000000</td>\n",
       "      <td>0.000000</td>\n",
       "      <td>0.000000</td>\n",
       "      <td>0.000000</td>\n",
       "      <td>0.000000</td>\n",
       "      <td>0.000000</td>\n",
       "      <td>0.000000</td>\n",
       "      <td>5.000000</td>\n",
       "      <td>2007.000000</td>\n",
       "      <td>129975.000000</td>\n",
       "    </tr>\n",
       "    <tr>\n",
       "      <th>50%</th>\n",
       "      <td>730.500000</td>\n",
       "      <td>50.000000</td>\n",
       "      <td>69.000000</td>\n",
       "      <td>9478.500000</td>\n",
       "      <td>6.000000</td>\n",
       "      <td>5.000000</td>\n",
       "      <td>1973.000000</td>\n",
       "      <td>1994.000000</td>\n",
       "      <td>0.000000</td>\n",
       "      <td>383.500000</td>\n",
       "      <td>...</td>\n",
       "      <td>0.000000</td>\n",
       "      <td>25.000000</td>\n",
       "      <td>0.000000</td>\n",
       "      <td>0.000000</td>\n",
       "      <td>0.000000</td>\n",
       "      <td>0.000000</td>\n",
       "      <td>0.000000</td>\n",
       "      <td>6.000000</td>\n",
       "      <td>2008.000000</td>\n",
       "      <td>163000.000000</td>\n",
       "    </tr>\n",
       "    <tr>\n",
       "      <th>75%</th>\n",
       "      <td>1095.250000</td>\n",
       "      <td>70.000000</td>\n",
       "      <td>80.000000</td>\n",
       "      <td>11601.500000</td>\n",
       "      <td>7.000000</td>\n",
       "      <td>6.000000</td>\n",
       "      <td>2000.000000</td>\n",
       "      <td>2004.000000</td>\n",
       "      <td>166.000000</td>\n",
       "      <td>712.250000</td>\n",
       "      <td>...</td>\n",
       "      <td>168.000000</td>\n",
       "      <td>68.000000</td>\n",
       "      <td>0.000000</td>\n",
       "      <td>0.000000</td>\n",
       "      <td>0.000000</td>\n",
       "      <td>0.000000</td>\n",
       "      <td>0.000000</td>\n",
       "      <td>8.000000</td>\n",
       "      <td>2009.000000</td>\n",
       "      <td>214000.000000</td>\n",
       "    </tr>\n",
       "    <tr>\n",
       "      <th>max</th>\n",
       "      <td>1460.000000</td>\n",
       "      <td>190.000000</td>\n",
       "      <td>313.000000</td>\n",
       "      <td>215245.000000</td>\n",
       "      <td>10.000000</td>\n",
       "      <td>9.000000</td>\n",
       "      <td>2010.000000</td>\n",
       "      <td>2010.000000</td>\n",
       "      <td>1600.000000</td>\n",
       "      <td>5644.000000</td>\n",
       "      <td>...</td>\n",
       "      <td>857.000000</td>\n",
       "      <td>547.000000</td>\n",
       "      <td>552.000000</td>\n",
       "      <td>508.000000</td>\n",
       "      <td>480.000000</td>\n",
       "      <td>738.000000</td>\n",
       "      <td>15500.000000</td>\n",
       "      <td>12.000000</td>\n",
       "      <td>2010.000000</td>\n",
       "      <td>755000.000000</td>\n",
       "    </tr>\n",
       "  </tbody>\n",
       "</table>\n",
       "<p>8 rows × 38 columns</p>\n",
       "</div>"
      ],
      "text/plain": [
       "                Id   MSSubClass  LotFrontage        LotArea  OverallQual  \\\n",
       "count  1460.000000  1460.000000  1201.000000    1460.000000  1460.000000   \n",
       "mean    730.500000    56.897260    70.049958   10516.828082     6.099315   \n",
       "std     421.610009    42.300571    24.284752    9981.264932     1.382997   \n",
       "min       1.000000    20.000000    21.000000    1300.000000     1.000000   \n",
       "25%     365.750000    20.000000    59.000000    7553.500000     5.000000   \n",
       "50%     730.500000    50.000000    69.000000    9478.500000     6.000000   \n",
       "75%    1095.250000    70.000000    80.000000   11601.500000     7.000000   \n",
       "max    1460.000000   190.000000   313.000000  215245.000000    10.000000   \n",
       "\n",
       "       OverallCond    YearBuilt  YearRemodAdd   MasVnrArea   BsmtFinSF1  ...  \\\n",
       "count  1460.000000  1460.000000   1460.000000  1452.000000  1460.000000  ...   \n",
       "mean      5.575342  1971.267808   1984.865753   103.685262   443.639726  ...   \n",
       "std       1.112799    30.202904     20.645407   181.066207   456.098091  ...   \n",
       "min       1.000000  1872.000000   1950.000000     0.000000     0.000000  ...   \n",
       "25%       5.000000  1954.000000   1967.000000     0.000000     0.000000  ...   \n",
       "50%       5.000000  1973.000000   1994.000000     0.000000   383.500000  ...   \n",
       "75%       6.000000  2000.000000   2004.000000   166.000000   712.250000  ...   \n",
       "max       9.000000  2010.000000   2010.000000  1600.000000  5644.000000  ...   \n",
       "\n",
       "        WoodDeckSF  OpenPorchSF  EnclosedPorch    3SsnPorch  ScreenPorch  \\\n",
       "count  1460.000000  1460.000000    1460.000000  1460.000000  1460.000000   \n",
       "mean     94.244521    46.660274      21.954110     3.409589    15.060959   \n",
       "std     125.338794    66.256028      61.119149    29.317331    55.757415   \n",
       "min       0.000000     0.000000       0.000000     0.000000     0.000000   \n",
       "25%       0.000000     0.000000       0.000000     0.000000     0.000000   \n",
       "50%       0.000000    25.000000       0.000000     0.000000     0.000000   \n",
       "75%     168.000000    68.000000       0.000000     0.000000     0.000000   \n",
       "max     857.000000   547.000000     552.000000   508.000000   480.000000   \n",
       "\n",
       "          PoolArea       MiscVal       MoSold       YrSold      SalePrice  \n",
       "count  1460.000000   1460.000000  1460.000000  1460.000000    1460.000000  \n",
       "mean      2.758904     43.489041     6.321918  2007.815753  180921.195890  \n",
       "std      40.177307    496.123024     2.703626     1.328095   79442.502883  \n",
       "min       0.000000      0.000000     1.000000  2006.000000   34900.000000  \n",
       "25%       0.000000      0.000000     5.000000  2007.000000  129975.000000  \n",
       "50%       0.000000      0.000000     6.000000  2008.000000  163000.000000  \n",
       "75%       0.000000      0.000000     8.000000  2009.000000  214000.000000  \n",
       "max     738.000000  15500.000000    12.000000  2010.000000  755000.000000  \n",
       "\n",
       "[8 rows x 38 columns]"
      ]
     },
     "execution_count": 4,
     "metadata": {},
     "output_type": "execute_result"
    }
   ],
   "source": [
    "df.describe()"
   ]
  },
  {
   "cell_type": "code",
   "execution_count": 5,
   "id": "59b0438d",
   "metadata": {
    "execution": {
     "iopub.execute_input": "2023-10-20T12:48:02.257111Z",
     "iopub.status.busy": "2023-10-20T12:48:02.256328Z",
     "iopub.status.idle": "2023-10-20T12:48:02.262158Z",
     "shell.execute_reply": "2023-10-20T12:48:02.260881Z"
    },
    "papermill": {
     "duration": 0.014757,
     "end_time": "2023-10-20T12:48:02.264474",
     "exception": false,
     "start_time": "2023-10-20T12:48:02.249717",
     "status": "completed"
    },
    "tags": []
   },
   "outputs": [],
   "source": [
    "def preprocess_dataset(dataset):\n",
    "    # Removing irrelevant columns (e.g. null-valued columns, Id, etc.)\n",
    "    drop_columns = ['Id', 'Alley', 'PoolQC', 'Fence', 'MiscFeature']\n",
    "    dataset = dataset.drop(columns=drop_columns)\n",
    "    \n",
    "    # Select only int64 datatypes\n",
    "    dataset = dataset.select_dtypes(include=['int64', 'float64'])\n",
    "    dataset = dataset.fillna(0)\n",
    "    return dataset"
   ]
  },
  {
   "cell_type": "code",
   "execution_count": 6,
   "id": "0c3e7f65",
   "metadata": {
    "execution": {
     "iopub.execute_input": "2023-10-20T12:48:02.276732Z",
     "iopub.status.busy": "2023-10-20T12:48:02.276352Z",
     "iopub.status.idle": "2023-10-20T12:48:02.324818Z",
     "shell.execute_reply": "2023-10-20T12:48:02.323498Z"
    },
    "papermill": {
     "duration": 0.05753,
     "end_time": "2023-10-20T12:48:02.327279",
     "exception": false,
     "start_time": "2023-10-20T12:48:02.269749",
     "status": "completed"
    },
    "tags": []
   },
   "outputs": [
    {
     "name": "stdout",
     "output_type": "stream",
     "text": [
      "(1460, 37)\n",
      "(1459, 36)\n"
     ]
    }
   ],
   "source": [
    "train_df = preprocess_dataset(dataset=df)\n",
    "print(train_df.shape)\n",
    "test_df = preprocess_dataset(dataset=pd.read_csv(TEST_CSV_PATH))\n",
    "print(test_df.shape)"
   ]
  },
  {
   "cell_type": "code",
   "execution_count": 7,
   "id": "7b3b54a3",
   "metadata": {
    "execution": {
     "iopub.execute_input": "2023-10-20T12:48:02.340046Z",
     "iopub.status.busy": "2023-10-20T12:48:02.339047Z",
     "iopub.status.idle": "2023-10-20T12:48:02.347789Z",
     "shell.execute_reply": "2023-10-20T12:48:02.346589Z"
    },
    "papermill": {
     "duration": 0.017027,
     "end_time": "2023-10-20T12:48:02.349750",
     "exception": false,
     "start_time": "2023-10-20T12:48:02.332723",
     "status": "completed"
    },
    "tags": []
   },
   "outputs": [
    {
     "data": {
      "text/plain": [
       "MSSubClass       0\n",
       "LotFrontage      0\n",
       "LotArea          0\n",
       "OverallQual      0\n",
       "OverallCond      0\n",
       "YearBuilt        0\n",
       "YearRemodAdd     0\n",
       "MasVnrArea       0\n",
       "BsmtFinSF1       0\n",
       "BsmtFinSF2       0\n",
       "BsmtUnfSF        0\n",
       "TotalBsmtSF      0\n",
       "1stFlrSF         0\n",
       "2ndFlrSF         0\n",
       "LowQualFinSF     0\n",
       "GrLivArea        0\n",
       "BsmtFullBath     0\n",
       "BsmtHalfBath     0\n",
       "FullBath         0\n",
       "HalfBath         0\n",
       "BedroomAbvGr     0\n",
       "KitchenAbvGr     0\n",
       "TotRmsAbvGrd     0\n",
       "Fireplaces       0\n",
       "GarageYrBlt      0\n",
       "GarageCars       0\n",
       "GarageArea       0\n",
       "WoodDeckSF       0\n",
       "OpenPorchSF      0\n",
       "EnclosedPorch    0\n",
       "3SsnPorch        0\n",
       "ScreenPorch      0\n",
       "PoolArea         0\n",
       "MiscVal          0\n",
       "MoSold           0\n",
       "YrSold           0\n",
       "SalePrice        0\n",
       "dtype: int64"
      ]
     },
     "execution_count": 7,
     "metadata": {},
     "output_type": "execute_result"
    }
   ],
   "source": [
    "train_df.isna().sum()"
   ]
  },
  {
   "cell_type": "markdown",
   "id": "5cb6b384",
   "metadata": {
    "papermill": {
     "duration": 0.005032,
     "end_time": "2023-10-20T12:48:02.360085",
     "exception": false,
     "start_time": "2023-10-20T12:48:02.355053",
     "status": "completed"
    },
    "tags": []
   },
   "source": [
    "## Partitioning the dataset"
   ]
  },
  {
   "cell_type": "code",
   "execution_count": 8,
   "id": "dc01bfb8",
   "metadata": {
    "execution": {
     "iopub.execute_input": "2023-10-20T12:48:02.372311Z",
     "iopub.status.busy": "2023-10-20T12:48:02.371937Z",
     "iopub.status.idle": "2023-10-20T12:48:02.377461Z",
     "shell.execute_reply": "2023-10-20T12:48:02.376693Z"
    },
    "papermill": {
     "duration": 0.014013,
     "end_time": "2023-10-20T12:48:02.379375",
     "exception": false,
     "start_time": "2023-10-20T12:48:02.365362",
     "status": "completed"
    },
    "tags": []
   },
   "outputs": [],
   "source": [
    "X = train_df.drop(columns=['SalePrice'])\n",
    "Y = train_df['SalePrice']"
   ]
  },
  {
   "cell_type": "code",
   "execution_count": 9,
   "id": "64b1d867",
   "metadata": {
    "execution": {
     "iopub.execute_input": "2023-10-20T12:48:02.391827Z",
     "iopub.status.busy": "2023-10-20T12:48:02.391435Z",
     "iopub.status.idle": "2023-10-20T12:48:02.400629Z",
     "shell.execute_reply": "2023-10-20T12:48:02.399924Z"
    },
    "papermill": {
     "duration": 0.017761,
     "end_time": "2023-10-20T12:48:02.402392",
     "exception": false,
     "start_time": "2023-10-20T12:48:02.384631",
     "status": "completed"
    },
    "tags": []
   },
   "outputs": [
    {
     "data": {
      "text/plain": [
       "((1168, 36), (292, 36), (1168,), (292,))"
      ]
     },
     "execution_count": 9,
     "metadata": {},
     "output_type": "execute_result"
    }
   ],
   "source": [
    "X_train, X_test, Y_train, Y_test = train_test_split(X, Y, test_size=0.2, random_state=RANDOM_STATE)\n",
    "X_train.shape, X_test.shape, Y_train.shape, Y_test.shape"
   ]
  },
  {
   "cell_type": "markdown",
   "id": "dc793e93",
   "metadata": {
    "papermill": {
     "duration": 0.005068,
     "end_time": "2023-10-20T12:48:02.412821",
     "exception": false,
     "start_time": "2023-10-20T12:48:02.407753",
     "status": "completed"
    },
    "tags": []
   },
   "source": [
    "## Model training"
   ]
  },
  {
   "cell_type": "code",
   "execution_count": 10,
   "id": "1cc4dac6",
   "metadata": {
    "execution": {
     "iopub.execute_input": "2023-10-20T12:48:02.425715Z",
     "iopub.status.busy": "2023-10-20T12:48:02.424606Z",
     "iopub.status.idle": "2023-10-20T12:48:02.465714Z",
     "shell.execute_reply": "2023-10-20T12:48:02.463713Z"
    },
    "papermill": {
     "duration": 0.050914,
     "end_time": "2023-10-20T12:48:02.469059",
     "exception": false,
     "start_time": "2023-10-20T12:48:02.418145",
     "status": "completed"
    },
    "tags": []
   },
   "outputs": [],
   "source": [
    "lr_model = LinearRegression().fit(X_train, Y_train)\n",
    "predictions = lr_model.predict(X_test)"
   ]
  },
  {
   "cell_type": "code",
   "execution_count": 11,
   "id": "59924372",
   "metadata": {
    "execution": {
     "iopub.execute_input": "2023-10-20T12:48:02.501285Z",
     "iopub.status.busy": "2023-10-20T12:48:02.500182Z",
     "iopub.status.idle": "2023-10-20T12:48:02.509335Z",
     "shell.execute_reply": "2023-10-20T12:48:02.507975Z"
    },
    "papermill": {
     "duration": 0.036225,
     "end_time": "2023-10-20T12:48:02.515713",
     "exception": false,
     "start_time": "2023-10-20T12:48:02.479488",
     "status": "completed"
    },
    "tags": []
   },
   "outputs": [
    {
     "name": "stdout",
     "output_type": "stream",
     "text": [
      "Regression model R-squared: 0.7859425482749017\n"
     ]
    }
   ],
   "source": [
    "regression_r2 = r2_score(Y_test, predictions)\n",
    "print(f\"Regression model R-squared: {regression_r2}\")"
   ]
  },
  {
   "cell_type": "markdown",
   "id": "7d360045",
   "metadata": {
    "papermill": {
     "duration": 0.016759,
     "end_time": "2023-10-20T12:48:02.556506",
     "exception": false,
     "start_time": "2023-10-20T12:48:02.539747",
     "status": "completed"
    },
    "tags": []
   },
   "source": [
    "## Predicting the test set"
   ]
  },
  {
   "cell_type": "code",
   "execution_count": 12,
   "id": "ef37933e",
   "metadata": {
    "execution": {
     "iopub.execute_input": "2023-10-20T12:48:02.584693Z",
     "iopub.status.busy": "2023-10-20T12:48:02.583635Z",
     "iopub.status.idle": "2023-10-20T12:48:02.611538Z",
     "shell.execute_reply": "2023-10-20T12:48:02.610622Z"
    },
    "papermill": {
     "duration": 0.039478,
     "end_time": "2023-10-20T12:48:02.613967",
     "exception": false,
     "start_time": "2023-10-20T12:48:02.574489",
     "status": "completed"
    },
    "tags": []
   },
   "outputs": [],
   "source": [
    "test_df = pd.read_csv(TEST_CSV_PATH)"
   ]
  },
  {
   "cell_type": "markdown",
   "id": "8b344f78",
   "metadata": {
    "papermill": {
     "duration": 0.005316,
     "end_time": "2023-10-20T12:48:02.624870",
     "exception": false,
     "start_time": "2023-10-20T12:48:02.619554",
     "status": "completed"
    },
    "tags": []
   },
   "source": [
    "Create a dataframe for the submission"
   ]
  },
  {
   "cell_type": "code",
   "execution_count": 13,
   "id": "2e1abc09",
   "metadata": {
    "execution": {
     "iopub.execute_input": "2023-10-20T12:48:02.637582Z",
     "iopub.status.busy": "2023-10-20T12:48:02.637216Z",
     "iopub.status.idle": "2023-10-20T12:48:02.642975Z",
     "shell.execute_reply": "2023-10-20T12:48:02.641759Z"
    },
    "papermill": {
     "duration": 0.014653,
     "end_time": "2023-10-20T12:48:02.644999",
     "exception": false,
     "start_time": "2023-10-20T12:48:02.630346",
     "status": "completed"
    },
    "tags": []
   },
   "outputs": [],
   "source": [
    "submission_df = test_df[['Id']]"
   ]
  },
  {
   "cell_type": "markdown",
   "id": "ad2d2bf8",
   "metadata": {
    "papermill": {
     "duration": 0.005187,
     "end_time": "2023-10-20T12:48:02.655959",
     "exception": false,
     "start_time": "2023-10-20T12:48:02.650772",
     "status": "completed"
    },
    "tags": []
   },
   "source": [
    "Preprocess and get model outputs on test_df"
   ]
  },
  {
   "cell_type": "code",
   "execution_count": 14,
   "id": "309fec4b",
   "metadata": {
    "execution": {
     "iopub.execute_input": "2023-10-20T12:48:02.668853Z",
     "iopub.status.busy": "2023-10-20T12:48:02.668107Z",
     "iopub.status.idle": "2023-10-20T12:48:02.677912Z",
     "shell.execute_reply": "2023-10-20T12:48:02.676388Z"
    },
    "papermill": {
     "duration": 0.019833,
     "end_time": "2023-10-20T12:48:02.681233",
     "exception": false,
     "start_time": "2023-10-20T12:48:02.661400",
     "status": "completed"
    },
    "tags": []
   },
   "outputs": [],
   "source": [
    "test_df = preprocess_dataset(test_df)\n",
    "test_predictions = lr_model.predict(test_df)"
   ]
  },
  {
   "cell_type": "markdown",
   "id": "305fda18",
   "metadata": {
    "papermill": {
     "duration": 0.010152,
     "end_time": "2023-10-20T12:48:02.702120",
     "exception": false,
     "start_time": "2023-10-20T12:48:02.691968",
     "status": "completed"
    },
    "tags": []
   },
   "source": [
    "## Create submission"
   ]
  },
  {
   "cell_type": "code",
   "execution_count": 15,
   "id": "b3fcdc86",
   "metadata": {
    "execution": {
     "iopub.execute_input": "2023-10-20T12:48:02.724899Z",
     "iopub.status.busy": "2023-10-20T12:48:02.724268Z",
     "iopub.status.idle": "2023-10-20T12:48:02.732410Z",
     "shell.execute_reply": "2023-10-20T12:48:02.731248Z"
    },
    "papermill": {
     "duration": 0.022897,
     "end_time": "2023-10-20T12:48:02.735366",
     "exception": false,
     "start_time": "2023-10-20T12:48:02.712469",
     "status": "completed"
    },
    "tags": []
   },
   "outputs": [],
   "source": [
    "submission_df['SalePrice'] = test_predictions\n",
    "submission_df = submission_df.set_index('Id')"
   ]
  },
  {
   "cell_type": "code",
   "execution_count": 16,
   "id": "80f29c99",
   "metadata": {
    "execution": {
     "iopub.execute_input": "2023-10-20T12:48:02.758938Z",
     "iopub.status.busy": "2023-10-20T12:48:02.758390Z",
     "iopub.status.idle": "2023-10-20T12:48:02.775937Z",
     "shell.execute_reply": "2023-10-20T12:48:02.774716Z"
    },
    "papermill": {
     "duration": 0.03294,
     "end_time": "2023-10-20T12:48:02.779080",
     "exception": false,
     "start_time": "2023-10-20T12:48:02.746140",
     "status": "completed"
    },
    "tags": []
   },
   "outputs": [],
   "source": [
    "submission = submission_df.to_csv(\"house_prices_regression_predictions_lr_model.csv\", encoding='utf-8')"
   ]
  }
 ],
 "metadata": {
  "kernelspec": {
   "display_name": "Python 3",
   "language": "python",
   "name": "python3"
  },
  "language_info": {
   "codemirror_mode": {
    "name": "ipython",
    "version": 3
   },
   "file_extension": ".py",
   "mimetype": "text/x-python",
   "name": "python",
   "nbconvert_exporter": "python",
   "pygments_lexer": "ipython3",
   "version": "3.10.12"
  },
  "papermill": {
   "default_parameters": {},
   "duration": 7.001036,
   "end_time": "2023-10-20T12:48:03.414715",
   "environment_variables": {},
   "exception": null,
   "input_path": "__notebook__.ipynb",
   "output_path": "__notebook__.ipynb",
   "parameters": {},
   "start_time": "2023-10-20T12:47:56.413679",
   "version": "2.4.0"
  }
 },
 "nbformat": 4,
 "nbformat_minor": 5
}

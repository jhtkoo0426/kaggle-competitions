{
 "cells": [
  {
   "cell_type": "markdown",
   "id": "190b091a",
   "metadata": {
    "papermill": {
     "duration": 0.012332,
     "end_time": "2023-10-30T18:25:27.219733",
     "exception": false,
     "start_time": "2023-10-30T18:25:27.207401",
     "status": "completed"
    },
    "tags": []
   },
   "source": [
    "# Import required packages and datasets"
   ]
  },
  {
   "cell_type": "code",
   "execution_count": 1,
   "id": "2fbab476",
   "metadata": {
    "execution": {
     "iopub.execute_input": "2023-10-30T18:25:27.244911Z",
     "iopub.status.busy": "2023-10-30T18:25:27.244379Z",
     "iopub.status.idle": "2023-10-30T18:25:30.325815Z",
     "shell.execute_reply": "2023-10-30T18:25:30.324140Z"
    },
    "papermill": {
     "duration": 3.098118,
     "end_time": "2023-10-30T18:25:30.329251",
     "exception": false,
     "start_time": "2023-10-30T18:25:27.231133",
     "status": "completed"
    },
    "tags": []
   },
   "outputs": [],
   "source": [
    "import pandas as pd\n",
    "import matplotlib.pyplot as plt\n",
    "import seaborn as sns\n",
    "\n",
    "from sklearn.base import TransformerMixin, BaseEstimator\n",
    "from sklearn.linear_model import LinearRegression\n",
    "from sklearn.metrics import mean_squared_error\n",
    "from sklearn.model_selection import train_test_split\n",
    "from sklearn.pipeline import Pipeline\n",
    "from sklearn.preprocessing import LabelEncoder"
   ]
  },
  {
   "cell_type": "code",
   "execution_count": 2,
   "id": "adb9f04a",
   "metadata": {
    "execution": {
     "iopub.execute_input": "2023-10-30T18:25:30.355212Z",
     "iopub.status.busy": "2023-10-30T18:25:30.354443Z",
     "iopub.status.idle": "2023-10-30T18:25:30.360922Z",
     "shell.execute_reply": "2023-10-30T18:25:30.359412Z"
    },
    "papermill": {
     "duration": 0.023375,
     "end_time": "2023-10-30T18:25:30.364022",
     "exception": false,
     "start_time": "2023-10-30T18:25:30.340647",
     "status": "completed"
    },
    "tags": []
   },
   "outputs": [],
   "source": [
    "TRAIN_DATASET_PATH = \"/kaggle/input/house-prices-advanced-regression-techniques/train.csv\"\n",
    "TEST_DATASET_PATH = \"/kaggle/input/house-prices-advanced-regression-techniques/test.csv\""
   ]
  },
  {
   "cell_type": "markdown",
   "id": "6fd610aa",
   "metadata": {
    "papermill": {
     "duration": 0.010967,
     "end_time": "2023-10-30T18:25:30.387161",
     "exception": false,
     "start_time": "2023-10-30T18:25:30.376194",
     "status": "completed"
    },
    "tags": []
   },
   "source": [
    "# Load and preview dataset"
   ]
  },
  {
   "cell_type": "code",
   "execution_count": 3,
   "id": "0397d83d",
   "metadata": {
    "execution": {
     "iopub.execute_input": "2023-10-30T18:25:30.412427Z",
     "iopub.status.busy": "2023-10-30T18:25:30.411629Z",
     "iopub.status.idle": "2023-10-30T18:25:30.524125Z",
     "shell.execute_reply": "2023-10-30T18:25:30.522472Z"
    },
    "papermill": {
     "duration": 0.129006,
     "end_time": "2023-10-30T18:25:30.527508",
     "exception": false,
     "start_time": "2023-10-30T18:25:30.398502",
     "status": "completed"
    },
    "tags": []
   },
   "outputs": [
    {
     "data": {
      "text/html": [
       "<div>\n",
       "<style scoped>\n",
       "    .dataframe tbody tr th:only-of-type {\n",
       "        vertical-align: middle;\n",
       "    }\n",
       "\n",
       "    .dataframe tbody tr th {\n",
       "        vertical-align: top;\n",
       "    }\n",
       "\n",
       "    .dataframe thead th {\n",
       "        text-align: right;\n",
       "    }\n",
       "</style>\n",
       "<table border=\"1\" class=\"dataframe\">\n",
       "  <thead>\n",
       "    <tr style=\"text-align: right;\">\n",
       "      <th></th>\n",
       "      <th>Id</th>\n",
       "      <th>MSSubClass</th>\n",
       "      <th>MSZoning</th>\n",
       "      <th>LotFrontage</th>\n",
       "      <th>LotArea</th>\n",
       "      <th>Street</th>\n",
       "      <th>Alley</th>\n",
       "      <th>LotShape</th>\n",
       "      <th>LandContour</th>\n",
       "      <th>Utilities</th>\n",
       "      <th>...</th>\n",
       "      <th>ScreenPorch</th>\n",
       "      <th>PoolArea</th>\n",
       "      <th>PoolQC</th>\n",
       "      <th>Fence</th>\n",
       "      <th>MiscFeature</th>\n",
       "      <th>MiscVal</th>\n",
       "      <th>MoSold</th>\n",
       "      <th>YrSold</th>\n",
       "      <th>SaleType</th>\n",
       "      <th>SaleCondition</th>\n",
       "    </tr>\n",
       "  </thead>\n",
       "  <tbody>\n",
       "    <tr>\n",
       "      <th>0</th>\n",
       "      <td>1</td>\n",
       "      <td>60</td>\n",
       "      <td>RL</td>\n",
       "      <td>65.0</td>\n",
       "      <td>8450</td>\n",
       "      <td>Pave</td>\n",
       "      <td>NaN</td>\n",
       "      <td>Reg</td>\n",
       "      <td>Lvl</td>\n",
       "      <td>AllPub</td>\n",
       "      <td>...</td>\n",
       "      <td>0</td>\n",
       "      <td>0</td>\n",
       "      <td>NaN</td>\n",
       "      <td>NaN</td>\n",
       "      <td>NaN</td>\n",
       "      <td>0</td>\n",
       "      <td>2</td>\n",
       "      <td>2008</td>\n",
       "      <td>WD</td>\n",
       "      <td>Normal</td>\n",
       "    </tr>\n",
       "    <tr>\n",
       "      <th>1</th>\n",
       "      <td>2</td>\n",
       "      <td>20</td>\n",
       "      <td>RL</td>\n",
       "      <td>80.0</td>\n",
       "      <td>9600</td>\n",
       "      <td>Pave</td>\n",
       "      <td>NaN</td>\n",
       "      <td>Reg</td>\n",
       "      <td>Lvl</td>\n",
       "      <td>AllPub</td>\n",
       "      <td>...</td>\n",
       "      <td>0</td>\n",
       "      <td>0</td>\n",
       "      <td>NaN</td>\n",
       "      <td>NaN</td>\n",
       "      <td>NaN</td>\n",
       "      <td>0</td>\n",
       "      <td>5</td>\n",
       "      <td>2007</td>\n",
       "      <td>WD</td>\n",
       "      <td>Normal</td>\n",
       "    </tr>\n",
       "    <tr>\n",
       "      <th>2</th>\n",
       "      <td>3</td>\n",
       "      <td>60</td>\n",
       "      <td>RL</td>\n",
       "      <td>68.0</td>\n",
       "      <td>11250</td>\n",
       "      <td>Pave</td>\n",
       "      <td>NaN</td>\n",
       "      <td>IR1</td>\n",
       "      <td>Lvl</td>\n",
       "      <td>AllPub</td>\n",
       "      <td>...</td>\n",
       "      <td>0</td>\n",
       "      <td>0</td>\n",
       "      <td>NaN</td>\n",
       "      <td>NaN</td>\n",
       "      <td>NaN</td>\n",
       "      <td>0</td>\n",
       "      <td>9</td>\n",
       "      <td>2008</td>\n",
       "      <td>WD</td>\n",
       "      <td>Normal</td>\n",
       "    </tr>\n",
       "    <tr>\n",
       "      <th>3</th>\n",
       "      <td>4</td>\n",
       "      <td>70</td>\n",
       "      <td>RL</td>\n",
       "      <td>60.0</td>\n",
       "      <td>9550</td>\n",
       "      <td>Pave</td>\n",
       "      <td>NaN</td>\n",
       "      <td>IR1</td>\n",
       "      <td>Lvl</td>\n",
       "      <td>AllPub</td>\n",
       "      <td>...</td>\n",
       "      <td>0</td>\n",
       "      <td>0</td>\n",
       "      <td>NaN</td>\n",
       "      <td>NaN</td>\n",
       "      <td>NaN</td>\n",
       "      <td>0</td>\n",
       "      <td>2</td>\n",
       "      <td>2006</td>\n",
       "      <td>WD</td>\n",
       "      <td>Abnorml</td>\n",
       "    </tr>\n",
       "    <tr>\n",
       "      <th>4</th>\n",
       "      <td>5</td>\n",
       "      <td>60</td>\n",
       "      <td>RL</td>\n",
       "      <td>84.0</td>\n",
       "      <td>14260</td>\n",
       "      <td>Pave</td>\n",
       "      <td>NaN</td>\n",
       "      <td>IR1</td>\n",
       "      <td>Lvl</td>\n",
       "      <td>AllPub</td>\n",
       "      <td>...</td>\n",
       "      <td>0</td>\n",
       "      <td>0</td>\n",
       "      <td>NaN</td>\n",
       "      <td>NaN</td>\n",
       "      <td>NaN</td>\n",
       "      <td>0</td>\n",
       "      <td>12</td>\n",
       "      <td>2008</td>\n",
       "      <td>WD</td>\n",
       "      <td>Normal</td>\n",
       "    </tr>\n",
       "  </tbody>\n",
       "</table>\n",
       "<p>5 rows × 80 columns</p>\n",
       "</div>"
      ],
      "text/plain": [
       "   Id  MSSubClass MSZoning  LotFrontage  LotArea Street Alley LotShape  \\\n",
       "0   1          60       RL         65.0     8450   Pave   NaN      Reg   \n",
       "1   2          20       RL         80.0     9600   Pave   NaN      Reg   \n",
       "2   3          60       RL         68.0    11250   Pave   NaN      IR1   \n",
       "3   4          70       RL         60.0     9550   Pave   NaN      IR1   \n",
       "4   5          60       RL         84.0    14260   Pave   NaN      IR1   \n",
       "\n",
       "  LandContour Utilities  ... ScreenPorch PoolArea PoolQC Fence MiscFeature  \\\n",
       "0         Lvl    AllPub  ...           0        0    NaN   NaN         NaN   \n",
       "1         Lvl    AllPub  ...           0        0    NaN   NaN         NaN   \n",
       "2         Lvl    AllPub  ...           0        0    NaN   NaN         NaN   \n",
       "3         Lvl    AllPub  ...           0        0    NaN   NaN         NaN   \n",
       "4         Lvl    AllPub  ...           0        0    NaN   NaN         NaN   \n",
       "\n",
       "  MiscVal MoSold  YrSold  SaleType  SaleCondition  \n",
       "0       0      2    2008        WD         Normal  \n",
       "1       0      5    2007        WD         Normal  \n",
       "2       0      9    2008        WD         Normal  \n",
       "3       0      2    2006        WD        Abnorml  \n",
       "4       0     12    2008        WD         Normal  \n",
       "\n",
       "[5 rows x 80 columns]"
      ]
     },
     "execution_count": 3,
     "metadata": {},
     "output_type": "execute_result"
    }
   ],
   "source": [
    "data = pd.read_csv(TRAIN_DATASET_PATH)\n",
    "prices = data['SalePrice']\n",
    "data = data.drop(columns=['SalePrice'])\n",
    "data.head()"
   ]
  },
  {
   "cell_type": "code",
   "execution_count": 4,
   "id": "ce400319",
   "metadata": {
    "execution": {
     "iopub.execute_input": "2023-10-30T18:25:30.554573Z",
     "iopub.status.busy": "2023-10-30T18:25:30.554098Z",
     "iopub.status.idle": "2023-10-30T18:25:30.593495Z",
     "shell.execute_reply": "2023-10-30T18:25:30.592388Z"
    },
    "papermill": {
     "duration": 0.057059,
     "end_time": "2023-10-30T18:25:30.596984",
     "exception": false,
     "start_time": "2023-10-30T18:25:30.539925",
     "status": "completed"
    },
    "tags": []
   },
   "outputs": [
    {
     "name": "stdout",
     "output_type": "stream",
     "text": [
      "<class 'pandas.core.frame.DataFrame'>\n",
      "RangeIndex: 1460 entries, 0 to 1459\n",
      "Data columns (total 80 columns):\n",
      " #   Column         Non-Null Count  Dtype  \n",
      "---  ------         --------------  -----  \n",
      " 0   Id             1460 non-null   int64  \n",
      " 1   MSSubClass     1460 non-null   int64  \n",
      " 2   MSZoning       1460 non-null   object \n",
      " 3   LotFrontage    1201 non-null   float64\n",
      " 4   LotArea        1460 non-null   int64  \n",
      " 5   Street         1460 non-null   object \n",
      " 6   Alley          91 non-null     object \n",
      " 7   LotShape       1460 non-null   object \n",
      " 8   LandContour    1460 non-null   object \n",
      " 9   Utilities      1460 non-null   object \n",
      " 10  LotConfig      1460 non-null   object \n",
      " 11  LandSlope      1460 non-null   object \n",
      " 12  Neighborhood   1460 non-null   object \n",
      " 13  Condition1     1460 non-null   object \n",
      " 14  Condition2     1460 non-null   object \n",
      " 15  BldgType       1460 non-null   object \n",
      " 16  HouseStyle     1460 non-null   object \n",
      " 17  OverallQual    1460 non-null   int64  \n",
      " 18  OverallCond    1460 non-null   int64  \n",
      " 19  YearBuilt      1460 non-null   int64  \n",
      " 20  YearRemodAdd   1460 non-null   int64  \n",
      " 21  RoofStyle      1460 non-null   object \n",
      " 22  RoofMatl       1460 non-null   object \n",
      " 23  Exterior1st    1460 non-null   object \n",
      " 24  Exterior2nd    1460 non-null   object \n",
      " 25  MasVnrType     588 non-null    object \n",
      " 26  MasVnrArea     1452 non-null   float64\n",
      " 27  ExterQual      1460 non-null   object \n",
      " 28  ExterCond      1460 non-null   object \n",
      " 29  Foundation     1460 non-null   object \n",
      " 30  BsmtQual       1423 non-null   object \n",
      " 31  BsmtCond       1423 non-null   object \n",
      " 32  BsmtExposure   1422 non-null   object \n",
      " 33  BsmtFinType1   1423 non-null   object \n",
      " 34  BsmtFinSF1     1460 non-null   int64  \n",
      " 35  BsmtFinType2   1422 non-null   object \n",
      " 36  BsmtFinSF2     1460 non-null   int64  \n",
      " 37  BsmtUnfSF      1460 non-null   int64  \n",
      " 38  TotalBsmtSF    1460 non-null   int64  \n",
      " 39  Heating        1460 non-null   object \n",
      " 40  HeatingQC      1460 non-null   object \n",
      " 41  CentralAir     1460 non-null   object \n",
      " 42  Electrical     1459 non-null   object \n",
      " 43  1stFlrSF       1460 non-null   int64  \n",
      " 44  2ndFlrSF       1460 non-null   int64  \n",
      " 45  LowQualFinSF   1460 non-null   int64  \n",
      " 46  GrLivArea      1460 non-null   int64  \n",
      " 47  BsmtFullBath   1460 non-null   int64  \n",
      " 48  BsmtHalfBath   1460 non-null   int64  \n",
      " 49  FullBath       1460 non-null   int64  \n",
      " 50  HalfBath       1460 non-null   int64  \n",
      " 51  BedroomAbvGr   1460 non-null   int64  \n",
      " 52  KitchenAbvGr   1460 non-null   int64  \n",
      " 53  KitchenQual    1460 non-null   object \n",
      " 54  TotRmsAbvGrd   1460 non-null   int64  \n",
      " 55  Functional     1460 non-null   object \n",
      " 56  Fireplaces     1460 non-null   int64  \n",
      " 57  FireplaceQu    770 non-null    object \n",
      " 58  GarageType     1379 non-null   object \n",
      " 59  GarageYrBlt    1379 non-null   float64\n",
      " 60  GarageFinish   1379 non-null   object \n",
      " 61  GarageCars     1460 non-null   int64  \n",
      " 62  GarageArea     1460 non-null   int64  \n",
      " 63  GarageQual     1379 non-null   object \n",
      " 64  GarageCond     1379 non-null   object \n",
      " 65  PavedDrive     1460 non-null   object \n",
      " 66  WoodDeckSF     1460 non-null   int64  \n",
      " 67  OpenPorchSF    1460 non-null   int64  \n",
      " 68  EnclosedPorch  1460 non-null   int64  \n",
      " 69  3SsnPorch      1460 non-null   int64  \n",
      " 70  ScreenPorch    1460 non-null   int64  \n",
      " 71  PoolArea       1460 non-null   int64  \n",
      " 72  PoolQC         7 non-null      object \n",
      " 73  Fence          281 non-null    object \n",
      " 74  MiscFeature    54 non-null     object \n",
      " 75  MiscVal        1460 non-null   int64  \n",
      " 76  MoSold         1460 non-null   int64  \n",
      " 77  YrSold         1460 non-null   int64  \n",
      " 78  SaleType       1460 non-null   object \n",
      " 79  SaleCondition  1460 non-null   object \n",
      "dtypes: float64(3), int64(34), object(43)\n",
      "memory usage: 912.6+ KB\n"
     ]
    }
   ],
   "source": [
    "data.info()"
   ]
  },
  {
   "cell_type": "markdown",
   "id": "909051d0",
   "metadata": {
    "papermill": {
     "duration": 0.013024,
     "end_time": "2023-10-30T18:25:30.621965",
     "exception": false,
     "start_time": "2023-10-30T18:25:30.608941",
     "status": "completed"
    },
    "tags": []
   },
   "source": [
    "# Data Preprocessing: Handling missing data\n",
    "Upon [inspecting the dataset information](#Load-and-preview-dataset), we notice that some features contain `NaN` values.\n",
    "\n",
    "First, let's identify which features contain `NaN` values and decide how to deal with them, depending on the proportion of missing values."
   ]
  },
  {
   "cell_type": "code",
   "execution_count": 5,
   "id": "8de8c031",
   "metadata": {
    "execution": {
     "iopub.execute_input": "2023-10-30T18:25:30.649026Z",
     "iopub.status.busy": "2023-10-30T18:25:30.648469Z",
     "iopub.status.idle": "2023-10-30T18:25:30.669946Z",
     "shell.execute_reply": "2023-10-30T18:25:30.668322Z"
    },
    "papermill": {
     "duration": 0.038855,
     "end_time": "2023-10-30T18:25:30.673410",
     "exception": false,
     "start_time": "2023-10-30T18:25:30.634555",
     "status": "completed"
    },
    "tags": []
   },
   "outputs": [
    {
     "data": {
      "text/plain": [
       "PoolQC          99.5205%\n",
       "MiscFeature     96.3014%\n",
       "Alley           93.7671%\n",
       "Fence           80.7534%\n",
       "MasVnrType       59.726%\n",
       "FireplaceQu     47.2603%\n",
       "LotFrontage     17.7397%\n",
       "GarageCond       5.5479%\n",
       "GarageType       5.5479%\n",
       "GarageYrBlt      5.5479%\n",
       "GarageQual       5.5479%\n",
       "GarageFinish     5.5479%\n",
       "BsmtFinType2     2.6027%\n",
       "BsmtExposure     2.6027%\n",
       "BsmtFinType1     2.5342%\n",
       "BsmtCond         2.5342%\n",
       "BsmtQual         2.5342%\n",
       "MasVnrArea       0.5479%\n",
       "Electrical       0.0685%\n",
       "dtype: object"
      ]
     },
     "execution_count": 5,
     "metadata": {},
     "output_type": "execute_result"
    }
   ],
   "source": [
    "null_features = data.isna().mean().sort_values(ascending=False)\n",
    "null_features = null_features[null_features > 0]\n",
    "null_features = null_features.map(lambda x: str(round(x * 100, 4)) + \"%\")\n",
    "null_features"
   ]
  },
  {
   "cell_type": "markdown",
   "id": "f82b0c1b",
   "metadata": {
    "papermill": {
     "duration": 0.012507,
     "end_time": "2023-10-30T18:25:30.698082",
     "exception": false,
     "start_time": "2023-10-30T18:25:30.685575",
     "status": "completed"
    },
    "tags": []
   },
   "source": [
    "Some features like `PoolQC` have a majority of `NaN` values. For such columns, we will completely remove them as they do not provide information for our analysis.\n",
    "\n",
    "In addition, the `Id` column is irrelevant to the dataset - we will also remove this column."
   ]
  },
  {
   "cell_type": "code",
   "execution_count": 6,
   "id": "656ed1d0",
   "metadata": {
    "execution": {
     "iopub.execute_input": "2023-10-30T18:25:30.726022Z",
     "iopub.status.busy": "2023-10-30T18:25:30.725476Z",
     "iopub.status.idle": "2023-10-30T18:25:30.731912Z",
     "shell.execute_reply": "2023-10-30T18:25:30.730569Z"
    },
    "papermill": {
     "duration": 0.02382,
     "end_time": "2023-10-30T18:25:30.734964",
     "exception": false,
     "start_time": "2023-10-30T18:25:30.711144",
     "status": "completed"
    },
    "tags": []
   },
   "outputs": [],
   "source": [
    "drop_features = ['Id', 'PoolQC', 'MiscFeature', 'Alley', 'Fence', 'MasVnrType', 'FireplaceQu']"
   ]
  },
  {
   "cell_type": "code",
   "execution_count": 7,
   "id": "24c7f3c0",
   "metadata": {
    "execution": {
     "iopub.execute_input": "2023-10-30T18:25:30.763017Z",
     "iopub.status.busy": "2023-10-30T18:25:30.761719Z",
     "iopub.status.idle": "2023-10-30T18:25:30.794590Z",
     "shell.execute_reply": "2023-10-30T18:25:30.792359Z"
    },
    "papermill": {
     "duration": 0.050533,
     "end_time": "2023-10-30T18:25:30.797997",
     "exception": false,
     "start_time": "2023-10-30T18:25:30.747464",
     "status": "completed"
    },
    "tags": []
   },
   "outputs": [
    {
     "data": {
      "text/html": [
       "<div>\n",
       "<style scoped>\n",
       "    .dataframe tbody tr th:only-of-type {\n",
       "        vertical-align: middle;\n",
       "    }\n",
       "\n",
       "    .dataframe tbody tr th {\n",
       "        vertical-align: top;\n",
       "    }\n",
       "\n",
       "    .dataframe thead th {\n",
       "        text-align: right;\n",
       "    }\n",
       "</style>\n",
       "<table border=\"1\" class=\"dataframe\">\n",
       "  <thead>\n",
       "    <tr style=\"text-align: right;\">\n",
       "      <th></th>\n",
       "      <th>MSSubClass</th>\n",
       "      <th>MSZoning</th>\n",
       "      <th>LotFrontage</th>\n",
       "      <th>LotArea</th>\n",
       "      <th>Street</th>\n",
       "      <th>LotShape</th>\n",
       "      <th>LandContour</th>\n",
       "      <th>Utilities</th>\n",
       "      <th>LotConfig</th>\n",
       "      <th>LandSlope</th>\n",
       "      <th>...</th>\n",
       "      <th>OpenPorchSF</th>\n",
       "      <th>EnclosedPorch</th>\n",
       "      <th>3SsnPorch</th>\n",
       "      <th>ScreenPorch</th>\n",
       "      <th>PoolArea</th>\n",
       "      <th>MiscVal</th>\n",
       "      <th>MoSold</th>\n",
       "      <th>YrSold</th>\n",
       "      <th>SaleType</th>\n",
       "      <th>SaleCondition</th>\n",
       "    </tr>\n",
       "  </thead>\n",
       "  <tbody>\n",
       "    <tr>\n",
       "      <th>0</th>\n",
       "      <td>60</td>\n",
       "      <td>RL</td>\n",
       "      <td>65.0</td>\n",
       "      <td>8450</td>\n",
       "      <td>Pave</td>\n",
       "      <td>Reg</td>\n",
       "      <td>Lvl</td>\n",
       "      <td>AllPub</td>\n",
       "      <td>Inside</td>\n",
       "      <td>Gtl</td>\n",
       "      <td>...</td>\n",
       "      <td>61</td>\n",
       "      <td>0</td>\n",
       "      <td>0</td>\n",
       "      <td>0</td>\n",
       "      <td>0</td>\n",
       "      <td>0</td>\n",
       "      <td>2</td>\n",
       "      <td>2008</td>\n",
       "      <td>WD</td>\n",
       "      <td>Normal</td>\n",
       "    </tr>\n",
       "    <tr>\n",
       "      <th>1</th>\n",
       "      <td>20</td>\n",
       "      <td>RL</td>\n",
       "      <td>80.0</td>\n",
       "      <td>9600</td>\n",
       "      <td>Pave</td>\n",
       "      <td>Reg</td>\n",
       "      <td>Lvl</td>\n",
       "      <td>AllPub</td>\n",
       "      <td>FR2</td>\n",
       "      <td>Gtl</td>\n",
       "      <td>...</td>\n",
       "      <td>0</td>\n",
       "      <td>0</td>\n",
       "      <td>0</td>\n",
       "      <td>0</td>\n",
       "      <td>0</td>\n",
       "      <td>0</td>\n",
       "      <td>5</td>\n",
       "      <td>2007</td>\n",
       "      <td>WD</td>\n",
       "      <td>Normal</td>\n",
       "    </tr>\n",
       "    <tr>\n",
       "      <th>2</th>\n",
       "      <td>60</td>\n",
       "      <td>RL</td>\n",
       "      <td>68.0</td>\n",
       "      <td>11250</td>\n",
       "      <td>Pave</td>\n",
       "      <td>IR1</td>\n",
       "      <td>Lvl</td>\n",
       "      <td>AllPub</td>\n",
       "      <td>Inside</td>\n",
       "      <td>Gtl</td>\n",
       "      <td>...</td>\n",
       "      <td>42</td>\n",
       "      <td>0</td>\n",
       "      <td>0</td>\n",
       "      <td>0</td>\n",
       "      <td>0</td>\n",
       "      <td>0</td>\n",
       "      <td>9</td>\n",
       "      <td>2008</td>\n",
       "      <td>WD</td>\n",
       "      <td>Normal</td>\n",
       "    </tr>\n",
       "    <tr>\n",
       "      <th>3</th>\n",
       "      <td>70</td>\n",
       "      <td>RL</td>\n",
       "      <td>60.0</td>\n",
       "      <td>9550</td>\n",
       "      <td>Pave</td>\n",
       "      <td>IR1</td>\n",
       "      <td>Lvl</td>\n",
       "      <td>AllPub</td>\n",
       "      <td>Corner</td>\n",
       "      <td>Gtl</td>\n",
       "      <td>...</td>\n",
       "      <td>35</td>\n",
       "      <td>272</td>\n",
       "      <td>0</td>\n",
       "      <td>0</td>\n",
       "      <td>0</td>\n",
       "      <td>0</td>\n",
       "      <td>2</td>\n",
       "      <td>2006</td>\n",
       "      <td>WD</td>\n",
       "      <td>Abnorml</td>\n",
       "    </tr>\n",
       "    <tr>\n",
       "      <th>4</th>\n",
       "      <td>60</td>\n",
       "      <td>RL</td>\n",
       "      <td>84.0</td>\n",
       "      <td>14260</td>\n",
       "      <td>Pave</td>\n",
       "      <td>IR1</td>\n",
       "      <td>Lvl</td>\n",
       "      <td>AllPub</td>\n",
       "      <td>FR2</td>\n",
       "      <td>Gtl</td>\n",
       "      <td>...</td>\n",
       "      <td>84</td>\n",
       "      <td>0</td>\n",
       "      <td>0</td>\n",
       "      <td>0</td>\n",
       "      <td>0</td>\n",
       "      <td>0</td>\n",
       "      <td>12</td>\n",
       "      <td>2008</td>\n",
       "      <td>WD</td>\n",
       "      <td>Normal</td>\n",
       "    </tr>\n",
       "  </tbody>\n",
       "</table>\n",
       "<p>5 rows × 73 columns</p>\n",
       "</div>"
      ],
      "text/plain": [
       "   MSSubClass MSZoning  LotFrontage  LotArea Street LotShape LandContour  \\\n",
       "0          60       RL         65.0     8450   Pave      Reg         Lvl   \n",
       "1          20       RL         80.0     9600   Pave      Reg         Lvl   \n",
       "2          60       RL         68.0    11250   Pave      IR1         Lvl   \n",
       "3          70       RL         60.0     9550   Pave      IR1         Lvl   \n",
       "4          60       RL         84.0    14260   Pave      IR1         Lvl   \n",
       "\n",
       "  Utilities LotConfig LandSlope  ... OpenPorchSF EnclosedPorch 3SsnPorch  \\\n",
       "0    AllPub    Inside       Gtl  ...          61             0         0   \n",
       "1    AllPub       FR2       Gtl  ...           0             0         0   \n",
       "2    AllPub    Inside       Gtl  ...          42             0         0   \n",
       "3    AllPub    Corner       Gtl  ...          35           272         0   \n",
       "4    AllPub       FR2       Gtl  ...          84             0         0   \n",
       "\n",
       "  ScreenPorch PoolArea  MiscVal  MoSold  YrSold  SaleType SaleCondition  \n",
       "0           0        0        0       2    2008        WD        Normal  \n",
       "1           0        0        0       5    2007        WD        Normal  \n",
       "2           0        0        0       9    2008        WD        Normal  \n",
       "3           0        0        0       2    2006        WD       Abnorml  \n",
       "4           0        0        0      12    2008        WD        Normal  \n",
       "\n",
       "[5 rows x 73 columns]"
      ]
     },
     "execution_count": 7,
     "metadata": {},
     "output_type": "execute_result"
    }
   ],
   "source": [
    "data = data.drop(columns=drop_features)\n",
    "data.head()"
   ]
  },
  {
   "cell_type": "markdown",
   "id": "9a09202c",
   "metadata": {
    "papermill": {
     "duration": 0.012335,
     "end_time": "2023-10-30T18:25:30.825409",
     "exception": false,
     "start_time": "2023-10-30T18:25:30.813074",
     "status": "completed"
    },
    "tags": []
   },
   "source": [
    "Some columns consist of multiple data types. We will detect and investigate these columns."
   ]
  },
  {
   "cell_type": "code",
   "execution_count": 8,
   "id": "58af0caa",
   "metadata": {
    "execution": {
     "iopub.execute_input": "2023-10-30T18:25:30.853446Z",
     "iopub.status.busy": "2023-10-30T18:25:30.852603Z",
     "iopub.status.idle": "2023-10-30T18:25:31.272202Z",
     "shell.execute_reply": "2023-10-30T18:25:31.269323Z"
    },
    "papermill": {
     "duration": 0.439551,
     "end_time": "2023-10-30T18:25:31.277762",
     "exception": false,
     "start_time": "2023-10-30T18:25:30.838211",
     "status": "completed"
    },
    "tags": []
   },
   "outputs": [
    {
     "name": "stdout",
     "output_type": "stream",
     "text": [
      "LotFrontage [<class 'float'> <class 'str'>]\n",
      "MasVnrArea [<class 'float'> <class 'str'>]\n",
      "GarageYrBlt [<class 'float'> <class 'str'>]\n"
     ]
    },
    {
     "data": {
      "text/html": [
       "<div>\n",
       "<style scoped>\n",
       "    .dataframe tbody tr th:only-of-type {\n",
       "        vertical-align: middle;\n",
       "    }\n",
       "\n",
       "    .dataframe tbody tr th {\n",
       "        vertical-align: top;\n",
       "    }\n",
       "\n",
       "    .dataframe thead th {\n",
       "        text-align: right;\n",
       "    }\n",
       "</style>\n",
       "<table border=\"1\" class=\"dataframe\">\n",
       "  <thead>\n",
       "    <tr style=\"text-align: right;\">\n",
       "      <th></th>\n",
       "      <th>MSSubClass</th>\n",
       "      <th>MSZoning</th>\n",
       "      <th>LotFrontage</th>\n",
       "      <th>LotArea</th>\n",
       "      <th>Street</th>\n",
       "      <th>LotShape</th>\n",
       "      <th>LandContour</th>\n",
       "      <th>Utilities</th>\n",
       "      <th>LotConfig</th>\n",
       "      <th>LandSlope</th>\n",
       "      <th>...</th>\n",
       "      <th>OpenPorchSF</th>\n",
       "      <th>EnclosedPorch</th>\n",
       "      <th>3SsnPorch</th>\n",
       "      <th>ScreenPorch</th>\n",
       "      <th>PoolArea</th>\n",
       "      <th>MiscVal</th>\n",
       "      <th>MoSold</th>\n",
       "      <th>YrSold</th>\n",
       "      <th>SaleType</th>\n",
       "      <th>SaleCondition</th>\n",
       "    </tr>\n",
       "  </thead>\n",
       "  <tbody>\n",
       "    <tr>\n",
       "      <th>0</th>\n",
       "      <td>5</td>\n",
       "      <td>3</td>\n",
       "      <td>36</td>\n",
       "      <td>327</td>\n",
       "      <td>1</td>\n",
       "      <td>3</td>\n",
       "      <td>3</td>\n",
       "      <td>0</td>\n",
       "      <td>4</td>\n",
       "      <td>0</td>\n",
       "      <td>...</td>\n",
       "      <td>49</td>\n",
       "      <td>0</td>\n",
       "      <td>0</td>\n",
       "      <td>0</td>\n",
       "      <td>0</td>\n",
       "      <td>0</td>\n",
       "      <td>1</td>\n",
       "      <td>2</td>\n",
       "      <td>8</td>\n",
       "      <td>4</td>\n",
       "    </tr>\n",
       "    <tr>\n",
       "      <th>1</th>\n",
       "      <td>0</td>\n",
       "      <td>3</td>\n",
       "      <td>51</td>\n",
       "      <td>498</td>\n",
       "      <td>1</td>\n",
       "      <td>3</td>\n",
       "      <td>3</td>\n",
       "      <td>0</td>\n",
       "      <td>2</td>\n",
       "      <td>0</td>\n",
       "      <td>...</td>\n",
       "      <td>0</td>\n",
       "      <td>0</td>\n",
       "      <td>0</td>\n",
       "      <td>0</td>\n",
       "      <td>0</td>\n",
       "      <td>0</td>\n",
       "      <td>4</td>\n",
       "      <td>1</td>\n",
       "      <td>8</td>\n",
       "      <td>4</td>\n",
       "    </tr>\n",
       "    <tr>\n",
       "      <th>2</th>\n",
       "      <td>5</td>\n",
       "      <td>3</td>\n",
       "      <td>39</td>\n",
       "      <td>702</td>\n",
       "      <td>1</td>\n",
       "      <td>0</td>\n",
       "      <td>3</td>\n",
       "      <td>0</td>\n",
       "      <td>4</td>\n",
       "      <td>0</td>\n",
       "      <td>...</td>\n",
       "      <td>30</td>\n",
       "      <td>0</td>\n",
       "      <td>0</td>\n",
       "      <td>0</td>\n",
       "      <td>0</td>\n",
       "      <td>0</td>\n",
       "      <td>8</td>\n",
       "      <td>2</td>\n",
       "      <td>8</td>\n",
       "      <td>4</td>\n",
       "    </tr>\n",
       "    <tr>\n",
       "      <th>3</th>\n",
       "      <td>6</td>\n",
       "      <td>3</td>\n",
       "      <td>31</td>\n",
       "      <td>489</td>\n",
       "      <td>1</td>\n",
       "      <td>0</td>\n",
       "      <td>3</td>\n",
       "      <td>0</td>\n",
       "      <td>0</td>\n",
       "      <td>0</td>\n",
       "      <td>...</td>\n",
       "      <td>24</td>\n",
       "      <td>108</td>\n",
       "      <td>0</td>\n",
       "      <td>0</td>\n",
       "      <td>0</td>\n",
       "      <td>0</td>\n",
       "      <td>1</td>\n",
       "      <td>0</td>\n",
       "      <td>8</td>\n",
       "      <td>0</td>\n",
       "    </tr>\n",
       "    <tr>\n",
       "      <th>4</th>\n",
       "      <td>5</td>\n",
       "      <td>3</td>\n",
       "      <td>55</td>\n",
       "      <td>925</td>\n",
       "      <td>1</td>\n",
       "      <td>0</td>\n",
       "      <td>3</td>\n",
       "      <td>0</td>\n",
       "      <td>2</td>\n",
       "      <td>0</td>\n",
       "      <td>...</td>\n",
       "      <td>70</td>\n",
       "      <td>0</td>\n",
       "      <td>0</td>\n",
       "      <td>0</td>\n",
       "      <td>0</td>\n",
       "      <td>0</td>\n",
       "      <td>11</td>\n",
       "      <td>2</td>\n",
       "      <td>8</td>\n",
       "      <td>4</td>\n",
       "    </tr>\n",
       "  </tbody>\n",
       "</table>\n",
       "<p>5 rows × 73 columns</p>\n",
       "</div>"
      ],
      "text/plain": [
       "   MSSubClass  MSZoning  LotFrontage  LotArea  Street  LotShape  LandContour  \\\n",
       "0           5         3           36      327       1         3            3   \n",
       "1           0         3           51      498       1         3            3   \n",
       "2           5         3           39      702       1         0            3   \n",
       "3           6         3           31      489       1         0            3   \n",
       "4           5         3           55      925       1         0            3   \n",
       "\n",
       "   Utilities  LotConfig  LandSlope  ...  OpenPorchSF  EnclosedPorch  \\\n",
       "0          0          4          0  ...           49              0   \n",
       "1          0          2          0  ...            0              0   \n",
       "2          0          4          0  ...           30              0   \n",
       "3          0          0          0  ...           24            108   \n",
       "4          0          2          0  ...           70              0   \n",
       "\n",
       "   3SsnPorch  ScreenPorch  PoolArea  MiscVal  MoSold  YrSold  SaleType  \\\n",
       "0          0            0         0        0       1       2         8   \n",
       "1          0            0         0        0       4       1         8   \n",
       "2          0            0         0        0       8       2         8   \n",
       "3          0            0         0        0       1       0         8   \n",
       "4          0            0         0        0      11       2         8   \n",
       "\n",
       "   SaleCondition  \n",
       "0              4  \n",
       "1              4  \n",
       "2              4  \n",
       "3              0  \n",
       "4              4  \n",
       "\n",
       "[5 rows x 73 columns]"
      ]
     },
     "execution_count": 8,
     "metadata": {},
     "output_type": "execute_result"
    }
   ],
   "source": [
    "label_encoder = LabelEncoder()\n",
    "for col in list(data.columns):\n",
    "    unique_data_types = data[col].apply(lambda x: x if pd.notnull(x) else 'NaN').apply(type).unique()\n",
    "    if len(unique_data_types) > 1:\n",
    "        print(col, unique_data_types)\n",
    "        string_values = data[data[col].apply(lambda x: isinstance(x, int))][col]\n",
    "    data[col] = label_encoder.fit_transform(data[col])\n",
    "data.head()"
   ]
  },
  {
   "cell_type": "markdown",
   "id": "ed6c2d76",
   "metadata": {
    "papermill": {
     "duration": 0.017599,
     "end_time": "2023-10-30T18:25:31.316698",
     "exception": false,
     "start_time": "2023-10-30T18:25:31.299099",
     "status": "completed"
    },
    "tags": []
   },
   "source": [
    "For features with a relatively low proportion of `NaN` values, we simply replace them with zeros."
   ]
  },
  {
   "cell_type": "code",
   "execution_count": 9,
   "id": "85f73034",
   "metadata": {
    "execution": {
     "iopub.execute_input": "2023-10-30T18:25:31.354961Z",
     "iopub.status.busy": "2023-10-30T18:25:31.353873Z",
     "iopub.status.idle": "2023-10-30T18:25:31.382175Z",
     "shell.execute_reply": "2023-10-30T18:25:31.380564Z"
    },
    "papermill": {
     "duration": 0.049563,
     "end_time": "2023-10-30T18:25:31.385426",
     "exception": false,
     "start_time": "2023-10-30T18:25:31.335863",
     "status": "completed"
    },
    "tags": []
   },
   "outputs": [
    {
     "data": {
      "text/html": [
       "<div>\n",
       "<style scoped>\n",
       "    .dataframe tbody tr th:only-of-type {\n",
       "        vertical-align: middle;\n",
       "    }\n",
       "\n",
       "    .dataframe tbody tr th {\n",
       "        vertical-align: top;\n",
       "    }\n",
       "\n",
       "    .dataframe thead th {\n",
       "        text-align: right;\n",
       "    }\n",
       "</style>\n",
       "<table border=\"1\" class=\"dataframe\">\n",
       "  <thead>\n",
       "    <tr style=\"text-align: right;\">\n",
       "      <th></th>\n",
       "      <th>MSSubClass</th>\n",
       "      <th>MSZoning</th>\n",
       "      <th>LotFrontage</th>\n",
       "      <th>LotArea</th>\n",
       "      <th>Street</th>\n",
       "      <th>LotShape</th>\n",
       "      <th>LandContour</th>\n",
       "      <th>Utilities</th>\n",
       "      <th>LotConfig</th>\n",
       "      <th>LandSlope</th>\n",
       "      <th>...</th>\n",
       "      <th>OpenPorchSF</th>\n",
       "      <th>EnclosedPorch</th>\n",
       "      <th>3SsnPorch</th>\n",
       "      <th>ScreenPorch</th>\n",
       "      <th>PoolArea</th>\n",
       "      <th>MiscVal</th>\n",
       "      <th>MoSold</th>\n",
       "      <th>YrSold</th>\n",
       "      <th>SaleType</th>\n",
       "      <th>SaleCondition</th>\n",
       "    </tr>\n",
       "  </thead>\n",
       "  <tbody>\n",
       "    <tr>\n",
       "      <th>0</th>\n",
       "      <td>5</td>\n",
       "      <td>3</td>\n",
       "      <td>36</td>\n",
       "      <td>327</td>\n",
       "      <td>1</td>\n",
       "      <td>3</td>\n",
       "      <td>3</td>\n",
       "      <td>0</td>\n",
       "      <td>4</td>\n",
       "      <td>0</td>\n",
       "      <td>...</td>\n",
       "      <td>49</td>\n",
       "      <td>0</td>\n",
       "      <td>0</td>\n",
       "      <td>0</td>\n",
       "      <td>0</td>\n",
       "      <td>0</td>\n",
       "      <td>1</td>\n",
       "      <td>2</td>\n",
       "      <td>8</td>\n",
       "      <td>4</td>\n",
       "    </tr>\n",
       "    <tr>\n",
       "      <th>1</th>\n",
       "      <td>0</td>\n",
       "      <td>3</td>\n",
       "      <td>51</td>\n",
       "      <td>498</td>\n",
       "      <td>1</td>\n",
       "      <td>3</td>\n",
       "      <td>3</td>\n",
       "      <td>0</td>\n",
       "      <td>2</td>\n",
       "      <td>0</td>\n",
       "      <td>...</td>\n",
       "      <td>0</td>\n",
       "      <td>0</td>\n",
       "      <td>0</td>\n",
       "      <td>0</td>\n",
       "      <td>0</td>\n",
       "      <td>0</td>\n",
       "      <td>4</td>\n",
       "      <td>1</td>\n",
       "      <td>8</td>\n",
       "      <td>4</td>\n",
       "    </tr>\n",
       "    <tr>\n",
       "      <th>2</th>\n",
       "      <td>5</td>\n",
       "      <td>3</td>\n",
       "      <td>39</td>\n",
       "      <td>702</td>\n",
       "      <td>1</td>\n",
       "      <td>0</td>\n",
       "      <td>3</td>\n",
       "      <td>0</td>\n",
       "      <td>4</td>\n",
       "      <td>0</td>\n",
       "      <td>...</td>\n",
       "      <td>30</td>\n",
       "      <td>0</td>\n",
       "      <td>0</td>\n",
       "      <td>0</td>\n",
       "      <td>0</td>\n",
       "      <td>0</td>\n",
       "      <td>8</td>\n",
       "      <td>2</td>\n",
       "      <td>8</td>\n",
       "      <td>4</td>\n",
       "    </tr>\n",
       "    <tr>\n",
       "      <th>3</th>\n",
       "      <td>6</td>\n",
       "      <td>3</td>\n",
       "      <td>31</td>\n",
       "      <td>489</td>\n",
       "      <td>1</td>\n",
       "      <td>0</td>\n",
       "      <td>3</td>\n",
       "      <td>0</td>\n",
       "      <td>0</td>\n",
       "      <td>0</td>\n",
       "      <td>...</td>\n",
       "      <td>24</td>\n",
       "      <td>108</td>\n",
       "      <td>0</td>\n",
       "      <td>0</td>\n",
       "      <td>0</td>\n",
       "      <td>0</td>\n",
       "      <td>1</td>\n",
       "      <td>0</td>\n",
       "      <td>8</td>\n",
       "      <td>0</td>\n",
       "    </tr>\n",
       "    <tr>\n",
       "      <th>4</th>\n",
       "      <td>5</td>\n",
       "      <td>3</td>\n",
       "      <td>55</td>\n",
       "      <td>925</td>\n",
       "      <td>1</td>\n",
       "      <td>0</td>\n",
       "      <td>3</td>\n",
       "      <td>0</td>\n",
       "      <td>2</td>\n",
       "      <td>0</td>\n",
       "      <td>...</td>\n",
       "      <td>70</td>\n",
       "      <td>0</td>\n",
       "      <td>0</td>\n",
       "      <td>0</td>\n",
       "      <td>0</td>\n",
       "      <td>0</td>\n",
       "      <td>11</td>\n",
       "      <td>2</td>\n",
       "      <td>8</td>\n",
       "      <td>4</td>\n",
       "    </tr>\n",
       "  </tbody>\n",
       "</table>\n",
       "<p>5 rows × 73 columns</p>\n",
       "</div>"
      ],
      "text/plain": [
       "   MSSubClass  MSZoning  LotFrontage  LotArea  Street  LotShape  LandContour  \\\n",
       "0           5         3           36      327       1         3            3   \n",
       "1           0         3           51      498       1         3            3   \n",
       "2           5         3           39      702       1         0            3   \n",
       "3           6         3           31      489       1         0            3   \n",
       "4           5         3           55      925       1         0            3   \n",
       "\n",
       "   Utilities  LotConfig  LandSlope  ...  OpenPorchSF  EnclosedPorch  \\\n",
       "0          0          4          0  ...           49              0   \n",
       "1          0          2          0  ...            0              0   \n",
       "2          0          4          0  ...           30              0   \n",
       "3          0          0          0  ...           24            108   \n",
       "4          0          2          0  ...           70              0   \n",
       "\n",
       "   3SsnPorch  ScreenPorch  PoolArea  MiscVal  MoSold  YrSold  SaleType  \\\n",
       "0          0            0         0        0       1       2         8   \n",
       "1          0            0         0        0       4       1         8   \n",
       "2          0            0         0        0       8       2         8   \n",
       "3          0            0         0        0       1       0         8   \n",
       "4          0            0         0        0      11       2         8   \n",
       "\n",
       "   SaleCondition  \n",
       "0              4  \n",
       "1              4  \n",
       "2              4  \n",
       "3              0  \n",
       "4              4  \n",
       "\n",
       "[5 rows x 73 columns]"
      ]
     },
     "execution_count": 9,
     "metadata": {},
     "output_type": "execute_result"
    }
   ],
   "source": [
    "data = data.fillna(0)\n",
    "data.head()"
   ]
  },
  {
   "cell_type": "markdown",
   "id": "6139bb94",
   "metadata": {
    "papermill": {
     "duration": 0.013982,
     "end_time": "2023-10-30T18:25:31.414816",
     "exception": false,
     "start_time": "2023-10-30T18:25:31.400834",
     "status": "completed"
    },
    "tags": []
   },
   "source": [
    "We create our first pipeline class as follows for processing `NaN` values:"
   ]
  },
  {
   "cell_type": "code",
   "execution_count": 10,
   "id": "d942a467",
   "metadata": {
    "execution": {
     "iopub.execute_input": "2023-10-30T18:25:31.445653Z",
     "iopub.status.busy": "2023-10-30T18:25:31.444636Z",
     "iopub.status.idle": "2023-10-30T18:25:31.455166Z",
     "shell.execute_reply": "2023-10-30T18:25:31.453505Z"
    },
    "papermill": {
     "duration": 0.029292,
     "end_time": "2023-10-30T18:25:31.458495",
     "exception": false,
     "start_time": "2023-10-30T18:25:31.429203",
     "status": "completed"
    },
    "tags": []
   },
   "outputs": [],
   "source": [
    "class ProcessNullValues(TransformerMixin, BaseEstimator):\n",
    "    def fit(self, X, y=None):\n",
    "        return self\n",
    "    \n",
    "    def transform(self, X, y=None):\n",
    "        drop_features = ['Id', 'PoolQC', 'MiscFeature', 'Alley', 'Fence', 'MasVnrType', 'FireplaceQu']\n",
    "        X = X.drop(columns=drop_features)\n",
    "        \n",
    "        label_encoder = LabelEncoder()\n",
    "        for col in list(X.columns):\n",
    "            unique_data_types = X[col].apply(lambda x: x if pd.notnull(x) else 'NaN').apply(type).unique()\n",
    "            if len(unique_data_types) > 1:\n",
    "                string_values = X[X[col].apply(lambda x: isinstance(x, int))][col]\n",
    "            X[col] = label_encoder.fit_transform(X[col])\n",
    "        \n",
    "        X = X.fillna(0)\n",
    "        return X"
   ]
  },
  {
   "cell_type": "markdown",
   "id": "c3250f94",
   "metadata": {
    "papermill": {
     "duration": 0.016619,
     "end_time": "2023-10-30T18:25:31.488768",
     "exception": false,
     "start_time": "2023-10-30T18:25:31.472149",
     "status": "completed"
    },
    "tags": []
   },
   "source": [
    "# Data Preprocessing: Encoding categorical features\n",
    "Upon [inspecting the dataset information](#Load-and-preview-dataset), we notice that some features are categorical (non-numerical). These features must be processed beforehand.\n",
    "\n",
    "Note that some features such as `KitchenQual` assign ordinal quality ratings (better quality = better rating). Some machine learning models can handle ordinal categorical data even if you don't encode them in a specific order. For instance, decision trees and random forests can naturally split and make decisions based on ordinal features without explicitly specifying an order."
   ]
  },
  {
   "cell_type": "markdown",
   "id": "fd14dace",
   "metadata": {
    "papermill": {
     "duration": 0.016077,
     "end_time": "2023-10-30T18:25:31.519856",
     "exception": false,
     "start_time": "2023-10-30T18:25:31.503779",
     "status": "completed"
    },
    "tags": []
   },
   "source": [
    "Let's first identify all categorical columns."
   ]
  },
  {
   "cell_type": "code",
   "execution_count": 11,
   "id": "740115a1",
   "metadata": {
    "execution": {
     "iopub.execute_input": "2023-10-30T18:25:31.551648Z",
     "iopub.status.busy": "2023-10-30T18:25:31.550399Z",
     "iopub.status.idle": "2023-10-30T18:25:31.565453Z",
     "shell.execute_reply": "2023-10-30T18:25:31.562788Z"
    },
    "papermill": {
     "duration": 0.035282,
     "end_time": "2023-10-30T18:25:31.569155",
     "exception": false,
     "start_time": "2023-10-30T18:25:31.533873",
     "status": "completed"
    },
    "tags": []
   },
   "outputs": [
    {
     "data": {
      "text/plain": [
       "Index([], dtype='object')"
      ]
     },
     "execution_count": 11,
     "metadata": {},
     "output_type": "execute_result"
    }
   ],
   "source": [
    "categorical_columns = data.select_dtypes(include=['object']).columns\n",
    "categorical_columns"
   ]
  },
  {
   "cell_type": "markdown",
   "id": "7f06f933",
   "metadata": {
    "papermill": {
     "duration": 0.014521,
     "end_time": "2023-10-30T18:25:31.598189",
     "exception": false,
     "start_time": "2023-10-30T18:25:31.583668",
     "status": "completed"
    },
    "tags": []
   },
   "source": [
    "# Feature correlation analysis\n",
    "In this section, we discover any correlations between features, as well as dominant features that are highly-correlated with the housing sales prices."
   ]
  },
  {
   "cell_type": "markdown",
   "id": "eb48d796",
   "metadata": {
    "papermill": {
     "duration": 0.01368,
     "end_time": "2023-10-30T18:25:31.626129",
     "exception": false,
     "start_time": "2023-10-30T18:25:31.612449",
     "status": "completed"
    },
    "tags": []
   },
   "source": [
    "## Correlations between features"
   ]
  },
  {
   "cell_type": "code",
   "execution_count": 12,
   "id": "48ef2e51",
   "metadata": {
    "execution": {
     "iopub.execute_input": "2023-10-30T18:25:31.658013Z",
     "iopub.status.busy": "2023-10-30T18:25:31.657000Z",
     "iopub.status.idle": "2023-10-30T18:25:31.662761Z",
     "shell.execute_reply": "2023-10-30T18:25:31.661311Z"
    },
    "papermill": {
     "duration": 0.025451,
     "end_time": "2023-10-30T18:25:31.666018",
     "exception": false,
     "start_time": "2023-10-30T18:25:31.640567",
     "status": "completed"
    },
    "tags": []
   },
   "outputs": [],
   "source": [
    "# feature_correlation = data.corr()\n",
    "# plt.figure(figsize=(16, 10))\n",
    "# sns.heatmap(data=feature_correlation, annot=True)"
   ]
  },
  {
   "cell_type": "markdown",
   "id": "60458149",
   "metadata": {
    "papermill": {
     "duration": 0.013213,
     "end_time": "2023-10-30T18:25:31.692816",
     "exception": false,
     "start_time": "2023-10-30T18:25:31.679603",
     "status": "completed"
    },
    "tags": []
   },
   "source": [
    "## Correlations between features and housing sales prices"
   ]
  },
  {
   "cell_type": "code",
   "execution_count": 13,
   "id": "c876ecfe",
   "metadata": {
    "execution": {
     "iopub.execute_input": "2023-10-30T18:25:31.723698Z",
     "iopub.status.busy": "2023-10-30T18:25:31.722720Z",
     "iopub.status.idle": "2023-10-30T18:25:31.728598Z",
     "shell.execute_reply": "2023-10-30T18:25:31.727402Z"
    },
    "papermill": {
     "duration": 0.024607,
     "end_time": "2023-10-30T18:25:31.731697",
     "exception": false,
     "start_time": "2023-10-30T18:25:31.707090",
     "status": "completed"
    },
    "tags": []
   },
   "outputs": [],
   "source": [
    "# correlation_data = data.corr()['SalePrice']\n",
    "# correlation_df = pd.DataFrame({'Feature': correlation_data.index, 'Correlation': correlation_data.values})\n",
    "# correlation_df = correlation_df.sort_values(by='Correlation', ascending=False)\n",
    "# correlation_df.reset_index(drop=True, inplace=True)\n",
    "# correlation_df.head()"
   ]
  },
  {
   "cell_type": "markdown",
   "id": "327344f2",
   "metadata": {
    "papermill": {
     "duration": 0.013226,
     "end_time": "2023-10-30T18:25:31.758414",
     "exception": false,
     "start_time": "2023-10-30T18:25:31.745188",
     "status": "completed"
    },
    "tags": []
   },
   "source": [
    "# Baseline model: linear regression\n",
    "We will examine the performance of a simple LR model to serve as a baseline reference for model selection and optimization."
   ]
  },
  {
   "cell_type": "code",
   "execution_count": 14,
   "id": "0d90c00b",
   "metadata": {
    "execution": {
     "iopub.execute_input": "2023-10-30T18:25:31.791744Z",
     "iopub.status.busy": "2023-10-30T18:25:31.790969Z",
     "iopub.status.idle": "2023-10-30T18:25:31.816339Z",
     "shell.execute_reply": "2023-10-30T18:25:31.814832Z"
    },
    "papermill": {
     "duration": 0.046237,
     "end_time": "2023-10-30T18:25:31.819520",
     "exception": false,
     "start_time": "2023-10-30T18:25:31.773283",
     "status": "completed"
    },
    "tags": []
   },
   "outputs": [
    {
     "data": {
      "text/html": [
       "<div>\n",
       "<style scoped>\n",
       "    .dataframe tbody tr th:only-of-type {\n",
       "        vertical-align: middle;\n",
       "    }\n",
       "\n",
       "    .dataframe tbody tr th {\n",
       "        vertical-align: top;\n",
       "    }\n",
       "\n",
       "    .dataframe thead th {\n",
       "        text-align: right;\n",
       "    }\n",
       "</style>\n",
       "<table border=\"1\" class=\"dataframe\">\n",
       "  <thead>\n",
       "    <tr style=\"text-align: right;\">\n",
       "      <th></th>\n",
       "      <th>MSSubClass</th>\n",
       "      <th>MSZoning</th>\n",
       "      <th>LotFrontage</th>\n",
       "      <th>LotArea</th>\n",
       "      <th>Street</th>\n",
       "      <th>LotShape</th>\n",
       "      <th>LandContour</th>\n",
       "      <th>Utilities</th>\n",
       "      <th>LotConfig</th>\n",
       "      <th>LandSlope</th>\n",
       "      <th>...</th>\n",
       "      <th>OpenPorchSF</th>\n",
       "      <th>EnclosedPorch</th>\n",
       "      <th>3SsnPorch</th>\n",
       "      <th>ScreenPorch</th>\n",
       "      <th>PoolArea</th>\n",
       "      <th>MiscVal</th>\n",
       "      <th>MoSold</th>\n",
       "      <th>YrSold</th>\n",
       "      <th>SaleType</th>\n",
       "      <th>SaleCondition</th>\n",
       "    </tr>\n",
       "  </thead>\n",
       "  <tbody>\n",
       "    <tr>\n",
       "      <th>0</th>\n",
       "      <td>5</td>\n",
       "      <td>3</td>\n",
       "      <td>36</td>\n",
       "      <td>327</td>\n",
       "      <td>1</td>\n",
       "      <td>3</td>\n",
       "      <td>3</td>\n",
       "      <td>0</td>\n",
       "      <td>4</td>\n",
       "      <td>0</td>\n",
       "      <td>...</td>\n",
       "      <td>49</td>\n",
       "      <td>0</td>\n",
       "      <td>0</td>\n",
       "      <td>0</td>\n",
       "      <td>0</td>\n",
       "      <td>0</td>\n",
       "      <td>1</td>\n",
       "      <td>2</td>\n",
       "      <td>8</td>\n",
       "      <td>4</td>\n",
       "    </tr>\n",
       "    <tr>\n",
       "      <th>1</th>\n",
       "      <td>0</td>\n",
       "      <td>3</td>\n",
       "      <td>51</td>\n",
       "      <td>498</td>\n",
       "      <td>1</td>\n",
       "      <td>3</td>\n",
       "      <td>3</td>\n",
       "      <td>0</td>\n",
       "      <td>2</td>\n",
       "      <td>0</td>\n",
       "      <td>...</td>\n",
       "      <td>0</td>\n",
       "      <td>0</td>\n",
       "      <td>0</td>\n",
       "      <td>0</td>\n",
       "      <td>0</td>\n",
       "      <td>0</td>\n",
       "      <td>4</td>\n",
       "      <td>1</td>\n",
       "      <td>8</td>\n",
       "      <td>4</td>\n",
       "    </tr>\n",
       "    <tr>\n",
       "      <th>2</th>\n",
       "      <td>5</td>\n",
       "      <td>3</td>\n",
       "      <td>39</td>\n",
       "      <td>702</td>\n",
       "      <td>1</td>\n",
       "      <td>0</td>\n",
       "      <td>3</td>\n",
       "      <td>0</td>\n",
       "      <td>4</td>\n",
       "      <td>0</td>\n",
       "      <td>...</td>\n",
       "      <td>30</td>\n",
       "      <td>0</td>\n",
       "      <td>0</td>\n",
       "      <td>0</td>\n",
       "      <td>0</td>\n",
       "      <td>0</td>\n",
       "      <td>8</td>\n",
       "      <td>2</td>\n",
       "      <td>8</td>\n",
       "      <td>4</td>\n",
       "    </tr>\n",
       "    <tr>\n",
       "      <th>3</th>\n",
       "      <td>6</td>\n",
       "      <td>3</td>\n",
       "      <td>31</td>\n",
       "      <td>489</td>\n",
       "      <td>1</td>\n",
       "      <td>0</td>\n",
       "      <td>3</td>\n",
       "      <td>0</td>\n",
       "      <td>0</td>\n",
       "      <td>0</td>\n",
       "      <td>...</td>\n",
       "      <td>24</td>\n",
       "      <td>108</td>\n",
       "      <td>0</td>\n",
       "      <td>0</td>\n",
       "      <td>0</td>\n",
       "      <td>0</td>\n",
       "      <td>1</td>\n",
       "      <td>0</td>\n",
       "      <td>8</td>\n",
       "      <td>0</td>\n",
       "    </tr>\n",
       "    <tr>\n",
       "      <th>4</th>\n",
       "      <td>5</td>\n",
       "      <td>3</td>\n",
       "      <td>55</td>\n",
       "      <td>925</td>\n",
       "      <td>1</td>\n",
       "      <td>0</td>\n",
       "      <td>3</td>\n",
       "      <td>0</td>\n",
       "      <td>2</td>\n",
       "      <td>0</td>\n",
       "      <td>...</td>\n",
       "      <td>70</td>\n",
       "      <td>0</td>\n",
       "      <td>0</td>\n",
       "      <td>0</td>\n",
       "      <td>0</td>\n",
       "      <td>0</td>\n",
       "      <td>11</td>\n",
       "      <td>2</td>\n",
       "      <td>8</td>\n",
       "      <td>4</td>\n",
       "    </tr>\n",
       "  </tbody>\n",
       "</table>\n",
       "<p>5 rows × 73 columns</p>\n",
       "</div>"
      ],
      "text/plain": [
       "   MSSubClass  MSZoning  LotFrontage  LotArea  Street  LotShape  LandContour  \\\n",
       "0           5         3           36      327       1         3            3   \n",
       "1           0         3           51      498       1         3            3   \n",
       "2           5         3           39      702       1         0            3   \n",
       "3           6         3           31      489       1         0            3   \n",
       "4           5         3           55      925       1         0            3   \n",
       "\n",
       "   Utilities  LotConfig  LandSlope  ...  OpenPorchSF  EnclosedPorch  \\\n",
       "0          0          4          0  ...           49              0   \n",
       "1          0          2          0  ...            0              0   \n",
       "2          0          4          0  ...           30              0   \n",
       "3          0          0          0  ...           24            108   \n",
       "4          0          2          0  ...           70              0   \n",
       "\n",
       "   3SsnPorch  ScreenPorch  PoolArea  MiscVal  MoSold  YrSold  SaleType  \\\n",
       "0          0            0         0        0       1       2         8   \n",
       "1          0            0         0        0       4       1         8   \n",
       "2          0            0         0        0       8       2         8   \n",
       "3          0            0         0        0       1       0         8   \n",
       "4          0            0         0        0      11       2         8   \n",
       "\n",
       "   SaleCondition  \n",
       "0              4  \n",
       "1              4  \n",
       "2              4  \n",
       "3              0  \n",
       "4              4  \n",
       "\n",
       "[5 rows x 73 columns]"
      ]
     },
     "execution_count": 14,
     "metadata": {},
     "output_type": "execute_result"
    }
   ],
   "source": [
    "data = data.fillna(0)\n",
    "data.head()"
   ]
  },
  {
   "cell_type": "code",
   "execution_count": 15,
   "id": "08e0e4f4",
   "metadata": {
    "execution": {
     "iopub.execute_input": "2023-10-30T18:25:31.852435Z",
     "iopub.status.busy": "2023-10-30T18:25:31.851442Z",
     "iopub.status.idle": "2023-10-30T18:25:31.867744Z",
     "shell.execute_reply": "2023-10-30T18:25:31.866433Z"
    },
    "papermill": {
     "duration": 0.036368,
     "end_time": "2023-10-30T18:25:31.870850",
     "exception": false,
     "start_time": "2023-10-30T18:25:31.834482",
     "status": "completed"
    },
    "tags": []
   },
   "outputs": [],
   "source": [
    "X_train, X_test, y_train, y_test = train_test_split(data, prices, test_size=0.2, random_state=42)"
   ]
  },
  {
   "cell_type": "code",
   "execution_count": 16,
   "id": "ac004ccd",
   "metadata": {
    "execution": {
     "iopub.execute_input": "2023-10-30T18:25:32.001277Z",
     "iopub.status.busy": "2023-10-30T18:25:32.000767Z",
     "iopub.status.idle": "2023-10-30T18:25:32.079035Z",
     "shell.execute_reply": "2023-10-30T18:25:32.076750Z"
    },
    "papermill": {
     "duration": 0.198789,
     "end_time": "2023-10-30T18:25:32.084117",
     "exception": false,
     "start_time": "2023-10-30T18:25:31.885328",
     "status": "completed"
    },
    "tags": []
   },
   "outputs": [
    {
     "name": "stdout",
     "output_type": "stream",
     "text": [
      "Linear regression model loss: 1244618207.2241457\n"
     ]
    }
   ],
   "source": [
    "lr_model = LinearRegression().fit(X_train, y_train)\n",
    "lr_predictions = lr_model.predict(X_test)\n",
    "print(f\"Linear regression model loss: {mean_squared_error(y_test, lr_predictions)}\")"
   ]
  },
  {
   "cell_type": "markdown",
   "id": "049bdd7b",
   "metadata": {
    "papermill": {
     "duration": 0.047858,
     "end_time": "2023-10-30T18:25:32.183251",
     "exception": false,
     "start_time": "2023-10-30T18:25:32.135393",
     "status": "completed"
    },
    "tags": []
   },
   "source": [
    "# Create pipeline for submission"
   ]
  },
  {
   "cell_type": "code",
   "execution_count": 17,
   "id": "fd122a04",
   "metadata": {
    "execution": {
     "iopub.execute_input": "2023-10-30T18:25:32.217367Z",
     "iopub.status.busy": "2023-10-30T18:25:32.216849Z",
     "iopub.status.idle": "2023-10-30T18:25:32.224046Z",
     "shell.execute_reply": "2023-10-30T18:25:32.222469Z"
    },
    "papermill": {
     "duration": 0.02742,
     "end_time": "2023-10-30T18:25:32.226552",
     "exception": false,
     "start_time": "2023-10-30T18:25:32.199132",
     "status": "completed"
    },
    "tags": []
   },
   "outputs": [],
   "source": [
    "pipeline = Pipeline([\n",
    "    ('clean', ProcessNullValues())\n",
    "])"
   ]
  },
  {
   "cell_type": "markdown",
   "id": "6c089730",
   "metadata": {
    "papermill": {
     "duration": 0.017045,
     "end_time": "2023-10-30T18:25:32.259688",
     "exception": false,
     "start_time": "2023-10-30T18:25:32.242643",
     "status": "completed"
    },
    "tags": []
   },
   "source": [
    "# Submission"
   ]
  },
  {
   "cell_type": "code",
   "execution_count": 18,
   "id": "7e58c574",
   "metadata": {
    "execution": {
     "iopub.execute_input": "2023-10-30T18:25:32.293512Z",
     "iopub.status.busy": "2023-10-30T18:25:32.292026Z",
     "iopub.status.idle": "2023-10-30T18:25:32.344956Z",
     "shell.execute_reply": "2023-10-30T18:25:32.343639Z"
    },
    "papermill": {
     "duration": 0.072826,
     "end_time": "2023-10-30T18:25:32.348147",
     "exception": false,
     "start_time": "2023-10-30T18:25:32.275321",
     "status": "completed"
    },
    "tags": []
   },
   "outputs": [],
   "source": [
    "test_dataset = pd.read_csv(TEST_DATASET_PATH)\n",
    "submission = test_dataset[['Id']]"
   ]
  },
  {
   "cell_type": "code",
   "execution_count": 19,
   "id": "e8c9fb3b",
   "metadata": {
    "execution": {
     "iopub.execute_input": "2023-10-30T18:25:32.381855Z",
     "iopub.status.busy": "2023-10-30T18:25:32.381329Z",
     "iopub.status.idle": "2023-10-30T18:25:32.766661Z",
     "shell.execute_reply": "2023-10-30T18:25:32.765350Z"
    },
    "papermill": {
     "duration": 0.406238,
     "end_time": "2023-10-30T18:25:32.769886",
     "exception": false,
     "start_time": "2023-10-30T18:25:32.363648",
     "status": "completed"
    },
    "tags": []
   },
   "outputs": [],
   "source": [
    "test_dataset = pipeline.fit_transform(test_dataset)"
   ]
  },
  {
   "cell_type": "code",
   "execution_count": 20,
   "id": "6f899a8d",
   "metadata": {
    "execution": {
     "iopub.execute_input": "2023-10-30T18:25:32.801304Z",
     "iopub.status.busy": "2023-10-30T18:25:32.800420Z",
     "iopub.status.idle": "2023-10-30T18:25:32.820088Z",
     "shell.execute_reply": "2023-10-30T18:25:32.818759Z"
    },
    "papermill": {
     "duration": 0.03994,
     "end_time": "2023-10-30T18:25:32.824304",
     "exception": false,
     "start_time": "2023-10-30T18:25:32.784364",
     "status": "completed"
    },
    "tags": []
   },
   "outputs": [
    {
     "data": {
      "text/plain": [
       "array([114371.65810669, 160359.99092427, 181255.7531222 , ...,\n",
       "       173940.87755669, 113397.29450703, 264387.64720496])"
      ]
     },
     "execution_count": 20,
     "metadata": {},
     "output_type": "execute_result"
    }
   ],
   "source": [
    "test_predictions = lr_model.predict(test_dataset)\n",
    "test_predictions"
   ]
  },
  {
   "cell_type": "code",
   "execution_count": 21,
   "id": "f1b44c28",
   "metadata": {
    "execution": {
     "iopub.execute_input": "2023-10-30T18:25:32.893063Z",
     "iopub.status.busy": "2023-10-30T18:25:32.892188Z",
     "iopub.status.idle": "2023-10-30T18:25:32.925604Z",
     "shell.execute_reply": "2023-10-30T18:25:32.923767Z"
    },
    "papermill": {
     "duration": 0.073338,
     "end_time": "2023-10-30T18:25:32.931277",
     "exception": false,
     "start_time": "2023-10-30T18:25:32.857939",
     "status": "completed"
    },
    "tags": []
   },
   "outputs": [],
   "source": [
    "submission['SalePrice'] = test_predictions\n",
    "submission = submission.set_index('Id')\n",
    "submission = submission.to_csv(\"submission.csv\", encoding='utf-8')"
   ]
  },
  {
   "cell_type": "code",
   "execution_count": 22,
   "id": "bc3dab2b",
   "metadata": {
    "execution": {
     "iopub.execute_input": "2023-10-30T18:25:32.964062Z",
     "iopub.status.busy": "2023-10-30T18:25:32.963090Z",
     "iopub.status.idle": "2023-10-30T18:25:34.079531Z",
     "shell.execute_reply": "2023-10-30T18:25:34.077718Z"
    },
    "papermill": {
     "duration": 1.136699,
     "end_time": "2023-10-30T18:25:34.083040",
     "exception": false,
     "start_time": "2023-10-30T18:25:32.946341",
     "status": "completed"
    },
    "tags": []
   },
   "outputs": [
    {
     "name": "stdout",
     "output_type": "stream",
     "text": [
      "Id,SalePrice\r\n",
      "1461,114371.65810669321\r\n",
      "1462,160359.9909242739\r\n",
      "1463,181255.75312220157\r\n",
      "1464,190227.3454971336\r\n",
      "1465,186725.9422570404\r\n",
      "1466,174109.29690019842\r\n",
      "1467,175302.66624869252\r\n",
      "1468,153908.46726096174\r\n",
      "1469,200611.9748537819\r\n"
     ]
    }
   ],
   "source": [
    "!head submission.csv"
   ]
  }
 ],
 "metadata": {
  "kernelspec": {
   "display_name": "Python 3",
   "language": "python",
   "name": "python3"
  },
  "language_info": {
   "codemirror_mode": {
    "name": "ipython",
    "version": 3
   },
   "file_extension": ".py",
   "mimetype": "text/x-python",
   "name": "python",
   "nbconvert_exporter": "python",
   "pygments_lexer": "ipython3",
   "version": "3.10.12"
  },
  "papermill": {
   "default_parameters": {},
   "duration": 12.246003,
   "end_time": "2023-10-30T18:25:35.124923",
   "environment_variables": {},
   "exception": null,
   "input_path": "__notebook__.ipynb",
   "output_path": "__notebook__.ipynb",
   "parameters": {},
   "start_time": "2023-10-30T18:25:22.878920",
   "version": "2.4.0"
  }
 },
 "nbformat": 4,
 "nbformat_minor": 5
}

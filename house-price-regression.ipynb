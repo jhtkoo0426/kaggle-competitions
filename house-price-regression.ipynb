{
 "cells": [
  {
   "cell_type": "markdown",
   "id": "31ca722c",
   "metadata": {
    "papermill": {
     "duration": 0.005208,
     "end_time": "2023-10-20T13:09:57.592915",
     "exception": false,
     "start_time": "2023-10-20T13:09:57.587707",
     "status": "completed"
    },
    "tags": []
   },
   "source": [
    "## Import packages"
   ]
  },
  {
   "cell_type": "code",
   "execution_count": 1,
   "id": "40af616d",
   "metadata": {
    "_cell_guid": "b1076dfc-b9ad-4769-8c92-a6c4dae69d19",
    "_uuid": "8f2839f25d086af736a60e9eeb907d3b93b6e0e5",
    "execution": {
     "iopub.execute_input": "2023-10-20T13:09:57.604230Z",
     "iopub.status.busy": "2023-10-20T13:09:57.603884Z",
     "iopub.status.idle": "2023-10-20T13:09:59.976316Z",
     "shell.execute_reply": "2023-10-20T13:09:59.975422Z"
    },
    "papermill": {
     "duration": 2.38092,
     "end_time": "2023-10-20T13:09:59.978661",
     "exception": false,
     "start_time": "2023-10-20T13:09:57.597741",
     "status": "completed"
    },
    "tags": []
   },
   "outputs": [],
   "source": [
    "import numpy as np\n",
    "import pandas as pd\n",
    "\n",
    "import matplotlib.pyplot as plt\n",
    "import seaborn as sns\n",
    "\n",
    "from sklearn.linear_model import LinearRegression\n",
    "from sklearn.preprocessing import StandardScaler\n",
    "from sklearn.model_selection import train_test_split\n",
    "from sklearn.metrics import r2_score"
   ]
  },
  {
   "cell_type": "code",
   "execution_count": 2,
   "id": "19d30c16",
   "metadata": {
    "execution": {
     "iopub.execute_input": "2023-10-20T13:09:59.990294Z",
     "iopub.status.busy": "2023-10-20T13:09:59.989785Z",
     "iopub.status.idle": "2023-10-20T13:09:59.995248Z",
     "shell.execute_reply": "2023-10-20T13:09:59.994016Z"
    },
    "papermill": {
     "duration": 0.013745,
     "end_time": "2023-10-20T13:09:59.997471",
     "exception": false,
     "start_time": "2023-10-20T13:09:59.983726",
     "status": "completed"
    },
    "tags": []
   },
   "outputs": [],
   "source": [
    "# Fixed variables\n",
    "RANDOM_STATE = 12\n",
    "\n",
    "# Path variables\n",
    "TRAIN_CSV_PATH = \"/kaggle/input/house-prices-advanced-regression-techniques/train.csv\"\n",
    "TEST_CSV_PATH = \"/kaggle/input/house-prices-advanced-regression-techniques/test.csv\""
   ]
  },
  {
   "cell_type": "markdown",
   "id": "4162571a",
   "metadata": {
    "papermill": {
     "duration": 0.004549,
     "end_time": "2023-10-20T13:10:00.006910",
     "exception": false,
     "start_time": "2023-10-20T13:10:00.002361",
     "status": "completed"
    },
    "tags": []
   },
   "source": [
    "## Data preprocessing\n",
    "In this section, we will perform the following preprocessing techniques to the training dataset:\n",
    "1. Removing irrelevant columns such as null-valued columns, IDs, etc.\n",
    "2. Dealing with categorical data using one-hot encoding."
   ]
  },
  {
   "cell_type": "code",
   "execution_count": 3,
   "id": "b492817c",
   "metadata": {
    "execution": {
     "iopub.execute_input": "2023-10-20T13:10:00.018336Z",
     "iopub.status.busy": "2023-10-20T13:10:00.017722Z",
     "iopub.status.idle": "2023-10-20T13:10:00.110512Z",
     "shell.execute_reply": "2023-10-20T13:10:00.109429Z"
    },
    "papermill": {
     "duration": 0.101256,
     "end_time": "2023-10-20T13:10:00.112884",
     "exception": false,
     "start_time": "2023-10-20T13:10:00.011628",
     "status": "completed"
    },
    "tags": []
   },
   "outputs": [
    {
     "name": "stdout",
     "output_type": "stream",
     "text": [
      "<class 'pandas.core.frame.DataFrame'>\n",
      "RangeIndex: 1460 entries, 0 to 1459\n",
      "Data columns (total 81 columns):\n",
      " #   Column         Non-Null Count  Dtype  \n",
      "---  ------         --------------  -----  \n",
      " 0   Id             1460 non-null   int64  \n",
      " 1   MSSubClass     1460 non-null   int64  \n",
      " 2   MSZoning       1460 non-null   object \n",
      " 3   LotFrontage    1201 non-null   float64\n",
      " 4   LotArea        1460 non-null   int64  \n",
      " 5   Street         1460 non-null   object \n",
      " 6   Alley          91 non-null     object \n",
      " 7   LotShape       1460 non-null   object \n",
      " 8   LandContour    1460 non-null   object \n",
      " 9   Utilities      1460 non-null   object \n",
      " 10  LotConfig      1460 non-null   object \n",
      " 11  LandSlope      1460 non-null   object \n",
      " 12  Neighborhood   1460 non-null   object \n",
      " 13  Condition1     1460 non-null   object \n",
      " 14  Condition2     1460 non-null   object \n",
      " 15  BldgType       1460 non-null   object \n",
      " 16  HouseStyle     1460 non-null   object \n",
      " 17  OverallQual    1460 non-null   int64  \n",
      " 18  OverallCond    1460 non-null   int64  \n",
      " 19  YearBuilt      1460 non-null   int64  \n",
      " 20  YearRemodAdd   1460 non-null   int64  \n",
      " 21  RoofStyle      1460 non-null   object \n",
      " 22  RoofMatl       1460 non-null   object \n",
      " 23  Exterior1st    1460 non-null   object \n",
      " 24  Exterior2nd    1460 non-null   object \n",
      " 25  MasVnrType     588 non-null    object \n",
      " 26  MasVnrArea     1452 non-null   float64\n",
      " 27  ExterQual      1460 non-null   object \n",
      " 28  ExterCond      1460 non-null   object \n",
      " 29  Foundation     1460 non-null   object \n",
      " 30  BsmtQual       1423 non-null   object \n",
      " 31  BsmtCond       1423 non-null   object \n",
      " 32  BsmtExposure   1422 non-null   object \n",
      " 33  BsmtFinType1   1423 non-null   object \n",
      " 34  BsmtFinSF1     1460 non-null   int64  \n",
      " 35  BsmtFinType2   1422 non-null   object \n",
      " 36  BsmtFinSF2     1460 non-null   int64  \n",
      " 37  BsmtUnfSF      1460 non-null   int64  \n",
      " 38  TotalBsmtSF    1460 non-null   int64  \n",
      " 39  Heating        1460 non-null   object \n",
      " 40  HeatingQC      1460 non-null   object \n",
      " 41  CentralAir     1460 non-null   object \n",
      " 42  Electrical     1459 non-null   object \n",
      " 43  1stFlrSF       1460 non-null   int64  \n",
      " 44  2ndFlrSF       1460 non-null   int64  \n",
      " 45  LowQualFinSF   1460 non-null   int64  \n",
      " 46  GrLivArea      1460 non-null   int64  \n",
      " 47  BsmtFullBath   1460 non-null   int64  \n",
      " 48  BsmtHalfBath   1460 non-null   int64  \n",
      " 49  FullBath       1460 non-null   int64  \n",
      " 50  HalfBath       1460 non-null   int64  \n",
      " 51  BedroomAbvGr   1460 non-null   int64  \n",
      " 52  KitchenAbvGr   1460 non-null   int64  \n",
      " 53  KitchenQual    1460 non-null   object \n",
      " 54  TotRmsAbvGrd   1460 non-null   int64  \n",
      " 55  Functional     1460 non-null   object \n",
      " 56  Fireplaces     1460 non-null   int64  \n",
      " 57  FireplaceQu    770 non-null    object \n",
      " 58  GarageType     1379 non-null   object \n",
      " 59  GarageYrBlt    1379 non-null   float64\n",
      " 60  GarageFinish   1379 non-null   object \n",
      " 61  GarageCars     1460 non-null   int64  \n",
      " 62  GarageArea     1460 non-null   int64  \n",
      " 63  GarageQual     1379 non-null   object \n",
      " 64  GarageCond     1379 non-null   object \n",
      " 65  PavedDrive     1460 non-null   object \n",
      " 66  WoodDeckSF     1460 non-null   int64  \n",
      " 67  OpenPorchSF    1460 non-null   int64  \n",
      " 68  EnclosedPorch  1460 non-null   int64  \n",
      " 69  3SsnPorch      1460 non-null   int64  \n",
      " 70  ScreenPorch    1460 non-null   int64  \n",
      " 71  PoolArea       1460 non-null   int64  \n",
      " 72  PoolQC         7 non-null      object \n",
      " 73  Fence          281 non-null    object \n",
      " 74  MiscFeature    54 non-null     object \n",
      " 75  MiscVal        1460 non-null   int64  \n",
      " 76  MoSold         1460 non-null   int64  \n",
      " 77  YrSold         1460 non-null   int64  \n",
      " 78  SaleType       1460 non-null   object \n",
      " 79  SaleCondition  1460 non-null   object \n",
      " 80  SalePrice      1460 non-null   int64  \n",
      "dtypes: float64(3), int64(35), object(43)\n",
      "memory usage: 924.0+ KB\n"
     ]
    }
   ],
   "source": [
    "df = pd.read_csv(TRAIN_CSV_PATH)\n",
    "df.info()"
   ]
  },
  {
   "cell_type": "code",
   "execution_count": 4,
   "id": "23c2954f",
   "metadata": {
    "execution": {
     "iopub.execute_input": "2023-10-20T13:10:00.125316Z",
     "iopub.status.busy": "2023-10-20T13:10:00.124718Z",
     "iopub.status.idle": "2023-10-20T13:10:00.227702Z",
     "shell.execute_reply": "2023-10-20T13:10:00.226359Z"
    },
    "papermill": {
     "duration": 0.112102,
     "end_time": "2023-10-20T13:10:00.230393",
     "exception": false,
     "start_time": "2023-10-20T13:10:00.118291",
     "status": "completed"
    },
    "tags": []
   },
   "outputs": [
    {
     "data": {
      "text/html": [
       "<div>\n",
       "<style scoped>\n",
       "    .dataframe tbody tr th:only-of-type {\n",
       "        vertical-align: middle;\n",
       "    }\n",
       "\n",
       "    .dataframe tbody tr th {\n",
       "        vertical-align: top;\n",
       "    }\n",
       "\n",
       "    .dataframe thead th {\n",
       "        text-align: right;\n",
       "    }\n",
       "</style>\n",
       "<table border=\"1\" class=\"dataframe\">\n",
       "  <thead>\n",
       "    <tr style=\"text-align: right;\">\n",
       "      <th></th>\n",
       "      <th>Id</th>\n",
       "      <th>MSSubClass</th>\n",
       "      <th>LotFrontage</th>\n",
       "      <th>LotArea</th>\n",
       "      <th>OverallQual</th>\n",
       "      <th>OverallCond</th>\n",
       "      <th>YearBuilt</th>\n",
       "      <th>YearRemodAdd</th>\n",
       "      <th>MasVnrArea</th>\n",
       "      <th>BsmtFinSF1</th>\n",
       "      <th>...</th>\n",
       "      <th>WoodDeckSF</th>\n",
       "      <th>OpenPorchSF</th>\n",
       "      <th>EnclosedPorch</th>\n",
       "      <th>3SsnPorch</th>\n",
       "      <th>ScreenPorch</th>\n",
       "      <th>PoolArea</th>\n",
       "      <th>MiscVal</th>\n",
       "      <th>MoSold</th>\n",
       "      <th>YrSold</th>\n",
       "      <th>SalePrice</th>\n",
       "    </tr>\n",
       "  </thead>\n",
       "  <tbody>\n",
       "    <tr>\n",
       "      <th>count</th>\n",
       "      <td>1460.000000</td>\n",
       "      <td>1460.000000</td>\n",
       "      <td>1201.000000</td>\n",
       "      <td>1460.000000</td>\n",
       "      <td>1460.000000</td>\n",
       "      <td>1460.000000</td>\n",
       "      <td>1460.000000</td>\n",
       "      <td>1460.000000</td>\n",
       "      <td>1452.000000</td>\n",
       "      <td>1460.000000</td>\n",
       "      <td>...</td>\n",
       "      <td>1460.000000</td>\n",
       "      <td>1460.000000</td>\n",
       "      <td>1460.000000</td>\n",
       "      <td>1460.000000</td>\n",
       "      <td>1460.000000</td>\n",
       "      <td>1460.000000</td>\n",
       "      <td>1460.000000</td>\n",
       "      <td>1460.000000</td>\n",
       "      <td>1460.000000</td>\n",
       "      <td>1460.000000</td>\n",
       "    </tr>\n",
       "    <tr>\n",
       "      <th>mean</th>\n",
       "      <td>730.500000</td>\n",
       "      <td>56.897260</td>\n",
       "      <td>70.049958</td>\n",
       "      <td>10516.828082</td>\n",
       "      <td>6.099315</td>\n",
       "      <td>5.575342</td>\n",
       "      <td>1971.267808</td>\n",
       "      <td>1984.865753</td>\n",
       "      <td>103.685262</td>\n",
       "      <td>443.639726</td>\n",
       "      <td>...</td>\n",
       "      <td>94.244521</td>\n",
       "      <td>46.660274</td>\n",
       "      <td>21.954110</td>\n",
       "      <td>3.409589</td>\n",
       "      <td>15.060959</td>\n",
       "      <td>2.758904</td>\n",
       "      <td>43.489041</td>\n",
       "      <td>6.321918</td>\n",
       "      <td>2007.815753</td>\n",
       "      <td>180921.195890</td>\n",
       "    </tr>\n",
       "    <tr>\n",
       "      <th>std</th>\n",
       "      <td>421.610009</td>\n",
       "      <td>42.300571</td>\n",
       "      <td>24.284752</td>\n",
       "      <td>9981.264932</td>\n",
       "      <td>1.382997</td>\n",
       "      <td>1.112799</td>\n",
       "      <td>30.202904</td>\n",
       "      <td>20.645407</td>\n",
       "      <td>181.066207</td>\n",
       "      <td>456.098091</td>\n",
       "      <td>...</td>\n",
       "      <td>125.338794</td>\n",
       "      <td>66.256028</td>\n",
       "      <td>61.119149</td>\n",
       "      <td>29.317331</td>\n",
       "      <td>55.757415</td>\n",
       "      <td>40.177307</td>\n",
       "      <td>496.123024</td>\n",
       "      <td>2.703626</td>\n",
       "      <td>1.328095</td>\n",
       "      <td>79442.502883</td>\n",
       "    </tr>\n",
       "    <tr>\n",
       "      <th>min</th>\n",
       "      <td>1.000000</td>\n",
       "      <td>20.000000</td>\n",
       "      <td>21.000000</td>\n",
       "      <td>1300.000000</td>\n",
       "      <td>1.000000</td>\n",
       "      <td>1.000000</td>\n",
       "      <td>1872.000000</td>\n",
       "      <td>1950.000000</td>\n",
       "      <td>0.000000</td>\n",
       "      <td>0.000000</td>\n",
       "      <td>...</td>\n",
       "      <td>0.000000</td>\n",
       "      <td>0.000000</td>\n",
       "      <td>0.000000</td>\n",
       "      <td>0.000000</td>\n",
       "      <td>0.000000</td>\n",
       "      <td>0.000000</td>\n",
       "      <td>0.000000</td>\n",
       "      <td>1.000000</td>\n",
       "      <td>2006.000000</td>\n",
       "      <td>34900.000000</td>\n",
       "    </tr>\n",
       "    <tr>\n",
       "      <th>25%</th>\n",
       "      <td>365.750000</td>\n",
       "      <td>20.000000</td>\n",
       "      <td>59.000000</td>\n",
       "      <td>7553.500000</td>\n",
       "      <td>5.000000</td>\n",
       "      <td>5.000000</td>\n",
       "      <td>1954.000000</td>\n",
       "      <td>1967.000000</td>\n",
       "      <td>0.000000</td>\n",
       "      <td>0.000000</td>\n",
       "      <td>...</td>\n",
       "      <td>0.000000</td>\n",
       "      <td>0.000000</td>\n",
       "      <td>0.000000</td>\n",
       "      <td>0.000000</td>\n",
       "      <td>0.000000</td>\n",
       "      <td>0.000000</td>\n",
       "      <td>0.000000</td>\n",
       "      <td>5.000000</td>\n",
       "      <td>2007.000000</td>\n",
       "      <td>129975.000000</td>\n",
       "    </tr>\n",
       "    <tr>\n",
       "      <th>50%</th>\n",
       "      <td>730.500000</td>\n",
       "      <td>50.000000</td>\n",
       "      <td>69.000000</td>\n",
       "      <td>9478.500000</td>\n",
       "      <td>6.000000</td>\n",
       "      <td>5.000000</td>\n",
       "      <td>1973.000000</td>\n",
       "      <td>1994.000000</td>\n",
       "      <td>0.000000</td>\n",
       "      <td>383.500000</td>\n",
       "      <td>...</td>\n",
       "      <td>0.000000</td>\n",
       "      <td>25.000000</td>\n",
       "      <td>0.000000</td>\n",
       "      <td>0.000000</td>\n",
       "      <td>0.000000</td>\n",
       "      <td>0.000000</td>\n",
       "      <td>0.000000</td>\n",
       "      <td>6.000000</td>\n",
       "      <td>2008.000000</td>\n",
       "      <td>163000.000000</td>\n",
       "    </tr>\n",
       "    <tr>\n",
       "      <th>75%</th>\n",
       "      <td>1095.250000</td>\n",
       "      <td>70.000000</td>\n",
       "      <td>80.000000</td>\n",
       "      <td>11601.500000</td>\n",
       "      <td>7.000000</td>\n",
       "      <td>6.000000</td>\n",
       "      <td>2000.000000</td>\n",
       "      <td>2004.000000</td>\n",
       "      <td>166.000000</td>\n",
       "      <td>712.250000</td>\n",
       "      <td>...</td>\n",
       "      <td>168.000000</td>\n",
       "      <td>68.000000</td>\n",
       "      <td>0.000000</td>\n",
       "      <td>0.000000</td>\n",
       "      <td>0.000000</td>\n",
       "      <td>0.000000</td>\n",
       "      <td>0.000000</td>\n",
       "      <td>8.000000</td>\n",
       "      <td>2009.000000</td>\n",
       "      <td>214000.000000</td>\n",
       "    </tr>\n",
       "    <tr>\n",
       "      <th>max</th>\n",
       "      <td>1460.000000</td>\n",
       "      <td>190.000000</td>\n",
       "      <td>313.000000</td>\n",
       "      <td>215245.000000</td>\n",
       "      <td>10.000000</td>\n",
       "      <td>9.000000</td>\n",
       "      <td>2010.000000</td>\n",
       "      <td>2010.000000</td>\n",
       "      <td>1600.000000</td>\n",
       "      <td>5644.000000</td>\n",
       "      <td>...</td>\n",
       "      <td>857.000000</td>\n",
       "      <td>547.000000</td>\n",
       "      <td>552.000000</td>\n",
       "      <td>508.000000</td>\n",
       "      <td>480.000000</td>\n",
       "      <td>738.000000</td>\n",
       "      <td>15500.000000</td>\n",
       "      <td>12.000000</td>\n",
       "      <td>2010.000000</td>\n",
       "      <td>755000.000000</td>\n",
       "    </tr>\n",
       "  </tbody>\n",
       "</table>\n",
       "<p>8 rows × 38 columns</p>\n",
       "</div>"
      ],
      "text/plain": [
       "                Id   MSSubClass  LotFrontage        LotArea  OverallQual  \\\n",
       "count  1460.000000  1460.000000  1201.000000    1460.000000  1460.000000   \n",
       "mean    730.500000    56.897260    70.049958   10516.828082     6.099315   \n",
       "std     421.610009    42.300571    24.284752    9981.264932     1.382997   \n",
       "min       1.000000    20.000000    21.000000    1300.000000     1.000000   \n",
       "25%     365.750000    20.000000    59.000000    7553.500000     5.000000   \n",
       "50%     730.500000    50.000000    69.000000    9478.500000     6.000000   \n",
       "75%    1095.250000    70.000000    80.000000   11601.500000     7.000000   \n",
       "max    1460.000000   190.000000   313.000000  215245.000000    10.000000   \n",
       "\n",
       "       OverallCond    YearBuilt  YearRemodAdd   MasVnrArea   BsmtFinSF1  ...  \\\n",
       "count  1460.000000  1460.000000   1460.000000  1452.000000  1460.000000  ...   \n",
       "mean      5.575342  1971.267808   1984.865753   103.685262   443.639726  ...   \n",
       "std       1.112799    30.202904     20.645407   181.066207   456.098091  ...   \n",
       "min       1.000000  1872.000000   1950.000000     0.000000     0.000000  ...   \n",
       "25%       5.000000  1954.000000   1967.000000     0.000000     0.000000  ...   \n",
       "50%       5.000000  1973.000000   1994.000000     0.000000   383.500000  ...   \n",
       "75%       6.000000  2000.000000   2004.000000   166.000000   712.250000  ...   \n",
       "max       9.000000  2010.000000   2010.000000  1600.000000  5644.000000  ...   \n",
       "\n",
       "        WoodDeckSF  OpenPorchSF  EnclosedPorch    3SsnPorch  ScreenPorch  \\\n",
       "count  1460.000000  1460.000000    1460.000000  1460.000000  1460.000000   \n",
       "mean     94.244521    46.660274      21.954110     3.409589    15.060959   \n",
       "std     125.338794    66.256028      61.119149    29.317331    55.757415   \n",
       "min       0.000000     0.000000       0.000000     0.000000     0.000000   \n",
       "25%       0.000000     0.000000       0.000000     0.000000     0.000000   \n",
       "50%       0.000000    25.000000       0.000000     0.000000     0.000000   \n",
       "75%     168.000000    68.000000       0.000000     0.000000     0.000000   \n",
       "max     857.000000   547.000000     552.000000   508.000000   480.000000   \n",
       "\n",
       "          PoolArea       MiscVal       MoSold       YrSold      SalePrice  \n",
       "count  1460.000000   1460.000000  1460.000000  1460.000000    1460.000000  \n",
       "mean      2.758904     43.489041     6.321918  2007.815753  180921.195890  \n",
       "std      40.177307    496.123024     2.703626     1.328095   79442.502883  \n",
       "min       0.000000      0.000000     1.000000  2006.000000   34900.000000  \n",
       "25%       0.000000      0.000000     5.000000  2007.000000  129975.000000  \n",
       "50%       0.000000      0.000000     6.000000  2008.000000  163000.000000  \n",
       "75%       0.000000      0.000000     8.000000  2009.000000  214000.000000  \n",
       "max     738.000000  15500.000000    12.000000  2010.000000  755000.000000  \n",
       "\n",
       "[8 rows x 38 columns]"
      ]
     },
     "execution_count": 4,
     "metadata": {},
     "output_type": "execute_result"
    }
   ],
   "source": [
    "df.describe()"
   ]
  },
  {
   "cell_type": "code",
   "execution_count": 5,
   "id": "7e69aeec",
   "metadata": {
    "execution": {
     "iopub.execute_input": "2023-10-20T13:10:00.243295Z",
     "iopub.status.busy": "2023-10-20T13:10:00.242923Z",
     "iopub.status.idle": "2023-10-20T13:10:00.248923Z",
     "shell.execute_reply": "2023-10-20T13:10:00.247928Z"
    },
    "papermill": {
     "duration": 0.015182,
     "end_time": "2023-10-20T13:10:00.251192",
     "exception": false,
     "start_time": "2023-10-20T13:10:00.236010",
     "status": "completed"
    },
    "tags": []
   },
   "outputs": [],
   "source": [
    "def preprocess_dataset(dataset):\n",
    "    # Removing irrelevant columns (e.g. null-valued columns, Id, etc.)\n",
    "    drop_columns = ['Id', 'Alley', 'PoolQC', 'Fence', 'MiscFeature']\n",
    "    dataset = dataset.drop(columns=drop_columns)\n",
    "    \n",
    "    # Select only int64 datatypes\n",
    "    dataset = dataset.select_dtypes(include=['int64', 'float64'])\n",
    "    dataset = dataset.fillna(0)\n",
    "    return dataset"
   ]
  },
  {
   "cell_type": "code",
   "execution_count": 6,
   "id": "4264d93e",
   "metadata": {
    "execution": {
     "iopub.execute_input": "2023-10-20T13:10:00.263894Z",
     "iopub.status.busy": "2023-10-20T13:10:00.263528Z",
     "iopub.status.idle": "2023-10-20T13:10:00.311395Z",
     "shell.execute_reply": "2023-10-20T13:10:00.310150Z"
    },
    "papermill": {
     "duration": 0.056889,
     "end_time": "2023-10-20T13:10:00.313579",
     "exception": false,
     "start_time": "2023-10-20T13:10:00.256690",
     "status": "completed"
    },
    "tags": []
   },
   "outputs": [
    {
     "name": "stdout",
     "output_type": "stream",
     "text": [
      "(1460, 37)\n",
      "(1459, 36)\n"
     ]
    }
   ],
   "source": [
    "train_df = preprocess_dataset(dataset=df)\n",
    "print(train_df.shape)\n",
    "test_df = preprocess_dataset(dataset=pd.read_csv(TEST_CSV_PATH))\n",
    "print(test_df.shape)"
   ]
  },
  {
   "cell_type": "code",
   "execution_count": 7,
   "id": "398ae4b5",
   "metadata": {
    "execution": {
     "iopub.execute_input": "2023-10-20T13:10:00.326421Z",
     "iopub.status.busy": "2023-10-20T13:10:00.326028Z",
     "iopub.status.idle": "2023-10-20T13:10:00.335097Z",
     "shell.execute_reply": "2023-10-20T13:10:00.334145Z"
    },
    "papermill": {
     "duration": 0.017659,
     "end_time": "2023-10-20T13:10:00.337071",
     "exception": false,
     "start_time": "2023-10-20T13:10:00.319412",
     "status": "completed"
    },
    "tags": []
   },
   "outputs": [
    {
     "data": {
      "text/plain": [
       "MSSubClass       0\n",
       "LotFrontage      0\n",
       "LotArea          0\n",
       "OverallQual      0\n",
       "OverallCond      0\n",
       "YearBuilt        0\n",
       "YearRemodAdd     0\n",
       "MasVnrArea       0\n",
       "BsmtFinSF1       0\n",
       "BsmtFinSF2       0\n",
       "BsmtUnfSF        0\n",
       "TotalBsmtSF      0\n",
       "1stFlrSF         0\n",
       "2ndFlrSF         0\n",
       "LowQualFinSF     0\n",
       "GrLivArea        0\n",
       "BsmtFullBath     0\n",
       "BsmtHalfBath     0\n",
       "FullBath         0\n",
       "HalfBath         0\n",
       "BedroomAbvGr     0\n",
       "KitchenAbvGr     0\n",
       "TotRmsAbvGrd     0\n",
       "Fireplaces       0\n",
       "GarageYrBlt      0\n",
       "GarageCars       0\n",
       "GarageArea       0\n",
       "WoodDeckSF       0\n",
       "OpenPorchSF      0\n",
       "EnclosedPorch    0\n",
       "3SsnPorch        0\n",
       "ScreenPorch      0\n",
       "PoolArea         0\n",
       "MiscVal          0\n",
       "MoSold           0\n",
       "YrSold           0\n",
       "SalePrice        0\n",
       "dtype: int64"
      ]
     },
     "execution_count": 7,
     "metadata": {},
     "output_type": "execute_result"
    }
   ],
   "source": [
    "train_df.isna().sum()"
   ]
  },
  {
   "cell_type": "markdown",
   "id": "4dc7e8c0",
   "metadata": {
    "papermill": {
     "duration": 0.005734,
     "end_time": "2023-10-20T13:10:00.348498",
     "exception": false,
     "start_time": "2023-10-20T13:10:00.342764",
     "status": "completed"
    },
    "tags": []
   },
   "source": [
    "## Partitioning the dataset"
   ]
  },
  {
   "cell_type": "code",
   "execution_count": 8,
   "id": "05cc05d3",
   "metadata": {
    "execution": {
     "iopub.execute_input": "2023-10-20T13:10:00.362226Z",
     "iopub.status.busy": "2023-10-20T13:10:00.361519Z",
     "iopub.status.idle": "2023-10-20T13:10:00.367161Z",
     "shell.execute_reply": "2023-10-20T13:10:00.365939Z"
    },
    "papermill": {
     "duration": 0.015058,
     "end_time": "2023-10-20T13:10:00.369350",
     "exception": false,
     "start_time": "2023-10-20T13:10:00.354292",
     "status": "completed"
    },
    "tags": []
   },
   "outputs": [],
   "source": [
    "X = train_df.drop(columns=['SalePrice'])\n",
    "Y = train_df['SalePrice']"
   ]
  },
  {
   "cell_type": "code",
   "execution_count": 9,
   "id": "36238b26",
   "metadata": {
    "execution": {
     "iopub.execute_input": "2023-10-20T13:10:00.382762Z",
     "iopub.status.busy": "2023-10-20T13:10:00.382378Z",
     "iopub.status.idle": "2023-10-20T13:10:00.392949Z",
     "shell.execute_reply": "2023-10-20T13:10:00.391816Z"
    },
    "papermill": {
     "duration": 0.019723,
     "end_time": "2023-10-20T13:10:00.395111",
     "exception": false,
     "start_time": "2023-10-20T13:10:00.375388",
     "status": "completed"
    },
    "tags": []
   },
   "outputs": [
    {
     "data": {
      "text/plain": [
       "((1168, 36), (292, 36), (1168,), (292,))"
      ]
     },
     "execution_count": 9,
     "metadata": {},
     "output_type": "execute_result"
    }
   ],
   "source": [
    "X_train, X_test, Y_train, Y_test = train_test_split(X, Y, test_size=0.2, random_state=RANDOM_STATE)\n",
    "X_train.shape, X_test.shape, Y_train.shape, Y_test.shape"
   ]
  },
  {
   "cell_type": "markdown",
   "id": "8938325e",
   "metadata": {
    "papermill": {
     "duration": 0.005625,
     "end_time": "2023-10-20T13:10:00.406447",
     "exception": false,
     "start_time": "2023-10-20T13:10:00.400822",
     "status": "completed"
    },
    "tags": []
   },
   "source": [
    "## Model training"
   ]
  },
  {
   "cell_type": "code",
   "execution_count": 10,
   "id": "0ec7d0af",
   "metadata": {
    "execution": {
     "iopub.execute_input": "2023-10-20T13:10:00.419347Z",
     "iopub.status.busy": "2023-10-20T13:10:00.418978Z",
     "iopub.status.idle": "2023-10-20T13:10:00.468627Z",
     "shell.execute_reply": "2023-10-20T13:10:00.466694Z"
    },
    "papermill": {
     "duration": 0.060646,
     "end_time": "2023-10-20T13:10:00.472743",
     "exception": false,
     "start_time": "2023-10-20T13:10:00.412097",
     "status": "completed"
    },
    "tags": []
   },
   "outputs": [],
   "source": [
    "lr_model = LinearRegression().fit(X_train, Y_train)\n",
    "predictions = lr_model.predict(X_test)"
   ]
  },
  {
   "cell_type": "code",
   "execution_count": 11,
   "id": "ff6e9f6e",
   "metadata": {
    "execution": {
     "iopub.execute_input": "2023-10-20T13:10:00.531449Z",
     "iopub.status.busy": "2023-10-20T13:10:00.530609Z",
     "iopub.status.idle": "2023-10-20T13:10:00.540274Z",
     "shell.execute_reply": "2023-10-20T13:10:00.539089Z"
    },
    "papermill": {
     "duration": 0.048058,
     "end_time": "2023-10-20T13:10:00.544238",
     "exception": false,
     "start_time": "2023-10-20T13:10:00.496180",
     "status": "completed"
    },
    "tags": []
   },
   "outputs": [
    {
     "name": "stdout",
     "output_type": "stream",
     "text": [
      "Regression model R-squared: 0.7859425482749017\n"
     ]
    }
   ],
   "source": [
    "regression_r2 = r2_score(Y_test, predictions)\n",
    "print(f\"Regression model R-squared: {regression_r2}\")"
   ]
  },
  {
   "cell_type": "markdown",
   "id": "de613e82",
   "metadata": {
    "papermill": {
     "duration": 0.00947,
     "end_time": "2023-10-20T13:10:00.583113",
     "exception": false,
     "start_time": "2023-10-20T13:10:00.573643",
     "status": "completed"
    },
    "tags": []
   },
   "source": [
    "## Predicting the test set"
   ]
  },
  {
   "cell_type": "code",
   "execution_count": 12,
   "id": "28d86525",
   "metadata": {
    "execution": {
     "iopub.execute_input": "2023-10-20T13:10:00.596472Z",
     "iopub.status.busy": "2023-10-20T13:10:00.596087Z",
     "iopub.status.idle": "2023-10-20T13:10:00.622413Z",
     "shell.execute_reply": "2023-10-20T13:10:00.621594Z"
    },
    "papermill": {
     "duration": 0.035569,
     "end_time": "2023-10-20T13:10:00.624673",
     "exception": false,
     "start_time": "2023-10-20T13:10:00.589104",
     "status": "completed"
    },
    "tags": []
   },
   "outputs": [],
   "source": [
    "test_df = pd.read_csv(TEST_CSV_PATH)"
   ]
  },
  {
   "cell_type": "markdown",
   "id": "96b08997",
   "metadata": {
    "papermill": {
     "duration": 0.005768,
     "end_time": "2023-10-20T13:10:00.636402",
     "exception": false,
     "start_time": "2023-10-20T13:10:00.630634",
     "status": "completed"
    },
    "tags": []
   },
   "source": [
    "Create a dataframe for the submission"
   ]
  },
  {
   "cell_type": "code",
   "execution_count": 13,
   "id": "9349177b",
   "metadata": {
    "execution": {
     "iopub.execute_input": "2023-10-20T13:10:00.650788Z",
     "iopub.status.busy": "2023-10-20T13:10:00.649791Z",
     "iopub.status.idle": "2023-10-20T13:10:00.656247Z",
     "shell.execute_reply": "2023-10-20T13:10:00.655137Z"
    },
    "papermill": {
     "duration": 0.016727,
     "end_time": "2023-10-20T13:10:00.658728",
     "exception": false,
     "start_time": "2023-10-20T13:10:00.642001",
     "status": "completed"
    },
    "tags": []
   },
   "outputs": [],
   "source": [
    "submission_df = test_df[['Id']]"
   ]
  },
  {
   "cell_type": "markdown",
   "id": "9fae6620",
   "metadata": {
    "papermill": {
     "duration": 0.005605,
     "end_time": "2023-10-20T13:10:00.670133",
     "exception": false,
     "start_time": "2023-10-20T13:10:00.664528",
     "status": "completed"
    },
    "tags": []
   },
   "source": [
    "Preprocess and get model outputs on test_df"
   ]
  },
  {
   "cell_type": "code",
   "execution_count": 14,
   "id": "1ab3fe44",
   "metadata": {
    "execution": {
     "iopub.execute_input": "2023-10-20T13:10:00.683265Z",
     "iopub.status.busy": "2023-10-20T13:10:00.682623Z",
     "iopub.status.idle": "2023-10-20T13:10:00.693692Z",
     "shell.execute_reply": "2023-10-20T13:10:00.692195Z"
    },
    "papermill": {
     "duration": 0.022631,
     "end_time": "2023-10-20T13:10:00.698348",
     "exception": false,
     "start_time": "2023-10-20T13:10:00.675717",
     "status": "completed"
    },
    "tags": []
   },
   "outputs": [],
   "source": [
    "test_df = preprocess_dataset(test_df)\n",
    "test_predictions = lr_model.predict(test_df)"
   ]
  },
  {
   "cell_type": "markdown",
   "id": "d09cf6cd",
   "metadata": {
    "papermill": {
     "duration": 0.015389,
     "end_time": "2023-10-20T13:10:00.729755",
     "exception": false,
     "start_time": "2023-10-20T13:10:00.714366",
     "status": "completed"
    },
    "tags": []
   },
   "source": [
    "## Create submission"
   ]
  },
  {
   "cell_type": "code",
   "execution_count": 15,
   "id": "59ad4212",
   "metadata": {
    "execution": {
     "iopub.execute_input": "2023-10-20T13:10:00.770358Z",
     "iopub.status.busy": "2023-10-20T13:10:00.769154Z",
     "iopub.status.idle": "2023-10-20T13:10:00.780404Z",
     "shell.execute_reply": "2023-10-20T13:10:00.779199Z"
    },
    "papermill": {
     "duration": 0.037181,
     "end_time": "2023-10-20T13:10:00.783904",
     "exception": false,
     "start_time": "2023-10-20T13:10:00.746723",
     "status": "completed"
    },
    "tags": []
   },
   "outputs": [],
   "source": [
    "submission_df['SalePrice'] = test_predictions\n",
    "submission_df = submission_df.set_index('Id')"
   ]
  },
  {
   "cell_type": "code",
   "execution_count": 16,
   "id": "ab1b0eef",
   "metadata": {
    "execution": {
     "iopub.execute_input": "2023-10-20T13:10:00.816005Z",
     "iopub.status.busy": "2023-10-20T13:10:00.815617Z",
     "iopub.status.idle": "2023-10-20T13:10:00.827876Z",
     "shell.execute_reply": "2023-10-20T13:10:00.826993Z"
    },
    "papermill": {
     "duration": 0.029113,
     "end_time": "2023-10-20T13:10:00.830242",
     "exception": false,
     "start_time": "2023-10-20T13:10:00.801129",
     "status": "completed"
    },
    "tags": []
   },
   "outputs": [],
   "source": [
    "submission = submission_df.to_csv(\"submission.csv\", encoding='utf-8')"
   ]
  },
  {
   "cell_type": "code",
   "execution_count": 17,
   "id": "94d25109",
   "metadata": {
    "execution": {
     "iopub.execute_input": "2023-10-20T13:10:00.844225Z",
     "iopub.status.busy": "2023-10-20T13:10:00.843498Z",
     "iopub.status.idle": "2023-10-20T13:10:01.961099Z",
     "shell.execute_reply": "2023-10-20T13:10:01.959553Z"
    },
    "papermill": {
     "duration": 1.127634,
     "end_time": "2023-10-20T13:10:01.963773",
     "exception": false,
     "start_time": "2023-10-20T13:10:00.836139",
     "status": "completed"
    },
    "tags": []
   },
   "outputs": [
    {
     "name": "stdout",
     "output_type": "stream",
     "text": [
      "Id,SalePrice\r\n",
      "1461,113551.34784090589\r\n",
      "1462,162274.31213530316\r\n",
      "1463,169718.08463726752\r\n",
      "1464,197301.3970510217\r\n",
      "1465,194225.2973980892\r\n",
      "1466,181430.23410332948\r\n",
      "1467,198248.679912759\r\n",
      "1468,167304.9167380873\r\n",
      "1469,206222.83761178958\r\n"
     ]
    }
   ],
   "source": [
    "!head submission.csv"
   ]
  }
 ],
 "metadata": {
  "kernelspec": {
   "display_name": "Python 3",
   "language": "python",
   "name": "python3"
  },
  "language_info": {
   "codemirror_mode": {
    "name": "ipython",
    "version": 3
   },
   "file_extension": ".py",
   "mimetype": "text/x-python",
   "name": "python",
   "nbconvert_exporter": "python",
   "pygments_lexer": "ipython3",
   "version": "3.10.12"
  },
  "papermill": {
   "default_parameters": {},
   "duration": 8.305258,
   "end_time": "2023-10-20T13:10:02.690863",
   "environment_variables": {},
   "exception": null,
   "input_path": "__notebook__.ipynb",
   "output_path": "__notebook__.ipynb",
   "parameters": {},
   "start_time": "2023-10-20T13:09:54.385605",
   "version": "2.4.0"
  }
 },
 "nbformat": 4,
 "nbformat_minor": 5
}

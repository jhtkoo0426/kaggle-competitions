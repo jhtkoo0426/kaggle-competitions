{
 "cells": [
  {
   "cell_type": "markdown",
   "id": "06211e87",
   "metadata": {
    "papermill": {
     "duration": 0.003368,
     "end_time": "2023-10-19T18:00:27.548600",
     "exception": false,
     "start_time": "2023-10-19T18:00:27.545232",
     "status": "completed"
    },
    "tags": []
   },
   "source": [
    "## Import packages"
   ]
  },
  {
   "cell_type": "code",
   "execution_count": 1,
   "id": "b058100b",
   "metadata": {
    "_cell_guid": "b1076dfc-b9ad-4769-8c92-a6c4dae69d19",
    "_uuid": "8f2839f25d086af736a60e9eeb907d3b93b6e0e5",
    "execution": {
     "iopub.execute_input": "2023-10-19T18:00:27.559254Z",
     "iopub.status.busy": "2023-10-19T18:00:27.558032Z",
     "iopub.status.idle": "2023-10-19T18:00:29.472776Z",
     "shell.execute_reply": "2023-10-19T18:00:29.471644Z"
    },
    "papermill": {
     "duration": 1.921677,
     "end_time": "2023-10-19T18:00:29.475398",
     "exception": false,
     "start_time": "2023-10-19T18:00:27.553721",
     "status": "completed"
    },
    "tags": []
   },
   "outputs": [],
   "source": [
    "import numpy as np\n",
    "import pandas as pd\n",
    "import matplotlib.pyplot as plt\n",
    "from sklearn.linear_model import LinearRegression\n",
    "from sklearn.model_selection import train_test_split"
   ]
  },
  {
   "cell_type": "code",
   "execution_count": 2,
   "id": "819b8115",
   "metadata": {
    "execution": {
     "iopub.execute_input": "2023-10-19T18:00:29.483353Z",
     "iopub.status.busy": "2023-10-19T18:00:29.482807Z",
     "iopub.status.idle": "2023-10-19T18:00:29.487888Z",
     "shell.execute_reply": "2023-10-19T18:00:29.486729Z"
    },
    "papermill": {
     "duration": 0.011798,
     "end_time": "2023-10-19T18:00:29.490329",
     "exception": false,
     "start_time": "2023-10-19T18:00:29.478531",
     "status": "completed"
    },
    "tags": []
   },
   "outputs": [],
   "source": [
    "# Fixed variables\n",
    "RANDOM_STATE = 12\n",
    "\n",
    "# Path variables\n",
    "train_csv_path = \"/kaggle/input/house-prices-advanced-regression-techniques/train.csv\"\n",
    "test_csv_path = \"/kaggle/input/house-prices-advanced-regression-techniques/test.csv\""
   ]
  },
  {
   "cell_type": "markdown",
   "id": "af9703fb",
   "metadata": {
    "papermill": {
     "duration": 0.002755,
     "end_time": "2023-10-19T18:00:29.496201",
     "exception": false,
     "start_time": "2023-10-19T18:00:29.493446",
     "status": "completed"
    },
    "tags": []
   },
   "source": [
    "## Data preprocessing"
   ]
  },
  {
   "cell_type": "code",
   "execution_count": 3,
   "id": "83c6d699",
   "metadata": {
    "execution": {
     "iopub.execute_input": "2023-10-19T18:00:29.503627Z",
     "iopub.status.busy": "2023-10-19T18:00:29.503254Z",
     "iopub.status.idle": "2023-10-19T18:00:29.508862Z",
     "shell.execute_reply": "2023-10-19T18:00:29.507535Z"
    },
    "papermill": {
     "duration": 0.012139,
     "end_time": "2023-10-19T18:00:29.511167",
     "exception": false,
     "start_time": "2023-10-19T18:00:29.499028",
     "status": "completed"
    },
    "tags": []
   },
   "outputs": [],
   "source": [
    "def preprocess_dataset(path):\n",
    "    data = pd.read_csv(path)\n",
    "    drop_columns = ['Id', 'Alley', 'PoolQC', 'Fence', 'MiscFeature']\n",
    "    data = data.drop(columns=drop_columns)\n",
    "    return data"
   ]
  },
  {
   "cell_type": "code",
   "execution_count": 4,
   "id": "757971e8",
   "metadata": {
    "execution": {
     "iopub.execute_input": "2023-10-19T18:00:29.519256Z",
     "iopub.status.busy": "2023-10-19T18:00:29.518844Z",
     "iopub.status.idle": "2023-10-19T18:00:29.619997Z",
     "shell.execute_reply": "2023-10-19T18:00:29.618811Z"
    },
    "papermill": {
     "duration": 0.107649,
     "end_time": "2023-10-19T18:00:29.622110",
     "exception": false,
     "start_time": "2023-10-19T18:00:29.514461",
     "status": "completed"
    },
    "tags": []
   },
   "outputs": [
    {
     "data": {
      "text/html": [
       "<div>\n",
       "<style scoped>\n",
       "    .dataframe tbody tr th:only-of-type {\n",
       "        vertical-align: middle;\n",
       "    }\n",
       "\n",
       "    .dataframe tbody tr th {\n",
       "        vertical-align: top;\n",
       "    }\n",
       "\n",
       "    .dataframe thead th {\n",
       "        text-align: right;\n",
       "    }\n",
       "</style>\n",
       "<table border=\"1\" class=\"dataframe\">\n",
       "  <thead>\n",
       "    <tr style=\"text-align: right;\">\n",
       "      <th></th>\n",
       "      <th>MSSubClass</th>\n",
       "      <th>MSZoning</th>\n",
       "      <th>LotFrontage</th>\n",
       "      <th>LotArea</th>\n",
       "      <th>Street</th>\n",
       "      <th>LotShape</th>\n",
       "      <th>LandContour</th>\n",
       "      <th>Utilities</th>\n",
       "      <th>LotConfig</th>\n",
       "      <th>LandSlope</th>\n",
       "      <th>...</th>\n",
       "      <th>EnclosedPorch</th>\n",
       "      <th>3SsnPorch</th>\n",
       "      <th>ScreenPorch</th>\n",
       "      <th>PoolArea</th>\n",
       "      <th>MiscVal</th>\n",
       "      <th>MoSold</th>\n",
       "      <th>YrSold</th>\n",
       "      <th>SaleType</th>\n",
       "      <th>SaleCondition</th>\n",
       "      <th>SalePrice</th>\n",
       "    </tr>\n",
       "  </thead>\n",
       "  <tbody>\n",
       "    <tr>\n",
       "      <th>0</th>\n",
       "      <td>60</td>\n",
       "      <td>RL</td>\n",
       "      <td>65.0</td>\n",
       "      <td>8450</td>\n",
       "      <td>Pave</td>\n",
       "      <td>Reg</td>\n",
       "      <td>Lvl</td>\n",
       "      <td>AllPub</td>\n",
       "      <td>Inside</td>\n",
       "      <td>Gtl</td>\n",
       "      <td>...</td>\n",
       "      <td>0</td>\n",
       "      <td>0</td>\n",
       "      <td>0</td>\n",
       "      <td>0</td>\n",
       "      <td>0</td>\n",
       "      <td>2</td>\n",
       "      <td>2008</td>\n",
       "      <td>WD</td>\n",
       "      <td>Normal</td>\n",
       "      <td>208500</td>\n",
       "    </tr>\n",
       "    <tr>\n",
       "      <th>1</th>\n",
       "      <td>20</td>\n",
       "      <td>RL</td>\n",
       "      <td>80.0</td>\n",
       "      <td>9600</td>\n",
       "      <td>Pave</td>\n",
       "      <td>Reg</td>\n",
       "      <td>Lvl</td>\n",
       "      <td>AllPub</td>\n",
       "      <td>FR2</td>\n",
       "      <td>Gtl</td>\n",
       "      <td>...</td>\n",
       "      <td>0</td>\n",
       "      <td>0</td>\n",
       "      <td>0</td>\n",
       "      <td>0</td>\n",
       "      <td>0</td>\n",
       "      <td>5</td>\n",
       "      <td>2007</td>\n",
       "      <td>WD</td>\n",
       "      <td>Normal</td>\n",
       "      <td>181500</td>\n",
       "    </tr>\n",
       "    <tr>\n",
       "      <th>2</th>\n",
       "      <td>60</td>\n",
       "      <td>RL</td>\n",
       "      <td>68.0</td>\n",
       "      <td>11250</td>\n",
       "      <td>Pave</td>\n",
       "      <td>IR1</td>\n",
       "      <td>Lvl</td>\n",
       "      <td>AllPub</td>\n",
       "      <td>Inside</td>\n",
       "      <td>Gtl</td>\n",
       "      <td>...</td>\n",
       "      <td>0</td>\n",
       "      <td>0</td>\n",
       "      <td>0</td>\n",
       "      <td>0</td>\n",
       "      <td>0</td>\n",
       "      <td>9</td>\n",
       "      <td>2008</td>\n",
       "      <td>WD</td>\n",
       "      <td>Normal</td>\n",
       "      <td>223500</td>\n",
       "    </tr>\n",
       "    <tr>\n",
       "      <th>3</th>\n",
       "      <td>70</td>\n",
       "      <td>RL</td>\n",
       "      <td>60.0</td>\n",
       "      <td>9550</td>\n",
       "      <td>Pave</td>\n",
       "      <td>IR1</td>\n",
       "      <td>Lvl</td>\n",
       "      <td>AllPub</td>\n",
       "      <td>Corner</td>\n",
       "      <td>Gtl</td>\n",
       "      <td>...</td>\n",
       "      <td>272</td>\n",
       "      <td>0</td>\n",
       "      <td>0</td>\n",
       "      <td>0</td>\n",
       "      <td>0</td>\n",
       "      <td>2</td>\n",
       "      <td>2006</td>\n",
       "      <td>WD</td>\n",
       "      <td>Abnorml</td>\n",
       "      <td>140000</td>\n",
       "    </tr>\n",
       "    <tr>\n",
       "      <th>4</th>\n",
       "      <td>60</td>\n",
       "      <td>RL</td>\n",
       "      <td>84.0</td>\n",
       "      <td>14260</td>\n",
       "      <td>Pave</td>\n",
       "      <td>IR1</td>\n",
       "      <td>Lvl</td>\n",
       "      <td>AllPub</td>\n",
       "      <td>FR2</td>\n",
       "      <td>Gtl</td>\n",
       "      <td>...</td>\n",
       "      <td>0</td>\n",
       "      <td>0</td>\n",
       "      <td>0</td>\n",
       "      <td>0</td>\n",
       "      <td>0</td>\n",
       "      <td>12</td>\n",
       "      <td>2008</td>\n",
       "      <td>WD</td>\n",
       "      <td>Normal</td>\n",
       "      <td>250000</td>\n",
       "    </tr>\n",
       "  </tbody>\n",
       "</table>\n",
       "<p>5 rows × 76 columns</p>\n",
       "</div>"
      ],
      "text/plain": [
       "   MSSubClass MSZoning  LotFrontage  LotArea Street LotShape LandContour  \\\n",
       "0          60       RL         65.0     8450   Pave      Reg         Lvl   \n",
       "1          20       RL         80.0     9600   Pave      Reg         Lvl   \n",
       "2          60       RL         68.0    11250   Pave      IR1         Lvl   \n",
       "3          70       RL         60.0     9550   Pave      IR1         Lvl   \n",
       "4          60       RL         84.0    14260   Pave      IR1         Lvl   \n",
       "\n",
       "  Utilities LotConfig LandSlope  ... EnclosedPorch 3SsnPorch ScreenPorch  \\\n",
       "0    AllPub    Inside       Gtl  ...             0         0           0   \n",
       "1    AllPub       FR2       Gtl  ...             0         0           0   \n",
       "2    AllPub    Inside       Gtl  ...             0         0           0   \n",
       "3    AllPub    Corner       Gtl  ...           272         0           0   \n",
       "4    AllPub       FR2       Gtl  ...             0         0           0   \n",
       "\n",
       "  PoolArea MiscVal  MoSold  YrSold  SaleType  SaleCondition SalePrice  \n",
       "0        0       0       2    2008        WD         Normal    208500  \n",
       "1        0       0       5    2007        WD         Normal    181500  \n",
       "2        0       0       9    2008        WD         Normal    223500  \n",
       "3        0       0       2    2006        WD        Abnorml    140000  \n",
       "4        0       0      12    2008        WD         Normal    250000  \n",
       "\n",
       "[5 rows x 76 columns]"
      ]
     },
     "execution_count": 4,
     "metadata": {},
     "output_type": "execute_result"
    }
   ],
   "source": [
    "df = preprocess_dataset(train_csv_path)\n",
    "df.head()"
   ]
  },
  {
   "cell_type": "markdown",
   "id": "b81f4538",
   "metadata": {
    "papermill": {
     "duration": 0.003843,
     "end_time": "2023-10-19T18:00:29.629466",
     "exception": false,
     "start_time": "2023-10-19T18:00:29.625623",
     "status": "completed"
    },
    "tags": []
   },
   "source": [
    "## Partitioning the dataset"
   ]
  },
  {
   "cell_type": "code",
   "execution_count": 5,
   "id": "a4390208",
   "metadata": {
    "execution": {
     "iopub.execute_input": "2023-10-19T18:00:29.638632Z",
     "iopub.status.busy": "2023-10-19T18:00:29.637655Z",
     "iopub.status.idle": "2023-10-19T18:00:29.645718Z",
     "shell.execute_reply": "2023-10-19T18:00:29.644500Z"
    },
    "papermill": {
     "duration": 0.015333,
     "end_time": "2023-10-19T18:00:29.648095",
     "exception": false,
     "start_time": "2023-10-19T18:00:29.632762",
     "status": "completed"
    },
    "tags": []
   },
   "outputs": [],
   "source": [
    "X = df.drop(columns=['SalePrice'])\n",
    "Y = df['SalePrice']"
   ]
  },
  {
   "cell_type": "code",
   "execution_count": 6,
   "id": "e224e39e",
   "metadata": {
    "execution": {
     "iopub.execute_input": "2023-10-19T18:00:29.658129Z",
     "iopub.status.busy": "2023-10-19T18:00:29.657597Z",
     "iopub.status.idle": "2023-10-19T18:00:29.673532Z",
     "shell.execute_reply": "2023-10-19T18:00:29.672401Z"
    },
    "papermill": {
     "duration": 0.024138,
     "end_time": "2023-10-19T18:00:29.675856",
     "exception": false,
     "start_time": "2023-10-19T18:00:29.651718",
     "status": "completed"
    },
    "tags": []
   },
   "outputs": [
    {
     "data": {
      "text/plain": [
       "((1168, 75), (292, 75), (1168,), (292,))"
      ]
     },
     "execution_count": 6,
     "metadata": {},
     "output_type": "execute_result"
    }
   ],
   "source": [
    "X_train, X_test, Y_train, Y_test = train_test_split(X, Y, test_size=0.2, random_state=RANDOM_STATE)\n",
    "X_train.shape, X_test.shape, Y_train.shape, Y_test.shape"
   ]
  },
  {
   "cell_type": "markdown",
   "id": "9875845d",
   "metadata": {
    "papermill": {
     "duration": 0.003268,
     "end_time": "2023-10-19T18:00:29.683609",
     "exception": false,
     "start_time": "2023-10-19T18:00:29.680341",
     "status": "completed"
    },
    "tags": []
   },
   "source": [
    "## Model training"
   ]
  },
  {
   "cell_type": "code",
   "execution_count": 7,
   "id": "116deadc",
   "metadata": {
    "execution": {
     "iopub.execute_input": "2023-10-19T18:00:29.693593Z",
     "iopub.status.busy": "2023-10-19T18:00:29.693078Z",
     "iopub.status.idle": "2023-10-19T18:00:29.698173Z",
     "shell.execute_reply": "2023-10-19T18:00:29.696804Z"
    },
    "papermill": {
     "duration": 0.013897,
     "end_time": "2023-10-19T18:00:29.701483",
     "exception": false,
     "start_time": "2023-10-19T18:00:29.687586",
     "status": "completed"
    },
    "tags": []
   },
   "outputs": [],
   "source": [
    "# lr_model = LinearRegression().fit(X_train, Y_train)\n",
    "# predictions = lr_model.predict(X_test)"
   ]
  },
  {
   "cell_type": "code",
   "execution_count": 8,
   "id": "2ca69baf",
   "metadata": {
    "execution": {
     "iopub.execute_input": "2023-10-19T18:00:29.711095Z",
     "iopub.status.busy": "2023-10-19T18:00:29.710558Z",
     "iopub.status.idle": "2023-10-19T18:00:29.716305Z",
     "shell.execute_reply": "2023-10-19T18:00:29.715142Z"
    },
    "papermill": {
     "duration": 0.013734,
     "end_time": "2023-10-19T18:00:29.718819",
     "exception": false,
     "start_time": "2023-10-19T18:00:29.705085",
     "status": "completed"
    },
    "tags": []
   },
   "outputs": [],
   "source": [
    "from sklearn.metrics import r2_score"
   ]
  }
 ],
 "metadata": {
  "kernelspec": {
   "display_name": "Python 3",
   "language": "python",
   "name": "python3"
  },
  "language_info": {
   "codemirror_mode": {
    "name": "ipython",
    "version": 3
   },
   "file_extension": ".py",
   "mimetype": "text/x-python",
   "name": "python",
   "nbconvert_exporter": "python",
   "pygments_lexer": "ipython3",
   "version": "3.10.12"
  },
  "papermill": {
   "default_parameters": {},
   "duration": 6.087516,
   "end_time": "2023-10-19T18:00:30.344504",
   "environment_variables": {},
   "exception": null,
   "input_path": "__notebook__.ipynb",
   "output_path": "__notebook__.ipynb",
   "parameters": {},
   "start_time": "2023-10-19T18:00:24.256988",
   "version": "2.4.0"
  }
 },
 "nbformat": 4,
 "nbformat_minor": 5
}

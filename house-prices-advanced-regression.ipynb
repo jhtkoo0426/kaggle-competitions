{
 "cells": [
  {
   "cell_type": "markdown",
   "id": "64ffca78",
   "metadata": {
    "papermill": {
     "duration": 0.007669,
     "end_time": "2023-10-30T20:23:06.683002",
     "exception": false,
     "start_time": "2023-10-30T20:23:06.675333",
     "status": "completed"
    },
    "tags": []
   },
   "source": [
    "# Import required packages and datasets"
   ]
  },
  {
   "cell_type": "code",
   "execution_count": 1,
   "id": "1fbf5eb6",
   "metadata": {
    "execution": {
     "iopub.execute_input": "2023-10-30T20:23:06.699883Z",
     "iopub.status.busy": "2023-10-30T20:23:06.699407Z",
     "iopub.status.idle": "2023-10-30T20:23:10.453191Z",
     "shell.execute_reply": "2023-10-30T20:23:10.451925Z"
    },
    "papermill": {
     "duration": 3.765167,
     "end_time": "2023-10-30T20:23:10.455597",
     "exception": false,
     "start_time": "2023-10-30T20:23:06.690430",
     "status": "completed"
    },
    "tags": []
   },
   "outputs": [],
   "source": [
    "import pandas as pd\n",
    "import numpy as np\n",
    "import matplotlib.pyplot as plt\n",
    "import seaborn as sns\n",
    "\n",
    "from sklearn.base import TransformerMixin, BaseEstimator\n",
    "from sklearn.linear_model import LinearRegression, Ridge\n",
    "from sklearn.metrics import mean_squared_error\n",
    "from sklearn.model_selection import train_test_split\n",
    "from sklearn.neighbors import KNeighborsRegressor\n",
    "from sklearn.pipeline import Pipeline\n",
    "from sklearn.preprocessing import LabelEncoder\n",
    "from xgboost import XGBRegressor, DMatrix\n",
    "from lightgbm import LGBMRegressor\n",
    "from catboost import CatBoostRegressor"
   ]
  },
  {
   "cell_type": "code",
   "execution_count": 2,
   "id": "248d2cc0",
   "metadata": {
    "execution": {
     "iopub.execute_input": "2023-10-30T20:23:10.472005Z",
     "iopub.status.busy": "2023-10-30T20:23:10.471696Z",
     "iopub.status.idle": "2023-10-30T20:23:10.475794Z",
     "shell.execute_reply": "2023-10-30T20:23:10.474698Z"
    },
    "papermill": {
     "duration": 0.01455,
     "end_time": "2023-10-30T20:23:10.477729",
     "exception": false,
     "start_time": "2023-10-30T20:23:10.463179",
     "status": "completed"
    },
    "tags": []
   },
   "outputs": [],
   "source": [
    "TRAIN_DATASET_PATH = \"/kaggle/input/house-prices-advanced-regression-techniques/train.csv\"\n",
    "TEST_DATASET_PATH = \"/kaggle/input/house-prices-advanced-regression-techniques/test.csv\""
   ]
  },
  {
   "cell_type": "markdown",
   "id": "c1e6dd20",
   "metadata": {
    "papermill": {
     "duration": 0.007236,
     "end_time": "2023-10-30T20:23:10.492498",
     "exception": false,
     "start_time": "2023-10-30T20:23:10.485262",
     "status": "completed"
    },
    "tags": []
   },
   "source": [
    "# Load and preview dataset"
   ]
  },
  {
   "cell_type": "code",
   "execution_count": 3,
   "id": "00157218",
   "metadata": {
    "execution": {
     "iopub.execute_input": "2023-10-30T20:23:10.509503Z",
     "iopub.status.busy": "2023-10-30T20:23:10.509145Z",
     "iopub.status.idle": "2023-10-30T20:23:10.587476Z",
     "shell.execute_reply": "2023-10-30T20:23:10.586075Z"
    },
    "papermill": {
     "duration": 0.089474,
     "end_time": "2023-10-30T20:23:10.589529",
     "exception": false,
     "start_time": "2023-10-30T20:23:10.500055",
     "status": "completed"
    },
    "tags": []
   },
   "outputs": [
    {
     "data": {
      "text/html": [
       "<div>\n",
       "<style scoped>\n",
       "    .dataframe tbody tr th:only-of-type {\n",
       "        vertical-align: middle;\n",
       "    }\n",
       "\n",
       "    .dataframe tbody tr th {\n",
       "        vertical-align: top;\n",
       "    }\n",
       "\n",
       "    .dataframe thead th {\n",
       "        text-align: right;\n",
       "    }\n",
       "</style>\n",
       "<table border=\"1\" class=\"dataframe\">\n",
       "  <thead>\n",
       "    <tr style=\"text-align: right;\">\n",
       "      <th></th>\n",
       "      <th>Id</th>\n",
       "      <th>MSSubClass</th>\n",
       "      <th>MSZoning</th>\n",
       "      <th>LotFrontage</th>\n",
       "      <th>LotArea</th>\n",
       "      <th>Street</th>\n",
       "      <th>Alley</th>\n",
       "      <th>LotShape</th>\n",
       "      <th>LandContour</th>\n",
       "      <th>Utilities</th>\n",
       "      <th>...</th>\n",
       "      <th>ScreenPorch</th>\n",
       "      <th>PoolArea</th>\n",
       "      <th>PoolQC</th>\n",
       "      <th>Fence</th>\n",
       "      <th>MiscFeature</th>\n",
       "      <th>MiscVal</th>\n",
       "      <th>MoSold</th>\n",
       "      <th>YrSold</th>\n",
       "      <th>SaleType</th>\n",
       "      <th>SaleCondition</th>\n",
       "    </tr>\n",
       "  </thead>\n",
       "  <tbody>\n",
       "    <tr>\n",
       "      <th>0</th>\n",
       "      <td>1</td>\n",
       "      <td>60</td>\n",
       "      <td>RL</td>\n",
       "      <td>65.0</td>\n",
       "      <td>8450</td>\n",
       "      <td>Pave</td>\n",
       "      <td>NaN</td>\n",
       "      <td>Reg</td>\n",
       "      <td>Lvl</td>\n",
       "      <td>AllPub</td>\n",
       "      <td>...</td>\n",
       "      <td>0</td>\n",
       "      <td>0</td>\n",
       "      <td>NaN</td>\n",
       "      <td>NaN</td>\n",
       "      <td>NaN</td>\n",
       "      <td>0</td>\n",
       "      <td>2</td>\n",
       "      <td>2008</td>\n",
       "      <td>WD</td>\n",
       "      <td>Normal</td>\n",
       "    </tr>\n",
       "    <tr>\n",
       "      <th>1</th>\n",
       "      <td>2</td>\n",
       "      <td>20</td>\n",
       "      <td>RL</td>\n",
       "      <td>80.0</td>\n",
       "      <td>9600</td>\n",
       "      <td>Pave</td>\n",
       "      <td>NaN</td>\n",
       "      <td>Reg</td>\n",
       "      <td>Lvl</td>\n",
       "      <td>AllPub</td>\n",
       "      <td>...</td>\n",
       "      <td>0</td>\n",
       "      <td>0</td>\n",
       "      <td>NaN</td>\n",
       "      <td>NaN</td>\n",
       "      <td>NaN</td>\n",
       "      <td>0</td>\n",
       "      <td>5</td>\n",
       "      <td>2007</td>\n",
       "      <td>WD</td>\n",
       "      <td>Normal</td>\n",
       "    </tr>\n",
       "    <tr>\n",
       "      <th>2</th>\n",
       "      <td>3</td>\n",
       "      <td>60</td>\n",
       "      <td>RL</td>\n",
       "      <td>68.0</td>\n",
       "      <td>11250</td>\n",
       "      <td>Pave</td>\n",
       "      <td>NaN</td>\n",
       "      <td>IR1</td>\n",
       "      <td>Lvl</td>\n",
       "      <td>AllPub</td>\n",
       "      <td>...</td>\n",
       "      <td>0</td>\n",
       "      <td>0</td>\n",
       "      <td>NaN</td>\n",
       "      <td>NaN</td>\n",
       "      <td>NaN</td>\n",
       "      <td>0</td>\n",
       "      <td>9</td>\n",
       "      <td>2008</td>\n",
       "      <td>WD</td>\n",
       "      <td>Normal</td>\n",
       "    </tr>\n",
       "    <tr>\n",
       "      <th>3</th>\n",
       "      <td>4</td>\n",
       "      <td>70</td>\n",
       "      <td>RL</td>\n",
       "      <td>60.0</td>\n",
       "      <td>9550</td>\n",
       "      <td>Pave</td>\n",
       "      <td>NaN</td>\n",
       "      <td>IR1</td>\n",
       "      <td>Lvl</td>\n",
       "      <td>AllPub</td>\n",
       "      <td>...</td>\n",
       "      <td>0</td>\n",
       "      <td>0</td>\n",
       "      <td>NaN</td>\n",
       "      <td>NaN</td>\n",
       "      <td>NaN</td>\n",
       "      <td>0</td>\n",
       "      <td>2</td>\n",
       "      <td>2006</td>\n",
       "      <td>WD</td>\n",
       "      <td>Abnorml</td>\n",
       "    </tr>\n",
       "    <tr>\n",
       "      <th>4</th>\n",
       "      <td>5</td>\n",
       "      <td>60</td>\n",
       "      <td>RL</td>\n",
       "      <td>84.0</td>\n",
       "      <td>14260</td>\n",
       "      <td>Pave</td>\n",
       "      <td>NaN</td>\n",
       "      <td>IR1</td>\n",
       "      <td>Lvl</td>\n",
       "      <td>AllPub</td>\n",
       "      <td>...</td>\n",
       "      <td>0</td>\n",
       "      <td>0</td>\n",
       "      <td>NaN</td>\n",
       "      <td>NaN</td>\n",
       "      <td>NaN</td>\n",
       "      <td>0</td>\n",
       "      <td>12</td>\n",
       "      <td>2008</td>\n",
       "      <td>WD</td>\n",
       "      <td>Normal</td>\n",
       "    </tr>\n",
       "  </tbody>\n",
       "</table>\n",
       "<p>5 rows × 80 columns</p>\n",
       "</div>"
      ],
      "text/plain": [
       "   Id  MSSubClass MSZoning  LotFrontage  LotArea Street Alley LotShape  \\\n",
       "0   1          60       RL         65.0     8450   Pave   NaN      Reg   \n",
       "1   2          20       RL         80.0     9600   Pave   NaN      Reg   \n",
       "2   3          60       RL         68.0    11250   Pave   NaN      IR1   \n",
       "3   4          70       RL         60.0     9550   Pave   NaN      IR1   \n",
       "4   5          60       RL         84.0    14260   Pave   NaN      IR1   \n",
       "\n",
       "  LandContour Utilities  ... ScreenPorch PoolArea PoolQC Fence MiscFeature  \\\n",
       "0         Lvl    AllPub  ...           0        0    NaN   NaN         NaN   \n",
       "1         Lvl    AllPub  ...           0        0    NaN   NaN         NaN   \n",
       "2         Lvl    AllPub  ...           0        0    NaN   NaN         NaN   \n",
       "3         Lvl    AllPub  ...           0        0    NaN   NaN         NaN   \n",
       "4         Lvl    AllPub  ...           0        0    NaN   NaN         NaN   \n",
       "\n",
       "  MiscVal MoSold  YrSold  SaleType  SaleCondition  \n",
       "0       0      2    2008        WD         Normal  \n",
       "1       0      5    2007        WD         Normal  \n",
       "2       0      9    2008        WD         Normal  \n",
       "3       0      2    2006        WD        Abnorml  \n",
       "4       0     12    2008        WD         Normal  \n",
       "\n",
       "[5 rows x 80 columns]"
      ]
     },
     "execution_count": 3,
     "metadata": {},
     "output_type": "execute_result"
    }
   ],
   "source": [
    "data = pd.read_csv(TRAIN_DATASET_PATH)\n",
    "prices = data['SalePrice']\n",
    "data = data.drop(columns=['SalePrice'])\n",
    "data.head()"
   ]
  },
  {
   "cell_type": "code",
   "execution_count": 4,
   "id": "6753596c",
   "metadata": {
    "execution": {
     "iopub.execute_input": "2023-10-30T20:23:10.606754Z",
     "iopub.status.busy": "2023-10-30T20:23:10.606399Z",
     "iopub.status.idle": "2023-10-30T20:23:10.633004Z",
     "shell.execute_reply": "2023-10-30T20:23:10.631088Z"
    },
    "papermill": {
     "duration": 0.037957,
     "end_time": "2023-10-30T20:23:10.635321",
     "exception": false,
     "start_time": "2023-10-30T20:23:10.597364",
     "status": "completed"
    },
    "tags": []
   },
   "outputs": [
    {
     "name": "stdout",
     "output_type": "stream",
     "text": [
      "<class 'pandas.core.frame.DataFrame'>\n",
      "RangeIndex: 1460 entries, 0 to 1459\n",
      "Data columns (total 80 columns):\n",
      " #   Column         Non-Null Count  Dtype  \n",
      "---  ------         --------------  -----  \n",
      " 0   Id             1460 non-null   int64  \n",
      " 1   MSSubClass     1460 non-null   int64  \n",
      " 2   MSZoning       1460 non-null   object \n",
      " 3   LotFrontage    1201 non-null   float64\n",
      " 4   LotArea        1460 non-null   int64  \n",
      " 5   Street         1460 non-null   object \n",
      " 6   Alley          91 non-null     object \n",
      " 7   LotShape       1460 non-null   object \n",
      " 8   LandContour    1460 non-null   object \n",
      " 9   Utilities      1460 non-null   object \n",
      " 10  LotConfig      1460 non-null   object \n",
      " 11  LandSlope      1460 non-null   object \n",
      " 12  Neighborhood   1460 non-null   object \n",
      " 13  Condition1     1460 non-null   object \n",
      " 14  Condition2     1460 non-null   object \n",
      " 15  BldgType       1460 non-null   object \n",
      " 16  HouseStyle     1460 non-null   object \n",
      " 17  OverallQual    1460 non-null   int64  \n",
      " 18  OverallCond    1460 non-null   int64  \n",
      " 19  YearBuilt      1460 non-null   int64  \n",
      " 20  YearRemodAdd   1460 non-null   int64  \n",
      " 21  RoofStyle      1460 non-null   object \n",
      " 22  RoofMatl       1460 non-null   object \n",
      " 23  Exterior1st    1460 non-null   object \n",
      " 24  Exterior2nd    1460 non-null   object \n",
      " 25  MasVnrType     588 non-null    object \n",
      " 26  MasVnrArea     1452 non-null   float64\n",
      " 27  ExterQual      1460 non-null   object \n",
      " 28  ExterCond      1460 non-null   object \n",
      " 29  Foundation     1460 non-null   object \n",
      " 30  BsmtQual       1423 non-null   object \n",
      " 31  BsmtCond       1423 non-null   object \n",
      " 32  BsmtExposure   1422 non-null   object \n",
      " 33  BsmtFinType1   1423 non-null   object \n",
      " 34  BsmtFinSF1     1460 non-null   int64  \n",
      " 35  BsmtFinType2   1422 non-null   object \n",
      " 36  BsmtFinSF2     1460 non-null   int64  \n",
      " 37  BsmtUnfSF      1460 non-null   int64  \n",
      " 38  TotalBsmtSF    1460 non-null   int64  \n",
      " 39  Heating        1460 non-null   object \n",
      " 40  HeatingQC      1460 non-null   object \n",
      " 41  CentralAir     1460 non-null   object \n",
      " 42  Electrical     1459 non-null   object \n",
      " 43  1stFlrSF       1460 non-null   int64  \n",
      " 44  2ndFlrSF       1460 non-null   int64  \n",
      " 45  LowQualFinSF   1460 non-null   int64  \n",
      " 46  GrLivArea      1460 non-null   int64  \n",
      " 47  BsmtFullBath   1460 non-null   int64  \n",
      " 48  BsmtHalfBath   1460 non-null   int64  \n",
      " 49  FullBath       1460 non-null   int64  \n",
      " 50  HalfBath       1460 non-null   int64  \n",
      " 51  BedroomAbvGr   1460 non-null   int64  \n",
      " 52  KitchenAbvGr   1460 non-null   int64  \n",
      " 53  KitchenQual    1460 non-null   object \n",
      " 54  TotRmsAbvGrd   1460 non-null   int64  \n",
      " 55  Functional     1460 non-null   object \n",
      " 56  Fireplaces     1460 non-null   int64  \n",
      " 57  FireplaceQu    770 non-null    object \n",
      " 58  GarageType     1379 non-null   object \n",
      " 59  GarageYrBlt    1379 non-null   float64\n",
      " 60  GarageFinish   1379 non-null   object \n",
      " 61  GarageCars     1460 non-null   int64  \n",
      " 62  GarageArea     1460 non-null   int64  \n",
      " 63  GarageQual     1379 non-null   object \n",
      " 64  GarageCond     1379 non-null   object \n",
      " 65  PavedDrive     1460 non-null   object \n",
      " 66  WoodDeckSF     1460 non-null   int64  \n",
      " 67  OpenPorchSF    1460 non-null   int64  \n",
      " 68  EnclosedPorch  1460 non-null   int64  \n",
      " 69  3SsnPorch      1460 non-null   int64  \n",
      " 70  ScreenPorch    1460 non-null   int64  \n",
      " 71  PoolArea       1460 non-null   int64  \n",
      " 72  PoolQC         7 non-null      object \n",
      " 73  Fence          281 non-null    object \n",
      " 74  MiscFeature    54 non-null     object \n",
      " 75  MiscVal        1460 non-null   int64  \n",
      " 76  MoSold         1460 non-null   int64  \n",
      " 77  YrSold         1460 non-null   int64  \n",
      " 78  SaleType       1460 non-null   object \n",
      " 79  SaleCondition  1460 non-null   object \n",
      "dtypes: float64(3), int64(34), object(43)\n",
      "memory usage: 912.6+ KB\n"
     ]
    }
   ],
   "source": [
    "data.info()"
   ]
  },
  {
   "cell_type": "markdown",
   "id": "3ab7c921",
   "metadata": {
    "papermill": {
     "duration": 0.007067,
     "end_time": "2023-10-30T20:23:10.650241",
     "exception": false,
     "start_time": "2023-10-30T20:23:10.643174",
     "status": "completed"
    },
    "tags": []
   },
   "source": [
    "# Data Preprocessing: Handling missing data\n",
    "Upon [inspecting the dataset information](#Load-and-preview-dataset), we notice that some features contain `NaN` values.\n",
    "\n",
    "First, let's identify which features contain `NaN` values and decide how to deal with them, depending on the proportion of missing values."
   ]
  },
  {
   "cell_type": "code",
   "execution_count": 5,
   "id": "72d9ece0",
   "metadata": {
    "execution": {
     "iopub.execute_input": "2023-10-30T20:23:10.666763Z",
     "iopub.status.busy": "2023-10-30T20:23:10.665903Z",
     "iopub.status.idle": "2023-10-30T20:23:10.676561Z",
     "shell.execute_reply": "2023-10-30T20:23:10.675907Z"
    },
    "papermill": {
     "duration": 0.020653,
     "end_time": "2023-10-30T20:23:10.678150",
     "exception": false,
     "start_time": "2023-10-30T20:23:10.657497",
     "status": "completed"
    },
    "tags": []
   },
   "outputs": [
    {
     "data": {
      "text/plain": [
       "PoolQC          99.5205%\n",
       "MiscFeature     96.3014%\n",
       "Alley           93.7671%\n",
       "Fence           80.7534%\n",
       "MasVnrType       59.726%\n",
       "FireplaceQu     47.2603%\n",
       "LotFrontage     17.7397%\n",
       "GarageCond       5.5479%\n",
       "GarageType       5.5479%\n",
       "GarageYrBlt      5.5479%\n",
       "GarageQual       5.5479%\n",
       "GarageFinish     5.5479%\n",
       "BsmtFinType2     2.6027%\n",
       "BsmtExposure     2.6027%\n",
       "BsmtFinType1     2.5342%\n",
       "BsmtCond         2.5342%\n",
       "BsmtQual         2.5342%\n",
       "MasVnrArea       0.5479%\n",
       "Electrical       0.0685%\n",
       "dtype: object"
      ]
     },
     "execution_count": 5,
     "metadata": {},
     "output_type": "execute_result"
    }
   ],
   "source": [
    "null_features = data.isna().mean().sort_values(ascending=False)\n",
    "null_features = null_features[null_features > 0]\n",
    "null_features = null_features.map(lambda x: str(round(x * 100, 4)) + \"%\")\n",
    "null_features"
   ]
  },
  {
   "cell_type": "markdown",
   "id": "85fa97aa",
   "metadata": {
    "papermill": {
     "duration": 0.007317,
     "end_time": "2023-10-30T20:23:10.693276",
     "exception": false,
     "start_time": "2023-10-30T20:23:10.685959",
     "status": "completed"
    },
    "tags": []
   },
   "source": [
    "Some features like `PoolQC` have a majority of `NaN` values. For such columns, we will completely remove them as they do not provide information for our analysis.\n",
    "\n",
    "In addition, the `Id` column is irrelevant to the dataset - we will also remove this column."
   ]
  },
  {
   "cell_type": "code",
   "execution_count": 6,
   "id": "b71dad8e",
   "metadata": {
    "execution": {
     "iopub.execute_input": "2023-10-30T20:23:10.710704Z",
     "iopub.status.busy": "2023-10-30T20:23:10.709750Z",
     "iopub.status.idle": "2023-10-30T20:23:10.714167Z",
     "shell.execute_reply": "2023-10-30T20:23:10.713179Z"
    },
    "papermill": {
     "duration": 0.015124,
     "end_time": "2023-10-30T20:23:10.715894",
     "exception": false,
     "start_time": "2023-10-30T20:23:10.700770",
     "status": "completed"
    },
    "tags": []
   },
   "outputs": [],
   "source": [
    "drop_features = ['Id', 'PoolQC', 'MiscFeature', 'Alley', 'Fence', 'MasVnrType', 'FireplaceQu']"
   ]
  },
  {
   "cell_type": "code",
   "execution_count": 7,
   "id": "8e487d2f",
   "metadata": {
    "execution": {
     "iopub.execute_input": "2023-10-30T20:23:10.732889Z",
     "iopub.status.busy": "2023-10-30T20:23:10.731993Z",
     "iopub.status.idle": "2023-10-30T20:23:10.753069Z",
     "shell.execute_reply": "2023-10-30T20:23:10.752053Z"
    },
    "papermill": {
     "duration": 0.03164,
     "end_time": "2023-10-30T20:23:10.755108",
     "exception": false,
     "start_time": "2023-10-30T20:23:10.723468",
     "status": "completed"
    },
    "tags": []
   },
   "outputs": [
    {
     "data": {
      "text/html": [
       "<div>\n",
       "<style scoped>\n",
       "    .dataframe tbody tr th:only-of-type {\n",
       "        vertical-align: middle;\n",
       "    }\n",
       "\n",
       "    .dataframe tbody tr th {\n",
       "        vertical-align: top;\n",
       "    }\n",
       "\n",
       "    .dataframe thead th {\n",
       "        text-align: right;\n",
       "    }\n",
       "</style>\n",
       "<table border=\"1\" class=\"dataframe\">\n",
       "  <thead>\n",
       "    <tr style=\"text-align: right;\">\n",
       "      <th></th>\n",
       "      <th>MSSubClass</th>\n",
       "      <th>MSZoning</th>\n",
       "      <th>LotFrontage</th>\n",
       "      <th>LotArea</th>\n",
       "      <th>Street</th>\n",
       "      <th>LotShape</th>\n",
       "      <th>LandContour</th>\n",
       "      <th>Utilities</th>\n",
       "      <th>LotConfig</th>\n",
       "      <th>LandSlope</th>\n",
       "      <th>...</th>\n",
       "      <th>OpenPorchSF</th>\n",
       "      <th>EnclosedPorch</th>\n",
       "      <th>3SsnPorch</th>\n",
       "      <th>ScreenPorch</th>\n",
       "      <th>PoolArea</th>\n",
       "      <th>MiscVal</th>\n",
       "      <th>MoSold</th>\n",
       "      <th>YrSold</th>\n",
       "      <th>SaleType</th>\n",
       "      <th>SaleCondition</th>\n",
       "    </tr>\n",
       "  </thead>\n",
       "  <tbody>\n",
       "    <tr>\n",
       "      <th>0</th>\n",
       "      <td>60</td>\n",
       "      <td>RL</td>\n",
       "      <td>65.0</td>\n",
       "      <td>8450</td>\n",
       "      <td>Pave</td>\n",
       "      <td>Reg</td>\n",
       "      <td>Lvl</td>\n",
       "      <td>AllPub</td>\n",
       "      <td>Inside</td>\n",
       "      <td>Gtl</td>\n",
       "      <td>...</td>\n",
       "      <td>61</td>\n",
       "      <td>0</td>\n",
       "      <td>0</td>\n",
       "      <td>0</td>\n",
       "      <td>0</td>\n",
       "      <td>0</td>\n",
       "      <td>2</td>\n",
       "      <td>2008</td>\n",
       "      <td>WD</td>\n",
       "      <td>Normal</td>\n",
       "    </tr>\n",
       "    <tr>\n",
       "      <th>1</th>\n",
       "      <td>20</td>\n",
       "      <td>RL</td>\n",
       "      <td>80.0</td>\n",
       "      <td>9600</td>\n",
       "      <td>Pave</td>\n",
       "      <td>Reg</td>\n",
       "      <td>Lvl</td>\n",
       "      <td>AllPub</td>\n",
       "      <td>FR2</td>\n",
       "      <td>Gtl</td>\n",
       "      <td>...</td>\n",
       "      <td>0</td>\n",
       "      <td>0</td>\n",
       "      <td>0</td>\n",
       "      <td>0</td>\n",
       "      <td>0</td>\n",
       "      <td>0</td>\n",
       "      <td>5</td>\n",
       "      <td>2007</td>\n",
       "      <td>WD</td>\n",
       "      <td>Normal</td>\n",
       "    </tr>\n",
       "    <tr>\n",
       "      <th>2</th>\n",
       "      <td>60</td>\n",
       "      <td>RL</td>\n",
       "      <td>68.0</td>\n",
       "      <td>11250</td>\n",
       "      <td>Pave</td>\n",
       "      <td>IR1</td>\n",
       "      <td>Lvl</td>\n",
       "      <td>AllPub</td>\n",
       "      <td>Inside</td>\n",
       "      <td>Gtl</td>\n",
       "      <td>...</td>\n",
       "      <td>42</td>\n",
       "      <td>0</td>\n",
       "      <td>0</td>\n",
       "      <td>0</td>\n",
       "      <td>0</td>\n",
       "      <td>0</td>\n",
       "      <td>9</td>\n",
       "      <td>2008</td>\n",
       "      <td>WD</td>\n",
       "      <td>Normal</td>\n",
       "    </tr>\n",
       "    <tr>\n",
       "      <th>3</th>\n",
       "      <td>70</td>\n",
       "      <td>RL</td>\n",
       "      <td>60.0</td>\n",
       "      <td>9550</td>\n",
       "      <td>Pave</td>\n",
       "      <td>IR1</td>\n",
       "      <td>Lvl</td>\n",
       "      <td>AllPub</td>\n",
       "      <td>Corner</td>\n",
       "      <td>Gtl</td>\n",
       "      <td>...</td>\n",
       "      <td>35</td>\n",
       "      <td>272</td>\n",
       "      <td>0</td>\n",
       "      <td>0</td>\n",
       "      <td>0</td>\n",
       "      <td>0</td>\n",
       "      <td>2</td>\n",
       "      <td>2006</td>\n",
       "      <td>WD</td>\n",
       "      <td>Abnorml</td>\n",
       "    </tr>\n",
       "    <tr>\n",
       "      <th>4</th>\n",
       "      <td>60</td>\n",
       "      <td>RL</td>\n",
       "      <td>84.0</td>\n",
       "      <td>14260</td>\n",
       "      <td>Pave</td>\n",
       "      <td>IR1</td>\n",
       "      <td>Lvl</td>\n",
       "      <td>AllPub</td>\n",
       "      <td>FR2</td>\n",
       "      <td>Gtl</td>\n",
       "      <td>...</td>\n",
       "      <td>84</td>\n",
       "      <td>0</td>\n",
       "      <td>0</td>\n",
       "      <td>0</td>\n",
       "      <td>0</td>\n",
       "      <td>0</td>\n",
       "      <td>12</td>\n",
       "      <td>2008</td>\n",
       "      <td>WD</td>\n",
       "      <td>Normal</td>\n",
       "    </tr>\n",
       "  </tbody>\n",
       "</table>\n",
       "<p>5 rows × 73 columns</p>\n",
       "</div>"
      ],
      "text/plain": [
       "   MSSubClass MSZoning  LotFrontage  LotArea Street LotShape LandContour  \\\n",
       "0          60       RL         65.0     8450   Pave      Reg         Lvl   \n",
       "1          20       RL         80.0     9600   Pave      Reg         Lvl   \n",
       "2          60       RL         68.0    11250   Pave      IR1         Lvl   \n",
       "3          70       RL         60.0     9550   Pave      IR1         Lvl   \n",
       "4          60       RL         84.0    14260   Pave      IR1         Lvl   \n",
       "\n",
       "  Utilities LotConfig LandSlope  ... OpenPorchSF EnclosedPorch 3SsnPorch  \\\n",
       "0    AllPub    Inside       Gtl  ...          61             0         0   \n",
       "1    AllPub       FR2       Gtl  ...           0             0         0   \n",
       "2    AllPub    Inside       Gtl  ...          42             0         0   \n",
       "3    AllPub    Corner       Gtl  ...          35           272         0   \n",
       "4    AllPub       FR2       Gtl  ...          84             0         0   \n",
       "\n",
       "  ScreenPorch PoolArea  MiscVal  MoSold  YrSold  SaleType SaleCondition  \n",
       "0           0        0        0       2    2008        WD        Normal  \n",
       "1           0        0        0       5    2007        WD        Normal  \n",
       "2           0        0        0       9    2008        WD        Normal  \n",
       "3           0        0        0       2    2006        WD       Abnorml  \n",
       "4           0        0        0      12    2008        WD        Normal  \n",
       "\n",
       "[5 rows x 73 columns]"
      ]
     },
     "execution_count": 7,
     "metadata": {},
     "output_type": "execute_result"
    }
   ],
   "source": [
    "data = data.drop(columns=drop_features, axis=1)\n",
    "data.head()"
   ]
  },
  {
   "cell_type": "markdown",
   "id": "0ccb401a",
   "metadata": {
    "papermill": {
     "duration": 0.007912,
     "end_time": "2023-10-30T20:23:10.771383",
     "exception": false,
     "start_time": "2023-10-30T20:23:10.763471",
     "status": "completed"
    },
    "tags": []
   },
   "source": [
    "Some columns consist of multiple data types. We will detect and investigate these columns."
   ]
  },
  {
   "cell_type": "code",
   "execution_count": 8,
   "id": "05034156",
   "metadata": {
    "execution": {
     "iopub.execute_input": "2023-10-30T20:23:10.789214Z",
     "iopub.status.busy": "2023-10-30T20:23:10.788669Z",
     "iopub.status.idle": "2023-10-30T20:23:10.986139Z",
     "shell.execute_reply": "2023-10-30T20:23:10.985055Z"
    },
    "papermill": {
     "duration": 0.208653,
     "end_time": "2023-10-30T20:23:10.988161",
     "exception": false,
     "start_time": "2023-10-30T20:23:10.779508",
     "status": "completed"
    },
    "tags": []
   },
   "outputs": [
    {
     "name": "stdout",
     "output_type": "stream",
     "text": [
      "LotFrontage [<class 'float'> <class 'str'>]\n",
      "MasVnrArea [<class 'float'> <class 'str'>]\n",
      "GarageYrBlt [<class 'float'> <class 'str'>]\n"
     ]
    },
    {
     "data": {
      "text/html": [
       "<div>\n",
       "<style scoped>\n",
       "    .dataframe tbody tr th:only-of-type {\n",
       "        vertical-align: middle;\n",
       "    }\n",
       "\n",
       "    .dataframe tbody tr th {\n",
       "        vertical-align: top;\n",
       "    }\n",
       "\n",
       "    .dataframe thead th {\n",
       "        text-align: right;\n",
       "    }\n",
       "</style>\n",
       "<table border=\"1\" class=\"dataframe\">\n",
       "  <thead>\n",
       "    <tr style=\"text-align: right;\">\n",
       "      <th></th>\n",
       "      <th>MSSubClass</th>\n",
       "      <th>MSZoning</th>\n",
       "      <th>LotFrontage</th>\n",
       "      <th>LotArea</th>\n",
       "      <th>Street</th>\n",
       "      <th>LotShape</th>\n",
       "      <th>LandContour</th>\n",
       "      <th>Utilities</th>\n",
       "      <th>LotConfig</th>\n",
       "      <th>LandSlope</th>\n",
       "      <th>...</th>\n",
       "      <th>OpenPorchSF</th>\n",
       "      <th>EnclosedPorch</th>\n",
       "      <th>3SsnPorch</th>\n",
       "      <th>ScreenPorch</th>\n",
       "      <th>PoolArea</th>\n",
       "      <th>MiscVal</th>\n",
       "      <th>MoSold</th>\n",
       "      <th>YrSold</th>\n",
       "      <th>SaleType</th>\n",
       "      <th>SaleCondition</th>\n",
       "    </tr>\n",
       "  </thead>\n",
       "  <tbody>\n",
       "    <tr>\n",
       "      <th>0</th>\n",
       "      <td>5</td>\n",
       "      <td>3</td>\n",
       "      <td>36</td>\n",
       "      <td>327</td>\n",
       "      <td>1</td>\n",
       "      <td>3</td>\n",
       "      <td>3</td>\n",
       "      <td>0</td>\n",
       "      <td>4</td>\n",
       "      <td>0</td>\n",
       "      <td>...</td>\n",
       "      <td>49</td>\n",
       "      <td>0</td>\n",
       "      <td>0</td>\n",
       "      <td>0</td>\n",
       "      <td>0</td>\n",
       "      <td>0</td>\n",
       "      <td>1</td>\n",
       "      <td>2</td>\n",
       "      <td>8</td>\n",
       "      <td>4</td>\n",
       "    </tr>\n",
       "    <tr>\n",
       "      <th>1</th>\n",
       "      <td>0</td>\n",
       "      <td>3</td>\n",
       "      <td>51</td>\n",
       "      <td>498</td>\n",
       "      <td>1</td>\n",
       "      <td>3</td>\n",
       "      <td>3</td>\n",
       "      <td>0</td>\n",
       "      <td>2</td>\n",
       "      <td>0</td>\n",
       "      <td>...</td>\n",
       "      <td>0</td>\n",
       "      <td>0</td>\n",
       "      <td>0</td>\n",
       "      <td>0</td>\n",
       "      <td>0</td>\n",
       "      <td>0</td>\n",
       "      <td>4</td>\n",
       "      <td>1</td>\n",
       "      <td>8</td>\n",
       "      <td>4</td>\n",
       "    </tr>\n",
       "    <tr>\n",
       "      <th>2</th>\n",
       "      <td>5</td>\n",
       "      <td>3</td>\n",
       "      <td>39</td>\n",
       "      <td>702</td>\n",
       "      <td>1</td>\n",
       "      <td>0</td>\n",
       "      <td>3</td>\n",
       "      <td>0</td>\n",
       "      <td>4</td>\n",
       "      <td>0</td>\n",
       "      <td>...</td>\n",
       "      <td>30</td>\n",
       "      <td>0</td>\n",
       "      <td>0</td>\n",
       "      <td>0</td>\n",
       "      <td>0</td>\n",
       "      <td>0</td>\n",
       "      <td>8</td>\n",
       "      <td>2</td>\n",
       "      <td>8</td>\n",
       "      <td>4</td>\n",
       "    </tr>\n",
       "    <tr>\n",
       "      <th>3</th>\n",
       "      <td>6</td>\n",
       "      <td>3</td>\n",
       "      <td>31</td>\n",
       "      <td>489</td>\n",
       "      <td>1</td>\n",
       "      <td>0</td>\n",
       "      <td>3</td>\n",
       "      <td>0</td>\n",
       "      <td>0</td>\n",
       "      <td>0</td>\n",
       "      <td>...</td>\n",
       "      <td>24</td>\n",
       "      <td>108</td>\n",
       "      <td>0</td>\n",
       "      <td>0</td>\n",
       "      <td>0</td>\n",
       "      <td>0</td>\n",
       "      <td>1</td>\n",
       "      <td>0</td>\n",
       "      <td>8</td>\n",
       "      <td>0</td>\n",
       "    </tr>\n",
       "    <tr>\n",
       "      <th>4</th>\n",
       "      <td>5</td>\n",
       "      <td>3</td>\n",
       "      <td>55</td>\n",
       "      <td>925</td>\n",
       "      <td>1</td>\n",
       "      <td>0</td>\n",
       "      <td>3</td>\n",
       "      <td>0</td>\n",
       "      <td>2</td>\n",
       "      <td>0</td>\n",
       "      <td>...</td>\n",
       "      <td>70</td>\n",
       "      <td>0</td>\n",
       "      <td>0</td>\n",
       "      <td>0</td>\n",
       "      <td>0</td>\n",
       "      <td>0</td>\n",
       "      <td>11</td>\n",
       "      <td>2</td>\n",
       "      <td>8</td>\n",
       "      <td>4</td>\n",
       "    </tr>\n",
       "  </tbody>\n",
       "</table>\n",
       "<p>5 rows × 73 columns</p>\n",
       "</div>"
      ],
      "text/plain": [
       "   MSSubClass  MSZoning  LotFrontage  LotArea  Street  LotShape  LandContour  \\\n",
       "0           5         3           36      327       1         3            3   \n",
       "1           0         3           51      498       1         3            3   \n",
       "2           5         3           39      702       1         0            3   \n",
       "3           6         3           31      489       1         0            3   \n",
       "4           5         3           55      925       1         0            3   \n",
       "\n",
       "   Utilities  LotConfig  LandSlope  ...  OpenPorchSF  EnclosedPorch  \\\n",
       "0          0          4          0  ...           49              0   \n",
       "1          0          2          0  ...            0              0   \n",
       "2          0          4          0  ...           30              0   \n",
       "3          0          0          0  ...           24            108   \n",
       "4          0          2          0  ...           70              0   \n",
       "\n",
       "   3SsnPorch  ScreenPorch  PoolArea  MiscVal  MoSold  YrSold  SaleType  \\\n",
       "0          0            0         0        0       1       2         8   \n",
       "1          0            0         0        0       4       1         8   \n",
       "2          0            0         0        0       8       2         8   \n",
       "3          0            0         0        0       1       0         8   \n",
       "4          0            0         0        0      11       2         8   \n",
       "\n",
       "   SaleCondition  \n",
       "0              4  \n",
       "1              4  \n",
       "2              4  \n",
       "3              0  \n",
       "4              4  \n",
       "\n",
       "[5 rows x 73 columns]"
      ]
     },
     "execution_count": 8,
     "metadata": {},
     "output_type": "execute_result"
    }
   ],
   "source": [
    "label_encoder = LabelEncoder()\n",
    "for col in list(data.columns):\n",
    "    unique_data_types = data[col].apply(lambda x: x if pd.notnull(x) else 'NaN').apply(type).unique()\n",
    "    if len(unique_data_types) > 1:\n",
    "        print(col, unique_data_types)\n",
    "        string_values = data[data[col].apply(lambda x: isinstance(x, int))][col]\n",
    "    data[col] = label_encoder.fit_transform(data[col])\n",
    "data.head()"
   ]
  },
  {
   "cell_type": "markdown",
   "id": "8898c738",
   "metadata": {
    "papermill": {
     "duration": 0.007974,
     "end_time": "2023-10-30T20:23:11.004703",
     "exception": false,
     "start_time": "2023-10-30T20:23:10.996729",
     "status": "completed"
    },
    "tags": []
   },
   "source": [
    "For features with a relatively low proportion of `NaN` values, we simply replace them with zeros."
   ]
  },
  {
   "cell_type": "code",
   "execution_count": 9,
   "id": "cf72fd25",
   "metadata": {
    "execution": {
     "iopub.execute_input": "2023-10-30T20:23:11.024402Z",
     "iopub.status.busy": "2023-10-30T20:23:11.024051Z",
     "iopub.status.idle": "2023-10-30T20:23:11.043129Z",
     "shell.execute_reply": "2023-10-30T20:23:11.042375Z"
    },
    "papermill": {
     "duration": 0.032195,
     "end_time": "2023-10-30T20:23:11.045072",
     "exception": false,
     "start_time": "2023-10-30T20:23:11.012877",
     "status": "completed"
    },
    "tags": []
   },
   "outputs": [
    {
     "data": {
      "text/html": [
       "<div>\n",
       "<style scoped>\n",
       "    .dataframe tbody tr th:only-of-type {\n",
       "        vertical-align: middle;\n",
       "    }\n",
       "\n",
       "    .dataframe tbody tr th {\n",
       "        vertical-align: top;\n",
       "    }\n",
       "\n",
       "    .dataframe thead th {\n",
       "        text-align: right;\n",
       "    }\n",
       "</style>\n",
       "<table border=\"1\" class=\"dataframe\">\n",
       "  <thead>\n",
       "    <tr style=\"text-align: right;\">\n",
       "      <th></th>\n",
       "      <th>MSSubClass</th>\n",
       "      <th>MSZoning</th>\n",
       "      <th>LotFrontage</th>\n",
       "      <th>LotArea</th>\n",
       "      <th>Street</th>\n",
       "      <th>LotShape</th>\n",
       "      <th>LandContour</th>\n",
       "      <th>Utilities</th>\n",
       "      <th>LotConfig</th>\n",
       "      <th>LandSlope</th>\n",
       "      <th>...</th>\n",
       "      <th>OpenPorchSF</th>\n",
       "      <th>EnclosedPorch</th>\n",
       "      <th>3SsnPorch</th>\n",
       "      <th>ScreenPorch</th>\n",
       "      <th>PoolArea</th>\n",
       "      <th>MiscVal</th>\n",
       "      <th>MoSold</th>\n",
       "      <th>YrSold</th>\n",
       "      <th>SaleType</th>\n",
       "      <th>SaleCondition</th>\n",
       "    </tr>\n",
       "  </thead>\n",
       "  <tbody>\n",
       "    <tr>\n",
       "      <th>0</th>\n",
       "      <td>5</td>\n",
       "      <td>3</td>\n",
       "      <td>36</td>\n",
       "      <td>327</td>\n",
       "      <td>1</td>\n",
       "      <td>3</td>\n",
       "      <td>3</td>\n",
       "      <td>0</td>\n",
       "      <td>4</td>\n",
       "      <td>0</td>\n",
       "      <td>...</td>\n",
       "      <td>49</td>\n",
       "      <td>0</td>\n",
       "      <td>0</td>\n",
       "      <td>0</td>\n",
       "      <td>0</td>\n",
       "      <td>0</td>\n",
       "      <td>1</td>\n",
       "      <td>2</td>\n",
       "      <td>8</td>\n",
       "      <td>4</td>\n",
       "    </tr>\n",
       "    <tr>\n",
       "      <th>1</th>\n",
       "      <td>0</td>\n",
       "      <td>3</td>\n",
       "      <td>51</td>\n",
       "      <td>498</td>\n",
       "      <td>1</td>\n",
       "      <td>3</td>\n",
       "      <td>3</td>\n",
       "      <td>0</td>\n",
       "      <td>2</td>\n",
       "      <td>0</td>\n",
       "      <td>...</td>\n",
       "      <td>0</td>\n",
       "      <td>0</td>\n",
       "      <td>0</td>\n",
       "      <td>0</td>\n",
       "      <td>0</td>\n",
       "      <td>0</td>\n",
       "      <td>4</td>\n",
       "      <td>1</td>\n",
       "      <td>8</td>\n",
       "      <td>4</td>\n",
       "    </tr>\n",
       "    <tr>\n",
       "      <th>2</th>\n",
       "      <td>5</td>\n",
       "      <td>3</td>\n",
       "      <td>39</td>\n",
       "      <td>702</td>\n",
       "      <td>1</td>\n",
       "      <td>0</td>\n",
       "      <td>3</td>\n",
       "      <td>0</td>\n",
       "      <td>4</td>\n",
       "      <td>0</td>\n",
       "      <td>...</td>\n",
       "      <td>30</td>\n",
       "      <td>0</td>\n",
       "      <td>0</td>\n",
       "      <td>0</td>\n",
       "      <td>0</td>\n",
       "      <td>0</td>\n",
       "      <td>8</td>\n",
       "      <td>2</td>\n",
       "      <td>8</td>\n",
       "      <td>4</td>\n",
       "    </tr>\n",
       "    <tr>\n",
       "      <th>3</th>\n",
       "      <td>6</td>\n",
       "      <td>3</td>\n",
       "      <td>31</td>\n",
       "      <td>489</td>\n",
       "      <td>1</td>\n",
       "      <td>0</td>\n",
       "      <td>3</td>\n",
       "      <td>0</td>\n",
       "      <td>0</td>\n",
       "      <td>0</td>\n",
       "      <td>...</td>\n",
       "      <td>24</td>\n",
       "      <td>108</td>\n",
       "      <td>0</td>\n",
       "      <td>0</td>\n",
       "      <td>0</td>\n",
       "      <td>0</td>\n",
       "      <td>1</td>\n",
       "      <td>0</td>\n",
       "      <td>8</td>\n",
       "      <td>0</td>\n",
       "    </tr>\n",
       "    <tr>\n",
       "      <th>4</th>\n",
       "      <td>5</td>\n",
       "      <td>3</td>\n",
       "      <td>55</td>\n",
       "      <td>925</td>\n",
       "      <td>1</td>\n",
       "      <td>0</td>\n",
       "      <td>3</td>\n",
       "      <td>0</td>\n",
       "      <td>2</td>\n",
       "      <td>0</td>\n",
       "      <td>...</td>\n",
       "      <td>70</td>\n",
       "      <td>0</td>\n",
       "      <td>0</td>\n",
       "      <td>0</td>\n",
       "      <td>0</td>\n",
       "      <td>0</td>\n",
       "      <td>11</td>\n",
       "      <td>2</td>\n",
       "      <td>8</td>\n",
       "      <td>4</td>\n",
       "    </tr>\n",
       "  </tbody>\n",
       "</table>\n",
       "<p>5 rows × 73 columns</p>\n",
       "</div>"
      ],
      "text/plain": [
       "   MSSubClass  MSZoning  LotFrontage  LotArea  Street  LotShape  LandContour  \\\n",
       "0           5         3           36      327       1         3            3   \n",
       "1           0         3           51      498       1         3            3   \n",
       "2           5         3           39      702       1         0            3   \n",
       "3           6         3           31      489       1         0            3   \n",
       "4           5         3           55      925       1         0            3   \n",
       "\n",
       "   Utilities  LotConfig  LandSlope  ...  OpenPorchSF  EnclosedPorch  \\\n",
       "0          0          4          0  ...           49              0   \n",
       "1          0          2          0  ...            0              0   \n",
       "2          0          4          0  ...           30              0   \n",
       "3          0          0          0  ...           24            108   \n",
       "4          0          2          0  ...           70              0   \n",
       "\n",
       "   3SsnPorch  ScreenPorch  PoolArea  MiscVal  MoSold  YrSold  SaleType  \\\n",
       "0          0            0         0        0       1       2         8   \n",
       "1          0            0         0        0       4       1         8   \n",
       "2          0            0         0        0       8       2         8   \n",
       "3          0            0         0        0       1       0         8   \n",
       "4          0            0         0        0      11       2         8   \n",
       "\n",
       "   SaleCondition  \n",
       "0              4  \n",
       "1              4  \n",
       "2              4  \n",
       "3              0  \n",
       "4              4  \n",
       "\n",
       "[5 rows x 73 columns]"
      ]
     },
     "execution_count": 9,
     "metadata": {},
     "output_type": "execute_result"
    }
   ],
   "source": [
    "data = data.fillna(0)\n",
    "data.head()"
   ]
  },
  {
   "cell_type": "markdown",
   "id": "46fa98dc",
   "metadata": {
    "papermill": {
     "duration": 0.008755,
     "end_time": "2023-10-30T20:23:11.063065",
     "exception": false,
     "start_time": "2023-10-30T20:23:11.054310",
     "status": "completed"
    },
    "tags": []
   },
   "source": [
    "We create our first pipeline class as follows for processing `NaN` values:"
   ]
  },
  {
   "cell_type": "code",
   "execution_count": 10,
   "id": "f914db6a",
   "metadata": {
    "execution": {
     "iopub.execute_input": "2023-10-30T20:23:11.082909Z",
     "iopub.status.busy": "2023-10-30T20:23:11.082518Z",
     "iopub.status.idle": "2023-10-30T20:23:11.090423Z",
     "shell.execute_reply": "2023-10-30T20:23:11.089384Z"
    },
    "papermill": {
     "duration": 0.020717,
     "end_time": "2023-10-30T20:23:11.092824",
     "exception": false,
     "start_time": "2023-10-30T20:23:11.072107",
     "status": "completed"
    },
    "tags": []
   },
   "outputs": [],
   "source": [
    "class ProcessNullValues(TransformerMixin, BaseEstimator):\n",
    "    def fit(self, X, y=None):\n",
    "        return self\n",
    "    \n",
    "    def transform(self, X, y=None):\n",
    "        drop_features = ['Id', 'PoolQC', 'MiscFeature', 'Alley', 'Fence', 'MasVnrType', 'FireplaceQu']\n",
    "        X = X.drop(columns=drop_features)\n",
    "        \n",
    "        label_encoder = LabelEncoder()\n",
    "        for col in list(X.columns):\n",
    "            unique_data_types = X[col].apply(lambda x: x if pd.notnull(x) else 'NaN').apply(type).unique()\n",
    "            if len(unique_data_types) > 1:\n",
    "                string_values = X[X[col].apply(lambda x: isinstance(x, int))][col]\n",
    "            X[col] = label_encoder.fit_transform(X[col])\n",
    "        \n",
    "        X = X.fillna(0)\n",
    "        return X"
   ]
  },
  {
   "cell_type": "markdown",
   "id": "3c927bba",
   "metadata": {
    "papermill": {
     "duration": 0.008226,
     "end_time": "2023-10-30T20:23:11.110052",
     "exception": false,
     "start_time": "2023-10-30T20:23:11.101826",
     "status": "completed"
    },
    "tags": []
   },
   "source": [
    "# Data Preprocessing: Encoding categorical features\n",
    "Upon [inspecting the dataset information](#Load-and-preview-dataset), we notice that some features are categorical (non-numerical). These features must be processed beforehand.\n",
    "\n",
    "Note that some features such as `KitchenQual` assign ordinal quality ratings (better quality = better rating). Some machine learning models can handle ordinal categorical data even if you don't encode them in a specific order. For instance, decision trees and random forests can naturally split and make decisions based on ordinal features without explicitly specifying an order."
   ]
  },
  {
   "cell_type": "markdown",
   "id": "d5cb919b",
   "metadata": {
    "papermill": {
     "duration": 0.00826,
     "end_time": "2023-10-30T20:23:11.126793",
     "exception": false,
     "start_time": "2023-10-30T20:23:11.118533",
     "status": "completed"
    },
    "tags": []
   },
   "source": [
    "Let's first identify all categorical columns."
   ]
  },
  {
   "cell_type": "code",
   "execution_count": 11,
   "id": "c33cdc50",
   "metadata": {
    "execution": {
     "iopub.execute_input": "2023-10-30T20:23:11.145391Z",
     "iopub.status.busy": "2023-10-30T20:23:11.145044Z",
     "iopub.status.idle": "2023-10-30T20:23:11.151484Z",
     "shell.execute_reply": "2023-10-30T20:23:11.150594Z"
    },
    "papermill": {
     "duration": 0.018243,
     "end_time": "2023-10-30T20:23:11.153430",
     "exception": false,
     "start_time": "2023-10-30T20:23:11.135187",
     "status": "completed"
    },
    "tags": []
   },
   "outputs": [
    {
     "data": {
      "text/plain": [
       "Index([], dtype='object')"
      ]
     },
     "execution_count": 11,
     "metadata": {},
     "output_type": "execute_result"
    }
   ],
   "source": [
    "categorical_columns = data.select_dtypes(include=['object']).columns\n",
    "categorical_columns"
   ]
  },
  {
   "cell_type": "markdown",
   "id": "e0cbbc9c",
   "metadata": {
    "papermill": {
     "duration": 0.008282,
     "end_time": "2023-10-30T20:23:11.170854",
     "exception": false,
     "start_time": "2023-10-30T20:23:11.162572",
     "status": "completed"
    },
    "tags": []
   },
   "source": [
    "# Data Preprocessing: Outliers"
   ]
  },
  {
   "cell_type": "code",
   "execution_count": 12,
   "id": "c17631a2",
   "metadata": {
    "execution": {
     "iopub.execute_input": "2023-10-30T20:23:11.189790Z",
     "iopub.status.busy": "2023-10-30T20:23:11.189398Z",
     "iopub.status.idle": "2023-10-30T20:23:11.196231Z",
     "shell.execute_reply": "2023-10-30T20:23:11.195253Z"
    },
    "papermill": {
     "duration": 0.018493,
     "end_time": "2023-10-30T20:23:11.197842",
     "exception": false,
     "start_time": "2023-10-30T20:23:11.179349",
     "status": "completed"
    },
    "tags": []
   },
   "outputs": [],
   "source": [
    "class RemoveOutliers(TransformerMixin, BaseEstimator):\n",
    "    def fit(self, X, y=None):\n",
    "        return self\n",
    "    \n",
    "    def transform(self, X, y=None):\n",
    "        X = X.copy()\n",
    "        numrical_col = X.select_dtypes(np.number).columns\n",
    "        for column in numrical_col :\n",
    "            # To Find IQR\n",
    "            percentile25 = X[column].quantile(0.25)\n",
    "            percentile75 = X[column].quantile(0.75)\n",
    "            iqr = percentile75 - percentile25\n",
    "            upper_limit = percentile75 + 1.5 * iqr\n",
    "            lower_limit = percentile25 - 1.5 * iqr\n",
    "            X[column] = np.where(\n",
    "                X[column] > upper_limit,\n",
    "                upper_limit,\n",
    "                np.where(\n",
    "                    X[column] < lower_limit,\n",
    "                    lower_limit,\n",
    "                    X[column]\n",
    "                )\n",
    "            )\n",
    "        return X"
   ]
  },
  {
   "cell_type": "markdown",
   "id": "05b241d0",
   "metadata": {
    "papermill": {
     "duration": 0.008303,
     "end_time": "2023-10-30T20:23:11.215015",
     "exception": false,
     "start_time": "2023-10-30T20:23:11.206712",
     "status": "completed"
    },
    "tags": []
   },
   "source": [
    "# Feature correlation analysis\n",
    "In this section, we discover any correlations between features, as well as dominant features that are highly-correlated with the housing sales prices."
   ]
  },
  {
   "cell_type": "markdown",
   "id": "a84916fb",
   "metadata": {
    "papermill": {
     "duration": 0.008492,
     "end_time": "2023-10-30T20:23:11.232295",
     "exception": false,
     "start_time": "2023-10-30T20:23:11.223803",
     "status": "completed"
    },
    "tags": []
   },
   "source": [
    "## Correlations between features"
   ]
  },
  {
   "cell_type": "code",
   "execution_count": 13,
   "id": "d52681a2",
   "metadata": {
    "execution": {
     "iopub.execute_input": "2023-10-30T20:23:11.303439Z",
     "iopub.status.busy": "2023-10-30T20:23:11.302814Z",
     "iopub.status.idle": "2023-10-30T20:23:11.306829Z",
     "shell.execute_reply": "2023-10-30T20:23:11.305742Z"
    },
    "papermill": {
     "duration": 0.016412,
     "end_time": "2023-10-30T20:23:11.308495",
     "exception": false,
     "start_time": "2023-10-30T20:23:11.292083",
     "status": "completed"
    },
    "tags": []
   },
   "outputs": [],
   "source": [
    "# feature_correlation = data.corr()\n",
    "# plt.figure(figsize=(16, 10))\n",
    "# sns.heatmap(data=feature_correlation, annot=True)"
   ]
  },
  {
   "cell_type": "markdown",
   "id": "e38cc9c9",
   "metadata": {
    "papermill": {
     "duration": 0.008289,
     "end_time": "2023-10-30T20:23:11.325803",
     "exception": false,
     "start_time": "2023-10-30T20:23:11.317514",
     "status": "completed"
    },
    "tags": []
   },
   "source": [
    "## Correlations between features and housing sales prices"
   ]
  },
  {
   "cell_type": "code",
   "execution_count": 14,
   "id": "300575f8",
   "metadata": {
    "execution": {
     "iopub.execute_input": "2023-10-30T20:23:11.346775Z",
     "iopub.status.busy": "2023-10-30T20:23:11.346192Z",
     "iopub.status.idle": "2023-10-30T20:23:11.350096Z",
     "shell.execute_reply": "2023-10-30T20:23:11.349388Z"
    },
    "papermill": {
     "duration": 0.016097,
     "end_time": "2023-10-30T20:23:11.352157",
     "exception": false,
     "start_time": "2023-10-30T20:23:11.336060",
     "status": "completed"
    },
    "tags": []
   },
   "outputs": [],
   "source": [
    "# correlation_data = data.corr()['SalePrice']\n",
    "# correlation_df = pd.DataFrame({'Feature': correlation_data.index, 'Correlation': correlation_data.values})\n",
    "# correlation_df = correlation_df.sort_values(by='Correlation', ascending=False)\n",
    "# correlation_df.reset_index(drop=True, inplace=True)\n",
    "# correlation_df.head()"
   ]
  },
  {
   "cell_type": "markdown",
   "id": "00d29d58",
   "metadata": {
    "papermill": {
     "duration": 0.008746,
     "end_time": "2023-10-30T20:23:11.370223",
     "exception": false,
     "start_time": "2023-10-30T20:23:11.361477",
     "status": "completed"
    },
    "tags": []
   },
   "source": [
    "# Baseline model: linear regression\n",
    "We will examine the performance of a simple LR model to serve as a baseline reference for model selection and optimization."
   ]
  },
  {
   "cell_type": "code",
   "execution_count": 15,
   "id": "b2a1c88d",
   "metadata": {
    "execution": {
     "iopub.execute_input": "2023-10-30T20:23:11.390411Z",
     "iopub.status.busy": "2023-10-30T20:23:11.389842Z",
     "iopub.status.idle": "2023-10-30T20:23:11.406837Z",
     "shell.execute_reply": "2023-10-30T20:23:11.405907Z"
    },
    "papermill": {
     "duration": 0.029727,
     "end_time": "2023-10-30T20:23:11.409086",
     "exception": false,
     "start_time": "2023-10-30T20:23:11.379359",
     "status": "completed"
    },
    "tags": []
   },
   "outputs": [
    {
     "data": {
      "text/html": [
       "<div>\n",
       "<style scoped>\n",
       "    .dataframe tbody tr th:only-of-type {\n",
       "        vertical-align: middle;\n",
       "    }\n",
       "\n",
       "    .dataframe tbody tr th {\n",
       "        vertical-align: top;\n",
       "    }\n",
       "\n",
       "    .dataframe thead th {\n",
       "        text-align: right;\n",
       "    }\n",
       "</style>\n",
       "<table border=\"1\" class=\"dataframe\">\n",
       "  <thead>\n",
       "    <tr style=\"text-align: right;\">\n",
       "      <th></th>\n",
       "      <th>MSSubClass</th>\n",
       "      <th>MSZoning</th>\n",
       "      <th>LotFrontage</th>\n",
       "      <th>LotArea</th>\n",
       "      <th>Street</th>\n",
       "      <th>LotShape</th>\n",
       "      <th>LandContour</th>\n",
       "      <th>Utilities</th>\n",
       "      <th>LotConfig</th>\n",
       "      <th>LandSlope</th>\n",
       "      <th>...</th>\n",
       "      <th>OpenPorchSF</th>\n",
       "      <th>EnclosedPorch</th>\n",
       "      <th>3SsnPorch</th>\n",
       "      <th>ScreenPorch</th>\n",
       "      <th>PoolArea</th>\n",
       "      <th>MiscVal</th>\n",
       "      <th>MoSold</th>\n",
       "      <th>YrSold</th>\n",
       "      <th>SaleType</th>\n",
       "      <th>SaleCondition</th>\n",
       "    </tr>\n",
       "  </thead>\n",
       "  <tbody>\n",
       "    <tr>\n",
       "      <th>0</th>\n",
       "      <td>5</td>\n",
       "      <td>3</td>\n",
       "      <td>36</td>\n",
       "      <td>327</td>\n",
       "      <td>1</td>\n",
       "      <td>3</td>\n",
       "      <td>3</td>\n",
       "      <td>0</td>\n",
       "      <td>4</td>\n",
       "      <td>0</td>\n",
       "      <td>...</td>\n",
       "      <td>49</td>\n",
       "      <td>0</td>\n",
       "      <td>0</td>\n",
       "      <td>0</td>\n",
       "      <td>0</td>\n",
       "      <td>0</td>\n",
       "      <td>1</td>\n",
       "      <td>2</td>\n",
       "      <td>8</td>\n",
       "      <td>4</td>\n",
       "    </tr>\n",
       "    <tr>\n",
       "      <th>1</th>\n",
       "      <td>0</td>\n",
       "      <td>3</td>\n",
       "      <td>51</td>\n",
       "      <td>498</td>\n",
       "      <td>1</td>\n",
       "      <td>3</td>\n",
       "      <td>3</td>\n",
       "      <td>0</td>\n",
       "      <td>2</td>\n",
       "      <td>0</td>\n",
       "      <td>...</td>\n",
       "      <td>0</td>\n",
       "      <td>0</td>\n",
       "      <td>0</td>\n",
       "      <td>0</td>\n",
       "      <td>0</td>\n",
       "      <td>0</td>\n",
       "      <td>4</td>\n",
       "      <td>1</td>\n",
       "      <td>8</td>\n",
       "      <td>4</td>\n",
       "    </tr>\n",
       "    <tr>\n",
       "      <th>2</th>\n",
       "      <td>5</td>\n",
       "      <td>3</td>\n",
       "      <td>39</td>\n",
       "      <td>702</td>\n",
       "      <td>1</td>\n",
       "      <td>0</td>\n",
       "      <td>3</td>\n",
       "      <td>0</td>\n",
       "      <td>4</td>\n",
       "      <td>0</td>\n",
       "      <td>...</td>\n",
       "      <td>30</td>\n",
       "      <td>0</td>\n",
       "      <td>0</td>\n",
       "      <td>0</td>\n",
       "      <td>0</td>\n",
       "      <td>0</td>\n",
       "      <td>8</td>\n",
       "      <td>2</td>\n",
       "      <td>8</td>\n",
       "      <td>4</td>\n",
       "    </tr>\n",
       "    <tr>\n",
       "      <th>3</th>\n",
       "      <td>6</td>\n",
       "      <td>3</td>\n",
       "      <td>31</td>\n",
       "      <td>489</td>\n",
       "      <td>1</td>\n",
       "      <td>0</td>\n",
       "      <td>3</td>\n",
       "      <td>0</td>\n",
       "      <td>0</td>\n",
       "      <td>0</td>\n",
       "      <td>...</td>\n",
       "      <td>24</td>\n",
       "      <td>108</td>\n",
       "      <td>0</td>\n",
       "      <td>0</td>\n",
       "      <td>0</td>\n",
       "      <td>0</td>\n",
       "      <td>1</td>\n",
       "      <td>0</td>\n",
       "      <td>8</td>\n",
       "      <td>0</td>\n",
       "    </tr>\n",
       "    <tr>\n",
       "      <th>4</th>\n",
       "      <td>5</td>\n",
       "      <td>3</td>\n",
       "      <td>55</td>\n",
       "      <td>925</td>\n",
       "      <td>1</td>\n",
       "      <td>0</td>\n",
       "      <td>3</td>\n",
       "      <td>0</td>\n",
       "      <td>2</td>\n",
       "      <td>0</td>\n",
       "      <td>...</td>\n",
       "      <td>70</td>\n",
       "      <td>0</td>\n",
       "      <td>0</td>\n",
       "      <td>0</td>\n",
       "      <td>0</td>\n",
       "      <td>0</td>\n",
       "      <td>11</td>\n",
       "      <td>2</td>\n",
       "      <td>8</td>\n",
       "      <td>4</td>\n",
       "    </tr>\n",
       "  </tbody>\n",
       "</table>\n",
       "<p>5 rows × 73 columns</p>\n",
       "</div>"
      ],
      "text/plain": [
       "   MSSubClass  MSZoning  LotFrontage  LotArea  Street  LotShape  LandContour  \\\n",
       "0           5         3           36      327       1         3            3   \n",
       "1           0         3           51      498       1         3            3   \n",
       "2           5         3           39      702       1         0            3   \n",
       "3           6         3           31      489       1         0            3   \n",
       "4           5         3           55      925       1         0            3   \n",
       "\n",
       "   Utilities  LotConfig  LandSlope  ...  OpenPorchSF  EnclosedPorch  \\\n",
       "0          0          4          0  ...           49              0   \n",
       "1          0          2          0  ...            0              0   \n",
       "2          0          4          0  ...           30              0   \n",
       "3          0          0          0  ...           24            108   \n",
       "4          0          2          0  ...           70              0   \n",
       "\n",
       "   3SsnPorch  ScreenPorch  PoolArea  MiscVal  MoSold  YrSold  SaleType  \\\n",
       "0          0            0         0        0       1       2         8   \n",
       "1          0            0         0        0       4       1         8   \n",
       "2          0            0         0        0       8       2         8   \n",
       "3          0            0         0        0       1       0         8   \n",
       "4          0            0         0        0      11       2         8   \n",
       "\n",
       "   SaleCondition  \n",
       "0              4  \n",
       "1              4  \n",
       "2              4  \n",
       "3              0  \n",
       "4              4  \n",
       "\n",
       "[5 rows x 73 columns]"
      ]
     },
     "execution_count": 15,
     "metadata": {},
     "output_type": "execute_result"
    }
   ],
   "source": [
    "data = data.fillna(0)\n",
    "data.head()"
   ]
  },
  {
   "cell_type": "code",
   "execution_count": 16,
   "id": "98e13e73",
   "metadata": {
    "execution": {
     "iopub.execute_input": "2023-10-30T20:23:11.429495Z",
     "iopub.status.busy": "2023-10-30T20:23:11.429108Z",
     "iopub.status.idle": "2023-10-30T20:23:11.439875Z",
     "shell.execute_reply": "2023-10-30T20:23:11.439054Z"
    },
    "papermill": {
     "duration": 0.023003,
     "end_time": "2023-10-30T20:23:11.441948",
     "exception": false,
     "start_time": "2023-10-30T20:23:11.418945",
     "status": "completed"
    },
    "tags": []
   },
   "outputs": [],
   "source": [
    "X_train, X_test, y_train, y_test = train_test_split(data, prices, test_size=0.2, random_state=42)"
   ]
  },
  {
   "cell_type": "code",
   "execution_count": 17,
   "id": "d2103034",
   "metadata": {
    "execution": {
     "iopub.execute_input": "2023-10-30T20:23:11.463311Z",
     "iopub.status.busy": "2023-10-30T20:23:11.462398Z",
     "iopub.status.idle": "2023-10-30T20:23:11.510831Z",
     "shell.execute_reply": "2023-10-30T20:23:11.509653Z"
    },
    "papermill": {
     "duration": 0.061152,
     "end_time": "2023-10-30T20:23:11.512883",
     "exception": false,
     "start_time": "2023-10-30T20:23:11.451731",
     "status": "completed"
    },
    "tags": []
   },
   "outputs": [
    {
     "name": "stdout",
     "output_type": "stream",
     "text": [
      "Linear regression model loss: 1244618207.2241457\n"
     ]
    }
   ],
   "source": [
    "lr_model = LinearRegression().fit(X_train, y_train)\n",
    "lr_predictions = lr_model.predict(X_test)\n",
    "print(f\"Linear regression model loss: {mean_squared_error(y_test, lr_predictions)}\")"
   ]
  },
  {
   "cell_type": "markdown",
   "id": "f3ce112f",
   "metadata": {
    "papermill": {
     "duration": 0.03007,
     "end_time": "2023-10-30T20:23:11.568678",
     "exception": false,
     "start_time": "2023-10-30T20:23:11.538608",
     "status": "completed"
    },
    "tags": []
   },
   "source": [
    "# Testing other models"
   ]
  },
  {
   "cell_type": "code",
   "execution_count": 18,
   "id": "7cc15b03",
   "metadata": {
    "execution": {
     "iopub.execute_input": "2023-10-30T20:23:11.616663Z",
     "iopub.status.busy": "2023-10-30T20:23:11.616298Z",
     "iopub.status.idle": "2023-10-30T20:23:11.623369Z",
     "shell.execute_reply": "2023-10-30T20:23:11.622471Z"
    },
    "papermill": {
     "duration": 0.030678,
     "end_time": "2023-10-30T20:23:11.625161",
     "exception": false,
     "start_time": "2023-10-30T20:23:11.594483",
     "status": "completed"
    },
    "tags": []
   },
   "outputs": [],
   "source": [
    "def train_models(X_train, X_test, y_train, y_test):\n",
    "    model_dict = {\n",
    "        \"linear\": LinearRegression(),\n",
    "        \"Ridge\": Ridge(alpha=0.2),\n",
    "        \"KNN\": KNeighborsRegressor(n_jobs=-1, n_neighbors=4),\n",
    "        \"XGB\": XGBRegressor(random_state=42),\n",
    "        \"light\": LGBMRegressor(random_state=42),\n",
    "        \"Cat\": CatBoostRegressor(random_state=42, loss_function='RMSE', verbose=False)\n",
    "    }\n",
    "    \n",
    "    best_model = None\n",
    "    best_loss = float('inf')\n",
    "\n",
    "    for model_name, model in model_dict.items() :\n",
    "        model.fit(X_train, y_train)\n",
    "        pred = model.predict(X_test)\n",
    "        loss = mean_squared_error(y_test, pred, squared=False)\n",
    "        print(f\"Training loss for model {model_name}: {loss}\")\n",
    "        if loss < best_loss:\n",
    "            best_loss = loss\n",
    "            best_model = model\n",
    "    return best_model"
   ]
  },
  {
   "cell_type": "code",
   "execution_count": 19,
   "id": "037e55a3",
   "metadata": {
    "execution": {
     "iopub.execute_input": "2023-10-30T20:23:11.645858Z",
     "iopub.status.busy": "2023-10-30T20:23:11.645517Z",
     "iopub.status.idle": "2023-10-30T20:23:15.745301Z",
     "shell.execute_reply": "2023-10-30T20:23:15.743792Z"
    },
    "papermill": {
     "duration": 4.112726,
     "end_time": "2023-10-30T20:23:15.747505",
     "exception": false,
     "start_time": "2023-10-30T20:23:11.634779",
     "status": "completed"
    },
    "tags": []
   },
   "outputs": [
    {
     "name": "stdout",
     "output_type": "stream",
     "text": [
      "Training loss for model linear: 35279.14691746593\n",
      "Training loss for model Ridge: 35280.81555701966\n",
      "Training loss for model KNN: 40185.12525217462\n",
      "Training loss for model XGB: 25805.03193665173\n",
      "Training loss for model light: 28969.764574625173\n",
      "Training loss for model Cat: 27462.72044148159\n"
     ]
    }
   ],
   "source": [
    "model = train_models(X_train, X_test, y_train, y_test)"
   ]
  },
  {
   "cell_type": "markdown",
   "id": "a3251733",
   "metadata": {
    "papermill": {
     "duration": 0.009235,
     "end_time": "2023-10-30T20:23:15.766412",
     "exception": false,
     "start_time": "2023-10-30T20:23:15.757177",
     "status": "completed"
    },
    "tags": []
   },
   "source": [
    "# Create pipeline for submission"
   ]
  },
  {
   "cell_type": "code",
   "execution_count": 20,
   "id": "8de3a41d",
   "metadata": {
    "execution": {
     "iopub.execute_input": "2023-10-30T20:23:15.787009Z",
     "iopub.status.busy": "2023-10-30T20:23:15.786704Z",
     "iopub.status.idle": "2023-10-30T20:23:15.791944Z",
     "shell.execute_reply": "2023-10-30T20:23:15.790926Z"
    },
    "papermill": {
     "duration": 0.017925,
     "end_time": "2023-10-30T20:23:15.793836",
     "exception": false,
     "start_time": "2023-10-30T20:23:15.775911",
     "status": "completed"
    },
    "tags": []
   },
   "outputs": [],
   "source": [
    "pipeline = Pipeline([\n",
    "    ('clean', ProcessNullValues()),\n",
    "    ('outlier', RemoveOutliers()),\n",
    "])"
   ]
  },
  {
   "cell_type": "markdown",
   "id": "a8017305",
   "metadata": {
    "papermill": {
     "duration": 0.009649,
     "end_time": "2023-10-30T20:23:15.813147",
     "exception": false,
     "start_time": "2023-10-30T20:23:15.803498",
     "status": "completed"
    },
    "tags": []
   },
   "source": [
    "# Submission"
   ]
  },
  {
   "cell_type": "code",
   "execution_count": 21,
   "id": "9f58c845",
   "metadata": {
    "execution": {
     "iopub.execute_input": "2023-10-30T20:23:15.833878Z",
     "iopub.status.busy": "2023-10-30T20:23:15.833534Z",
     "iopub.status.idle": "2023-10-30T20:23:15.868020Z",
     "shell.execute_reply": "2023-10-30T20:23:15.866847Z"
    },
    "papermill": {
     "duration": 0.047332,
     "end_time": "2023-10-30T20:23:15.870280",
     "exception": false,
     "start_time": "2023-10-30T20:23:15.822948",
     "status": "completed"
    },
    "tags": []
   },
   "outputs": [],
   "source": [
    "test_dataset = pd.read_csv(TEST_DATASET_PATH)\n",
    "submission = test_dataset[['Id']]"
   ]
  },
  {
   "cell_type": "code",
   "execution_count": 22,
   "id": "e81a2b92",
   "metadata": {
    "execution": {
     "iopub.execute_input": "2023-10-30T20:23:15.892601Z",
     "iopub.status.busy": "2023-10-30T20:23:15.892277Z",
     "iopub.status.idle": "2023-10-30T20:23:16.184272Z",
     "shell.execute_reply": "2023-10-30T20:23:16.183242Z"
    },
    "papermill": {
     "duration": 0.306373,
     "end_time": "2023-10-30T20:23:16.186445",
     "exception": false,
     "start_time": "2023-10-30T20:23:15.880072",
     "status": "completed"
    },
    "tags": []
   },
   "outputs": [],
   "source": [
    "test_dataset = pipeline.fit_transform(test_dataset)"
   ]
  },
  {
   "cell_type": "code",
   "execution_count": 23,
   "id": "d63fc5d8",
   "metadata": {
    "execution": {
     "iopub.execute_input": "2023-10-30T20:23:16.206912Z",
     "iopub.status.busy": "2023-10-30T20:23:16.206585Z",
     "iopub.status.idle": "2023-10-30T20:23:16.224529Z",
     "shell.execute_reply": "2023-10-30T20:23:16.222977Z"
    },
    "papermill": {
     "duration": 0.030888,
     "end_time": "2023-10-30T20:23:16.226851",
     "exception": false,
     "start_time": "2023-10-30T20:23:16.195963",
     "status": "completed"
    },
    "tags": []
   },
   "outputs": [
    {
     "data": {
      "text/plain": [
       "array([120401.16 , 154942.42 , 194544.11 , ..., 165169.64 , 111368.234,\n",
       "       226243.44 ], dtype=float32)"
      ]
     },
     "execution_count": 23,
     "metadata": {},
     "output_type": "execute_result"
    }
   ],
   "source": [
    "test_predictions = model.predict(test_dataset)\n",
    "test_predictions"
   ]
  },
  {
   "cell_type": "code",
   "execution_count": 24,
   "id": "276119ea",
   "metadata": {
    "execution": {
     "iopub.execute_input": "2023-10-30T20:23:16.248696Z",
     "iopub.status.busy": "2023-10-30T20:23:16.248335Z",
     "iopub.status.idle": "2023-10-30T20:23:16.259562Z",
     "shell.execute_reply": "2023-10-30T20:23:16.258675Z"
    },
    "papermill": {
     "duration": 0.025479,
     "end_time": "2023-10-30T20:23:16.262537",
     "exception": false,
     "start_time": "2023-10-30T20:23:16.237058",
     "status": "completed"
    },
    "tags": []
   },
   "outputs": [],
   "source": [
    "submission['SalePrice'] = test_predictions\n",
    "submission = submission.set_index('Id')\n",
    "submission = submission.to_csv(\"submission.csv\", encoding='utf-8')"
   ]
  },
  {
   "cell_type": "code",
   "execution_count": 25,
   "id": "0809d7e6",
   "metadata": {
    "execution": {
     "iopub.execute_input": "2023-10-30T20:23:16.283461Z",
     "iopub.status.busy": "2023-10-30T20:23:16.283053Z",
     "iopub.status.idle": "2023-10-30T20:23:16.594151Z",
     "shell.execute_reply": "2023-10-30T20:23:16.592760Z"
    },
    "papermill": {
     "duration": 0.324172,
     "end_time": "2023-10-30T20:23:16.596498",
     "exception": false,
     "start_time": "2023-10-30T20:23:16.272326",
     "status": "completed"
    },
    "tags": []
   },
   "outputs": [
    {
     "name": "stdout",
     "output_type": "stream",
     "text": [
      "Id,SalePrice\r\n",
      "1461,120401.16\r\n",
      "1462,154942.42\r\n",
      "1463,194544.11\r\n",
      "1464,191183.39\r\n",
      "1465,170991.16\r\n",
      "1466,183316.92\r\n",
      "1467,183702.78\r\n",
      "1468,172497.19\r\n",
      "1469,162050.52\r\n"
     ]
    }
   ],
   "source": [
    "!head submission.csv"
   ]
  }
 ],
 "metadata": {
  "kernelspec": {
   "display_name": "Python 3",
   "language": "python",
   "name": "python3"
  },
  "language_info": {
   "codemirror_mode": {
    "name": "ipython",
    "version": 3
   },
   "file_extension": ".py",
   "mimetype": "text/x-python",
   "name": "python",
   "nbconvert_exporter": "python",
   "pygments_lexer": "ipython3",
   "version": "3.10.12"
  },
  "papermill": {
   "default_parameters": {},
   "duration": 13.451627,
   "end_time": "2023-10-30T20:23:17.328157",
   "environment_variables": {},
   "exception": null,
   "input_path": "__notebook__.ipynb",
   "output_path": "__notebook__.ipynb",
   "parameters": {},
   "start_time": "2023-10-30T20:23:03.876530",
   "version": "2.4.0"
  }
 },
 "nbformat": 4,
 "nbformat_minor": 5
}
